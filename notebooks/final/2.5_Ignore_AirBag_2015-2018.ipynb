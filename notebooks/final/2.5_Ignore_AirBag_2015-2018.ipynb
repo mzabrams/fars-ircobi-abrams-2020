{
 "cells": [
  {
   "cell_type": "markdown",
   "metadata": {
    "papermill": {
     "duration": 0.018011,
     "end_time": "2020-03-31T01:29:48.407648",
     "exception": false,
     "start_time": "2020-03-31T01:29:48.389637",
     "status": "completed"
    },
    "tags": []
   },
   "source": [
    "# 0.0 Final Run Template\n",
    "\n",
    "## Summary\n",
    "Explores a subset of the dataset through a replication of Leonard Evans' 2001 paper on female vs. male fatality risk. \n",
    "\n",
    "## Changes\n",
    "- 1/20/2020 v1.0 Mitchell Abrams\n",
    "- 3/26/2020 v2.0 Mitchell Abrams: update to new loaders, simplify report"
   ]
  },
  {
   "cell_type": "code",
   "execution_count": 1,
   "metadata": {
    "papermill": {
     "duration": 0.034306,
     "end_time": "2020-03-31T01:29:48.459847",
     "exception": false,
     "start_time": "2020-03-31T01:29:48.425541",
     "status": "completed"
    },
    "tags": [
     "parameters"
    ]
   },
   "outputs": [],
   "source": [
    "# These are the parameters for runs with Papermill\n",
    "\n",
    "image_outputs = 'default'\n",
    "\n",
    "merged = None\n",
    "\n",
    "driver_only = False\n",
    "\n",
    "start_year = 1975\n",
    "end_year = 2018\n",
    "\n",
    "final_runs = False,\n",
    "\n",
    "vehicle_types = ['PASSENGER_CAR', 'LIGHT_TRUCK_OR_VAN', 'MOTORCYCLE']\n",
    "\n",
    "base_filter = f\"'PASSENGER_CAR' and (SEX_C != 'Unknown') and (SEX_S != 'Unknown') and \"\\\n",
    "                \"(AGE_C < 99) and (AGE_S < 99)\"\n",
    "\n",
    "subsets = [\n",
    "    {'data': \"SEAT_POS_C == 'Front Seat – Right Side' and \"\n",
    "                     \"RESTRAINTS_C == 'Not Used' and RESTRAINTS_S == 'Not Used'\",\n",
    "     'subject': {'sex': 'SEX_S', 'age': 'AGE_S',\n",
    "                 'dead': 'DEAD_S', 'id': 'PER_ID_S',\n",
    "                 'bin': [15] + [x for x in range(22, 101, 5)]\n",
    "                },\n",
    "     'control': {'sex': 'SEX_C', 'age': 'AGE_C',\n",
    "                 'dead': 'DEAD_C', 'id': 'PER_ID_C',\n",
    "                 'bin': [15, 24, 34, 54, 100]\n",
    "                },\n",
    "     'title': 'Unbelted drivers'\n",
    "    }, #Unbelted drivers\n",
    "    {'data': \"SEAT_POS_C == 'Front Seat – Right Side' and \"\n",
    "             \"RESTRAINTS_C == 'Not Used' and RESTRAINTS_S == 'Not Used'\",\n",
    "     'subject': {'sex': 'SEX_C', 'age': 'AGE_C',\n",
    "                 'dead': 'DEAD_C', 'id': 'PER_ID_C',\n",
    "                 'bin': [x for x in range(0, 101, 5)]\n",
    "                },\n",
    "     'control': {'sex': 'SEX_S', 'age': 'AGE_S',\n",
    "                 'dead': 'DEAD_S', 'id': 'PER_ID_S',\n",
    "                 'bin': [15, 24, 34, 54, 100]\n",
    "                },\n",
    "     'title': 'Unbelted right front passengers'\n",
    "    }, #Unbelted front right passengers\n",
    "    {'data': \"SEAT_POS_C == 'Front Seat – Right Side' and \"\n",
    "             \"RESTRAINTS_C == 'Used' and RESTRAINTS_S == 'Used'\",\n",
    "     'subject': {'sex': 'SEX_S', 'age': 'AGE_S',\n",
    "                 'dead': 'DEAD_S', 'id': 'PER_ID_S',\n",
    "                 'bin': [15] + [x for x in range(22, 101, 5)]\n",
    "                },\n",
    "     'control': {'sex': 'SEX_C', 'age': 'AGE_C',\n",
    "                 'dead': 'DEAD_C', 'id': 'PER_ID_C',\n",
    "                 'bin': [15, 24, 34, 54, 100]\n",
    "                },\n",
    "     'title': 'Belted drivers'\n",
    "    }, #Belted drivers\n",
    "    {'data': \"SEAT_POS_C == 'Front Seat – Right Side' and \"\n",
    "             \"RESTRAINTS_C == 'Used' and RESTRAINTS_S == 'Used'\",\n",
    "     'subject': {'sex': 'SEX_C', 'age': 'AGE_C',\n",
    "                 'dead': 'DEAD_C', 'id': 'PER_ID_C',\n",
    "                 'bin': [x for x in range(0, 101, 5)]\n",
    "                },\n",
    "     'control': {'sex': 'SEX_S', 'age': 'AGE_S',\n",
    "                 'dead': 'DEAD_S', 'id': 'PER_ID_S',\n",
    "                 'bin': [15, 24, 34, 54, 100]\n",
    "                },\n",
    "     'title': 'Belted right front passengers'\n",
    "    }, #Belted front right passengers\n",
    "    {'data': \"SEAT_POS_C == 'Second Seat – Left Side' and \"\n",
    "             \"RESTRAINTS_C == 'Not Used' and RESTRAINTS_S == 'Not Used'\",\n",
    "     'subject': {'sex': 'SEX_C', 'age': 'AGE_C',\n",
    "                 'dead': 'DEAD_C', 'id': 'PER_ID_C',\n",
    "                 'bin': [x for x in range(0, 101, 5)]\n",
    "                },\n",
    "     'control': {'sex': 'SEX_S', 'age': 'AGE_S',\n",
    "                 'dead': 'DEAD_S', 'id': 'PER_ID_S',\n",
    "                 'bin': [15, 24, 34, 54, 100]\n",
    "                },\n",
    "     'title': 'Unbelted left rear passengers'\n",
    "    }, #Unbelted rear left passengers\n",
    "    {'data': \"SEAT_POS_C == 'Second Seat – Right Side' and \"\n",
    "             \"RESTRAINTS_C == 'Not Used' and RESTRAINTS_S == 'Not Used'\",\n",
    "     'subject': {'sex': 'SEX_C', 'age': 'AGE_C',\n",
    "                 'dead': 'DEAD_C', 'id': 'PER_ID_C',\n",
    "                 'bin': [x for x in range(0, 101, 5)]\n",
    "                },\n",
    "     'control': {'sex': 'SEX_S', 'age': 'AGE_S',\n",
    "                 'dead': 'DEAD_S', 'id': 'PER_ID_S',\n",
    "                 'bin': [15, 24, 34, 54, 100]\n",
    "                },\n",
    "     'title': 'Unbelted right rear passengers'\n",
    "    }, #Unbelted rear right passengers\n",
    "]\n",
    "\n",
    "mcycl_subsets = [{'data': \"HELMETED_C == 'Helmeted' and HELMETED_S == 'Helmeted'\",\n",
    "         'subject': {'sex': 'SEX_C', 'age': 'AGE_C',\n",
    "                     'dead': 'DEAD_C', 'id': 'PER_ID_C',\n",
    "                     'bin': [x for x in range(0, 101, 5)]\n",
    "                    },\n",
    "         'control': {'sex': 'SEX_S', 'age': 'AGE_S',\n",
    "                     'dead': 'DEAD_S', 'id': 'PER_ID_S',\n",
    "                     'bin': [15, 24, 34, 54, 100]\n",
    "                    },\n",
    "         'title': 'Helmeted Motorcycle Passenger'\n",
    "        },\n",
    "          {'data': \"HELMETED_C == 'Not Helmeted' and HELMETED_S == 'Not Helmeted'\",\n",
    "         'subject': {'sex': 'SEX_C', 'age': 'AGE_C',\n",
    "                     'dead': 'DEAD_C', 'id': 'PER_ID_C',\n",
    "                     'bin': [x for x in range(0, 101, 5)]\n",
    "                    },\n",
    "         'control': {'sex': 'SEX_S', 'age': 'AGE_S',\n",
    "                     'dead': 'DEAD_S', 'id': 'PER_ID_S',\n",
    "                     'bin': [15, 24, 34, 54, 100]\n",
    "                    },\n",
    "         'title': 'Unhelmeted Motorcycle Passenger'\n",
    "        }]\n"
   ]
  },
  {
   "cell_type": "code",
   "execution_count": 2,
   "metadata": {
    "papermill": {
     "duration": 0.01967,
     "end_time": "2020-03-31T01:29:48.492866",
     "exception": false,
     "start_time": "2020-03-31T01:29:48.473196",
     "status": "completed"
    },
    "tags": [
     "injected-parameters"
    ]
   },
   "outputs": [],
   "source": [
    "# Parameters\n",
    "start_year = 2015\n",
    "end_year = 2018\n",
    "vehicle_types = [\"PASSENGER_CAR\"]\n",
    "base_filter = (\n",
    "    \"(SEX_C != 'Unknown') and (SEX_S != 'Unknown') and (AGE_C < 99) and (AGE_S < 99)\"\n",
    ")\n",
    "merged = \"/Users/mitchell/Documents/000_Biomechanics/Projects/fars-analysis/data/tmp/merged.pkl\"\n",
    "final_runs = True\n",
    "image_outputs = \"2.5 Ignore Airbag 2015-2018\"\n"
   ]
  },
  {
   "cell_type": "code",
   "execution_count": 3,
   "metadata": {
    "papermill": {
     "duration": 0.020419,
     "end_time": "2020-03-31T01:29:48.525850",
     "exception": false,
     "start_time": "2020-03-31T01:29:48.505431",
     "status": "completed"
    },
    "tags": []
   },
   "outputs": [],
   "source": [
    "import os\n",
    "import sys\n",
    "from pathlib import Path\n",
    "module_path = os.path.abspath(os.path.join('../..'))\n",
    "if module_path not in sys.path:\n",
    "    sys.path.append(module_path)\n",
    "    \n",
    "if final_runs:\n",
    "    fig_out = Path(module_path) / \"reports\" / \"final\" / \"figures\" / image_outputs\n",
    "else:\n",
    "    fig_out = Path(module_path) / \"reports\" / \"figures\" / image_outputs\n",
    "fig_out.mkdir(parents=True, exist_ok=True)"
   ]
  },
  {
   "cell_type": "code",
   "execution_count": 4,
   "metadata": {
    "papermill": {
     "duration": 1.793402,
     "end_time": "2020-03-31T01:29:50.332808",
     "exception": false,
     "start_time": "2020-03-31T01:29:48.539406",
     "status": "completed"
    },
    "tags": []
   },
   "outputs": [],
   "source": [
    "%reload_ext autoreload\n",
    "%autoreload 2\n",
    "\n",
    "import pandas as pd\n",
    "import matplotlib.pyplot as plt\n",
    "plt.style.use(['ircobi'])\n",
    "\n",
    "from matplotlib.ticker import MultipleLocator\n",
    "\n",
    "%matplotlib inline\n",
    "\n",
    "import logging\n",
    "logger = logging.getLogger(\"distributed.utils_perf\")\n",
    "logger.setLevel(logging.ERROR)\n",
    "\n",
    "from src.data.data_loader_pooch import *\n",
    "from src.data.fars_utils import createPerID, getWeightedAvg, standard_error\n",
    "\n",
    "from tqdm.notebook import tqdm\n",
    "\n",
    "pd.set_option('precision', 3)\n",
    "pd.set_option('display.max_columns', 999)\n"
   ]
  },
  {
   "cell_type": "markdown",
   "metadata": {
    "papermill": {
     "duration": 0.012467,
     "end_time": "2020-03-31T01:29:50.359079",
     "exception": false,
     "start_time": "2020-03-31T01:29:50.346612",
     "status": "completed"
    },
    "tags": []
   },
   "source": [
    "## Load pickles"
   ]
  },
  {
   "cell_type": "code",
   "execution_count": 5,
   "metadata": {
    "papermill": {
     "duration": 30.945906,
     "end_time": "2020-03-31T01:30:21.318416",
     "exception": false,
     "start_time": "2020-03-31T01:29:50.372510",
     "status": "completed"
    },
    "tags": []
   },
   "outputs": [],
   "source": [
    "data = pd.read_pickle(Path(merged))\n",
    "data = data.query(f\"{start_year} <= YEAR <= {end_year}\")"
   ]
  },
  {
   "cell_type": "markdown",
   "metadata": {
    "papermill": {
     "duration": 0.017621,
     "end_time": "2020-03-31T01:30:21.358068",
     "exception": false,
     "start_time": "2020-03-31T01:30:21.340447",
     "status": "completed"
    },
    "tags": []
   },
   "source": [
    "## Method Definition"
   ]
  },
  {
   "cell_type": "code",
   "execution_count": 6,
   "metadata": {
    "papermill": {
     "duration": 0.09018,
     "end_time": "2020-03-31T01:30:21.462292",
     "exception": false,
     "start_time": "2020-03-31T01:30:21.372112",
     "status": "completed"
    },
    "tags": []
   },
   "outputs": [],
   "source": [
    "def plot_doublepair(vehicle_results):\n",
    "    fig, axes = plt.subplots(3,2, figsize=(10,9), sharex=True, sharey=True)\n",
    "    results = vehicle_results['results']\n",
    "    titles = vehicle_results['titles']\n",
    "    counts = vehicle_results['counts']\n",
    "    a=[]\n",
    "    for i, row in enumerate(axes):\n",
    "        for j, ax in enumerate(row):\n",
    "            a.append(ax)\n",
    "\n",
    "    for i, ax in enumerate(a):\n",
    "        ax.axhline(1, color='black', lw=1, ls='--')\n",
    "        #print(results)\n",
    "        if not results[i].empty:\n",
    "            results[i].plot(x='Age', y='R', yerr='DeltaR', capsize=5, fmt='ko',\n",
    "                      ylim = (.5, 2), title=titles[i],\n",
    "                       ax = ax, legend=False)\n",
    "            ax.text(55, 1.85, f\"{counts[i]: ,} Fatalities\", fontsize=12)\n",
    "\n",
    "            ax.xaxis.set_major_locator(MultipleLocator(10))\n",
    "            ax.xaxis.set_minor_locator(MultipleLocator(5))\n",
    "            ax.tick_params(which='major', length=7)\n",
    "            ax.tick_params(which='minor', length=4)\n",
    "            #axis.yaxis.set_major_locator(MultipleLocator(10))\n",
    "            ax.yaxis.set_minor_locator(MultipleLocator(.1))\n",
    "    fig.text(0.0, 0.5, \"R = Relative fatality risk for females vs. males\", va='center', rotation='vertical',\n",
    "             fontsize='large')\n",
    "    plt.show()\n",
    "    return fig"
   ]
  },
  {
   "cell_type": "code",
   "execution_count": 7,
   "metadata": {
    "papermill": {
     "duration": 0.0567,
     "end_time": "2020-03-31T01:30:21.533332",
     "exception": false,
     "start_time": "2020-03-31T01:30:21.476632",
     "status": "completed"
    },
    "tags": []
   },
   "outputs": [],
   "source": [
    "def plot_driver_only(vehicle_results):\n",
    "    fig, axes = plt.subplots(1,2, figsize=(10,3), sharex=True, sharey=True)\n",
    "    results = vehicle_results['results']\n",
    "    titles = vehicle_results['titles']\n",
    "    counts = vehicle_results['counts']\n",
    "    a=[]\n",
    "    for i, ax in enumerate(axes):\n",
    "        a.append(ax)\n",
    "\n",
    "    for i, ax in enumerate(a):\n",
    "        ax.axhline(1, color='black', lw=1, ls='--')\n",
    "        results[i].plot(x='Age', y='R', yerr='DeltaR', capsize=5, fmt='ko',\n",
    "                      ylim = (.5, 2), title=titles[i],\n",
    "                       ax = ax, legend=False)\n",
    "        ax.text(55, 1.85, f\"{counts[i]: ,} Fatalities\", fontsize=12)\n",
    "\n",
    "        ax.xaxis.set_major_locator(MultipleLocator(10))\n",
    "        ax.xaxis.set_minor_locator(MultipleLocator(5))\n",
    "        ax.tick_params(which='major', length=7)\n",
    "        ax.tick_params(which='minor', length=4)\n",
    "        #axis.yaxis.set_major_locator(MultipleLocator(10))\n",
    "        ax.yaxis.set_minor_locator(MultipleLocator(.1))\n",
    "    fig.text(0.0, 0.5, \"R = Relative fatality risk for females vs. males\", va='center', rotation='vertical',\n",
    "             fontsize='large')\n",
    "    plt.show()\n",
    "    return fig"
   ]
  },
  {
   "cell_type": "code",
   "execution_count": 8,
   "metadata": {
    "papermill": {
     "duration": 0.052445,
     "end_time": "2020-03-31T01:30:21.599217",
     "exception": false,
     "start_time": "2020-03-31T01:30:21.546772",
     "status": "completed"
    },
    "tags": []
   },
   "outputs": [],
   "source": [
    "def combine_results(results):\n",
    "    combined = pd.concat(results,sort=True).reset_index()\n",
    "    combined['Age'] = pd.cut(x=combined['Age'], bins=[x for x in range(0, 101, 5)]).apply(lambda x: x.mid)\n",
    "    combined = combined.groupby('Age')\n",
    "    overall_result = combined.apply(getWeightedAvg).reset_index()\n",
    "    return overall_result"
   ]
  },
  {
   "cell_type": "code",
   "execution_count": 9,
   "metadata": {
    "papermill": {
     "duration": 0.053437,
     "end_time": "2020-03-31T01:30:21.667302",
     "exception": false,
     "start_time": "2020-03-31T01:30:21.613865",
     "status": "completed"
    },
    "tags": []
   },
   "outputs": [],
   "source": [
    "def plot_single(result, counts, title):\n",
    "    fig, ax = plt.subplots()\n",
    "    ax.axhline(1, color='black', lw=1, ls='--')\n",
    "    result.plot(x='Age', y='R', yerr='DeltaR', capsize=5, fmt='ko',\n",
    "                ylim = (.5, 2), title=title,\n",
    "                ax = ax, legend=False)\n",
    "    ax.text(55, 1.4, f\"{sum(counts): ,} Fatalities\", fontsize=12)\n",
    "    plt.ylabel(\"R = Relative fatality risk\\n for females vs. males\")\n",
    "    plt.show()\n",
    "    return fig"
   ]
  },
  {
   "cell_type": "code",
   "execution_count": 10,
   "metadata": {
    "papermill": {
     "duration": 0.059954,
     "end_time": "2020-03-31T01:30:21.740334",
     "exception": false,
     "start_time": "2020-03-31T01:30:21.680380",
     "status": "completed"
    },
    "tags": []
   },
   "outputs": [],
   "source": [
    "def run_double_pair(test, data, base_filter):\n",
    "    \n",
    "    filtered = data.query(base_filter)\n",
    "    subset = filtered.query(test['data']).reset_index()\n",
    "    subject = test['subject']\n",
    "    control = test['control']\n",
    "\n",
    "    control_bins = pd.cut(x=subset[control['age']], bins=control['bin'])\n",
    "    subject_bins = pd.cut(x=subset[subject['age']], bins=subject['bin'])\n",
    "\n",
    "    subset['AGE_C_Bin'] = control_bins\n",
    "    subset['AGE_S_Bin'] = subject_bins\n",
    "\n",
    "    grouped = subset.groupby(['AGE_C_Bin', 'AGE_S_Bin', control['sex']])\n",
    "\n",
    "    soln = []\n",
    "\n",
    "    for name, group in grouped:\n",
    "        \n",
    "        a = group.loc[(group[subject['sex']] == 'Female') \n",
    "                      & (group[subject['dead']])]\n",
    "        b = group.loc[(group[subject['sex']] == 'Female') \n",
    "                      & (group[control['dead']])]\n",
    "        c = group.loc[(group[subject['sex']] == 'Male') \n",
    "                      & (group[subject['dead']])]\n",
    "        d = group.loc[(group[subject['sex']] == 'Male') \n",
    "                      & (group[control['dead']])]\n",
    "\n",
    "        A = a[subject['id']].nunique()\n",
    "        B = b[control['id']].nunique()\n",
    "        C = c[subject['id']].nunique()\n",
    "        D = d[control['id']].nunique()\n",
    "        \n",
    "        if (A > 0) and (B>0) and (C > 0) and (D > 0):\n",
    "            r1 = A/B\n",
    "            r2 = C/D\n",
    "            R = r1/r2\n",
    "            serr = standard_error(R, A, B, C, D)\n",
    "            soln.append([name[0], name[1], name[2], A, B, C, D, r1, r2, R, serr])\n",
    "\n",
    "    result = pd.DataFrame(soln, columns = ['Control Age', 'Subject Age', 'Control Sex', 'A', 'B', 'C', 'D', 'r1', 'r2', 'R', 'DeltaR'])\n",
    "    weighted_result = result.groupby(['Subject Age']).apply(getWeightedAvg).reset_index()\n",
    "\n",
    "    weighted_result['Age'] = weighted_result['Subject Age'].apply(lambda x: x.mid + .5)\n",
    "    this_count = result['A'].sum() + result['C'].sum()\n",
    "    return weighted_result.copy(), result.copy(), test['title'], this_count"
   ]
  },
  {
   "cell_type": "markdown",
   "metadata": {
    "papermill": {
     "duration": 0.016319,
     "end_time": "2020-03-31T01:30:21.772130",
     "exception": false,
     "start_time": "2020-03-31T01:30:21.755811",
     "status": "completed"
    },
    "tags": []
   },
   "source": [
    "## Full Replication"
   ]
  },
  {
   "cell_type": "code",
   "execution_count": 11,
   "metadata": {
    "papermill": {
     "duration": 13.642621,
     "end_time": "2020-03-31T01:30:35.428624",
     "exception": false,
     "start_time": "2020-03-31T01:30:21.786003",
     "status": "completed"
    },
    "tags": []
   },
   "outputs": [],
   "source": [
    "vehicle_results = {}\n",
    "all_results = []\n",
    "total_count = []\n",
    "for veh_type in vehicle_types:\n",
    "    results = []\n",
    "    titles = []\n",
    "    counts = []\n",
    "    all_res = []\n",
    "    if veh_type == 'MOTORCYCLE':\n",
    "        cur_subset = mcycl_subsets\n",
    "    else:\n",
    "        cur_subset = subsets\n",
    "    for test in cur_subset:\n",
    "        wr, res, title, count = run_double_pair(test, \n",
    "                                                data.query(f\"{veh_type}\"), \n",
    "                                                base_filter)\n",
    "        results.append(wr)\n",
    "        all_res.append(res)\n",
    "        titles.append(title)\n",
    "        counts.append(count)\n",
    "    \n",
    "    vehicle_results[veh_type] = {'results': results,\n",
    "                       'titles': titles,\n",
    "                       'counts': counts,\n",
    "                       'all_res': all_res}"
   ]
  },
  {
   "cell_type": "markdown",
   "metadata": {
    "papermill": {
     "duration": 0.016024,
     "end_time": "2020-03-31T01:30:35.462830",
     "exception": false,
     "start_time": "2020-03-31T01:30:35.446806",
     "status": "completed"
    },
    "tags": []
   },
   "source": [
    "## Results: Passenger Cars"
   ]
  },
  {
   "cell_type": "code",
   "execution_count": 12,
   "metadata": {
    "papermill": {
     "duration": 2.194248,
     "end_time": "2020-03-31T01:30:37.670836",
     "exception": false,
     "start_time": "2020-03-31T01:30:35.476588",
     "status": "completed"
    },
    "tags": []
   },
   "outputs": [
    {
     "data": {
      "image/png": "[encoded data removed]",
      "text/plain": [
       "<Figure size 720x648 with 6 Axes>"
      ]
     },
     "metadata": {
      "needs_background": "light"
     },
     "output_type": "display_data"
    }
   ],
   "source": [
    "if 'PASSENGER_CAR' in vehicle_types:\n",
    "    if not driver_only:\n",
    "        fig = plot_doublepair(vehicle_results['PASSENGER_CAR'])\n",
    "        fig.savefig(fig_out / \"passenger_car_subsets.png\")\n",
    "    else:\n",
    "        fig = plot_driver_only(vehicle_results['PASSENGER_CAR'])\n",
    "        fig.savefig(fig_out / \"passenger_car_subsets.png\")"
   ]
  },
  {
   "cell_type": "code",
   "execution_count": 13,
   "metadata": {
    "papermill": {
     "duration": 0.469491,
     "end_time": "2020-03-31T01:30:38.158101",
     "exception": false,
     "start_time": "2020-03-31T01:30:37.688610",
     "status": "completed"
    },
    "scrolled": true,
    "tags": []
   },
   "outputs": [
    {
     "name": "stderr",
     "output_type": "stream",
     "text": [
      "/Users/mitchell/Documents/000_Biomechanics/Projects/fars-analysis/src/data/fars_utils.py:93: RuntimeWarning: divide by zero encountered in double_scalars\n",
      "  delta_R_bar = R_bar / np.sqrt(np.sum((working['R']/working['DeltaR'])**2))\n"
     ]
    },
    {
     "data": {
      "image/png": "[encoded data removed]",
      "text/plain": [
       "<Figure size 432x288 with 1 Axes>"
      ]
     },
     "metadata": {
      "needs_background": "light"
     },
     "output_type": "display_data"
    }
   ],
   "source": [
    "if 'PASSENGER_CAR' in vehicle_types:\n",
    "    cur_results = vehicle_results['PASSENGER_CAR']\n",
    "    car_result = combine_results(cur_results['results'])\n",
    "    car_counts = cur_results['counts']\n",
    "    fig = plot_single(car_result, car_counts, \"Car Fatalities\")\n",
    "    fig.savefig(fig_out / \"passenger_cars.png\")\n",
    "    all_results.append(car_result)\n",
    "    total_count.append(sum(car_counts))"
   ]
  },
  {
   "cell_type": "markdown",
   "metadata": {
    "papermill": {
     "duration": 0.021772,
     "end_time": "2020-03-31T01:30:38.201511",
     "exception": false,
     "start_time": "2020-03-31T01:30:38.179739",
     "status": "completed"
    },
    "tags": []
   },
   "source": [
    "## Results: Light Truck"
   ]
  },
  {
   "cell_type": "code",
   "execution_count": 14,
   "metadata": {
    "papermill": {
     "duration": 0.049707,
     "end_time": "2020-03-31T01:30:38.267168",
     "exception": false,
     "start_time": "2020-03-31T01:30:38.217461",
     "status": "completed"
    },
    "tags": []
   },
   "outputs": [],
   "source": [
    "if 'LIGHT_TRUCK_OR_VAN' in vehicle_types:\n",
    "    fig = plot_doublepair(vehicle_results['LIGHT_TRUCK_OR_VAN'])\n",
    "    fig.savefig(fig_out / \"truck_subsets.png\")"
   ]
  },
  {
   "cell_type": "code",
   "execution_count": 15,
   "metadata": {
    "papermill": {
     "duration": 0.056316,
     "end_time": "2020-03-31T01:30:38.342911",
     "exception": false,
     "start_time": "2020-03-31T01:30:38.286595",
     "status": "completed"
    },
    "tags": []
   },
   "outputs": [],
   "source": [
    "if 'LIGHT_TRUCK_OR_VAN' in vehicle_types:\n",
    "    cur_results = vehicle_results['LIGHT_TRUCK_OR_VAN']\n",
    "    truck_result = combine_results(cur_results['results'])\n",
    "    truck_counts = cur_results['counts']\n",
    "    fig = plot_single(truck_result, truck_counts, \"Light-Truck Fatalities\")\n",
    "    fig.savefig(fig_out / \"light_trucks.png\")\n",
    "    all_results.append(truck_result)\n",
    "    total_count.append(sum(truck_counts))"
   ]
  },
  {
   "cell_type": "markdown",
   "metadata": {
    "papermill": {
     "duration": 0.014602,
     "end_time": "2020-03-31T01:30:38.373068",
     "exception": false,
     "start_time": "2020-03-31T01:30:38.358466",
     "status": "completed"
    },
    "tags": []
   },
   "source": [
    "## Results: Motorcycles"
   ]
  },
  {
   "cell_type": "code",
   "execution_count": 16,
   "metadata": {
    "papermill": {
     "duration": 0.120516,
     "end_time": "2020-03-31T01:30:38.508006",
     "exception": false,
     "start_time": "2020-03-31T01:30:38.387490",
     "status": "completed"
    },
    "tags": []
   },
   "outputs": [],
   "source": [
    "def mcycl_plotter(results, counts, titles):\n",
    "    fig, axes = plt.subplots(1,2, figsize=(10,3), sharex=True, sharey=True)\n",
    "\n",
    "    a=[]\n",
    "    for i, ax in enumerate(axes):\n",
    "        a.append(ax)\n",
    "\n",
    "    for i, ax in enumerate(a):\n",
    "        ax.axhline(1, color='black', lw=1, ls='--')\n",
    "        results[i].plot(x='Age', y='R', yerr='DeltaR', capsize=5, fmt='ko',\n",
    "                      ylim = (.5, 2), title=titles[i],\n",
    "                       ax = ax, legend=False)\n",
    "        ax.text(55, 1.85, f\"{counts[i]: ,} Fatalities\", fontsize=12)\n",
    "\n",
    "        ax.xaxis.set_major_locator(MultipleLocator(10))\n",
    "        ax.xaxis.set_minor_locator(MultipleLocator(5))\n",
    "        ax.tick_params(which='major', length=7)\n",
    "        ax.tick_params(which='minor', length=4)\n",
    "        #axis.yaxis.set_major_locator(MultipleLocator(10))\n",
    "        ax.yaxis.set_minor_locator(MultipleLocator(.1))\n",
    "    plt.ylabel(\"R = Relative fatality risk for females vs. males\")\n",
    "    plt.show()\n",
    "    return fig"
   ]
  },
  {
   "cell_type": "code",
   "execution_count": 17,
   "metadata": {
    "papermill": {
     "duration": 0.055221,
     "end_time": "2020-03-31T01:30:38.579176",
     "exception": false,
     "start_time": "2020-03-31T01:30:38.523955",
     "status": "completed"
    },
    "tags": []
   },
   "outputs": [],
   "source": [
    "if 'MOTORCYCLE' in vehicle_types:\n",
    "    fig = mcycl_plotter(vehicle_results['MOTORCYCLE']['results'],\n",
    "                        vehicle_results['MOTORCYCLE']['counts'],\n",
    "                        vehicle_results['MOTORCYCLE']['titles'])\n",
    "    fig.savefig(fig_out / \"motorcycle_subsets.png\")"
   ]
  },
  {
   "cell_type": "code",
   "execution_count": 18,
   "metadata": {
    "papermill": {
     "duration": 0.054766,
     "end_time": "2020-03-31T01:30:38.650643",
     "exception": false,
     "start_time": "2020-03-31T01:30:38.595877",
     "status": "completed"
    },
    "tags": []
   },
   "outputs": [],
   "source": [
    "if 'MOTORCYCLE' in vehicle_types:\n",
    "    mcycl_result = combine_results(vehicle_results['MOTORCYCLE']['results'])\n",
    "    mcycl_counts = vehicle_results['MOTORCYCLE']['counts']\n",
    "    fig = plot_single(mcycl_result, mcycl_counts, \"Motorcycle Fatalities\")\n",
    "    fig.savefig(fig_out / \"motorcycles.png\")\n",
    "    all_results.append(mcycl_result)\n",
    "    total_count.append(sum(mcycl_counts))"
   ]
  },
  {
   "cell_type": "markdown",
   "metadata": {
    "papermill": {
     "duration": 0.014004,
     "end_time": "2020-03-31T01:30:38.680362",
     "exception": false,
     "start_time": "2020-03-31T01:30:38.666358",
     "status": "completed"
    },
    "tags": []
   },
   "source": [
    "## All Occupants"
   ]
  },
  {
   "cell_type": "code",
   "execution_count": 19,
   "metadata": {
    "papermill": {
     "duration": 0.444661,
     "end_time": "2020-03-31T01:30:39.138596",
     "exception": false,
     "start_time": "2020-03-31T01:30:38.693935",
     "status": "completed"
    },
    "tags": []
   },
   "outputs": [
    {
     "data": {
      "image/png": "[encoded data removed]",
      "text/plain": [
       "<Figure size 432x288 with 1 Axes>"
      ]
     },
     "metadata": {
      "needs_background": "light"
     },
     "output_type": "display_data"
    }
   ],
   "source": [
    "final_result = combine_results(all_results)\n",
    "fig = plot_single(final_result, total_count, \"All Fatalities\")\n",
    "fig.savefig(fig_out / \"all_fatalities.png\")"
   ]
  },
  {
   "cell_type": "markdown",
   "metadata": {
    "papermill": {
     "duration": 0.016465,
     "end_time": "2020-03-31T01:30:39.173547",
     "exception": false,
     "start_time": "2020-03-31T01:30:39.157082",
     "status": "completed"
    },
    "tags": []
   },
   "source": [
    "## Tables\n",
    "Tables produced for review, also output as .xlsx and .csv files for easy transfer to papers."
   ]
  },
  {
   "cell_type": "code",
   "execution_count": 20,
   "metadata": {
    "papermill": {
     "duration": 0.052999,
     "end_time": "2020-03-31T01:30:39.243980",
     "exception": false,
     "start_time": "2020-03-31T01:30:39.190981",
     "status": "completed"
    },
    "tags": []
   },
   "outputs": [],
   "source": [
    "if final_runs:\n",
    "    csv_out = Path(module_path) / \"reports\" / \"final\" / \"tables\" / image_outputs / \"csv\"\n",
    "    xlsx_out = Path(module_path) / \"reports\" / \"final\" / \"tables\" / image_outputs / \"xlsx\"\n",
    "else:\n",
    "    csv_out = Path(module_path) / \"reports\" / \"tables\" / image_outputs / \"csv\"\n",
    "    xlsx_out = Path(module_path) / \"reports\" / \"tables\" / image_outputs / \"xlsx\"\n",
    "\n",
    "csv_out.mkdir(parents=True, exist_ok=True)\n",
    "xlsx_out.mkdir(parents=True, exist_ok=True)"
   ]
  },
  {
   "cell_type": "code",
   "execution_count": 21,
   "metadata": {
    "papermill": {
     "duration": 0.340054,
     "end_time": "2020-03-31T01:30:39.601103",
     "exception": false,
     "start_time": "2020-03-31T01:30:39.261049",
     "status": "completed"
    },
    "tags": []
   },
   "outputs": [],
   "source": [
    "for veh_type, cur_veh in vehicle_results.items():\n",
    "    \n",
    "    veh_csv = csv_out / veh_type\n",
    "    veh_xlsx = xlsx_out / veh_type\n",
    "\n",
    "    veh_csv.mkdir(parents=True, exist_ok=True)\n",
    "    car_result.to_csv(veh_csv / \"full_weighted.csv\")\n",
    "\n",
    "    for title, res, all_res in zip(cur_veh['titles'], \n",
    "                                   cur_veh['results'], \n",
    "                                   cur_veh['all_res']):\n",
    "        cur_csv = veh_csv / title\n",
    "        cur_xlsx = veh_xlsx / title\n",
    "        cur_csv.mkdir(parents=True, exist_ok=True)\n",
    "        cur_xlsx.mkdir(parents=True, exist_ok=True)\n",
    "\n",
    "        #Write out table of weighted results\n",
    "        res.to_csv(cur_csv / 'weighted_results.csv', float_format='%.3f')\n",
    "        #res.to_excel(cur_xlsx / 'weighted_results.csv')\n",
    "\n",
    "        #Write out table of all results\n",
    "        all_res.to_csv(cur_csv / 'full_results.csv', float_format='%.3f')\n",
    "\n",
    "        #Loop through each subject interval in all_res, write out this table\n",
    "        for subj_age in all_res['Subject Age'].unique():\n",
    "            cur_chunk = all_res.loc[all_res['Subject Age'] == \n",
    "                                    subj_age].sort_values('Control Sex', ascending=False)\n",
    "            cur_chunk.to_csv(cur_csv / f\"subjects_{subj_age}.csv\", float_format='%.3f')"
   ]
  },
  {
   "cell_type": "code",
   "execution_count": 22,
   "metadata": {
    "papermill": {
     "duration": 0.052683,
     "end_time": "2020-03-31T01:30:39.671402",
     "exception": false,
     "start_time": "2020-03-31T01:30:39.618719",
     "status": "completed"
    },
    "tags": []
   },
   "outputs": [],
   "source": [
    "if 'PASSENGER_CAR' in vehicle_types:\n",
    "    car_result.to_csv(csv_out / \"full_car_weighted.csv\")\n",
    "if 'LIGHT_TRUCK_OR_VAN' in vehicle_types:\n",
    "    truck_result.to_csv(csv_out / \"full_truck_weighted.csv\")\n",
    "if 'MOTORCYCLE' in vehicle_types:\n",
    "    mcycl_result.to_csv(csv_out / \"full_motorcycle_weighted.csv\")\n",
    "final_result.to_csv(csv_out / \"full_weighted_result.csv\")"
   ]
  },
  {
   "cell_type": "code",
   "execution_count": 23,
   "metadata": {
    "papermill": {
     "duration": 0.073387,
     "end_time": "2020-03-31T01:30:39.760623",
     "exception": false,
     "start_time": "2020-03-31T01:30:39.687236",
     "status": "completed"
    },
    "tags": []
   },
   "outputs": [],
   "source": [
    "summary = []\n",
    "if 'PASSENGER_CAR' in vehicle_types:\n",
    "    car = vehicle_results['PASSENGER_CAR']\n",
    "    car['Female Fatalities'] = [res['A'].sum() for res in car['all_res']]\n",
    "    car['Male Fatalities'] = [res['C'].sum() for res in car['all_res']]\n",
    "    summary.append(pd.DataFrame.from_dict(car).drop(columns=\n",
    "                                                    ['results',\n",
    "                                                     'all_res',\n",
    "                                                    ]).assign(Vehicle='Car'))\n",
    "if 'LIGHT_TRUCK_OR_VAN' in vehicle_types:\n",
    "    truck = vehicle_results['LIGHT_TRUCK_OR_VAN']\n",
    "    truck['Female Fatalities'] = [res['A'].sum() for res in truck['all_res']]\n",
    "    truck['Male Fatalities'] = [res['C'].sum() for res in truck['all_res']]\n",
    "    summary.append(pd.DataFrame.from_dict(truck).drop(columns=\n",
    "                                                      ['results',\n",
    "                                                       'all_res',\n",
    "                                                       ]).assign(Vehicle='Light truck'))\n",
    "if 'MOTORCYCLE' in vehicle_types:\n",
    "    mcycl = vehicle_results['MOTORCYCLE']\n",
    "    mcycl['Female Fatalities'] = [res['A'].sum() for res in mcycl['all_res']]\n",
    "    mcycl['Male Fatalities'] = [res['C'].sum() for res in mcycl['all_res']]\n",
    "    summary.append(pd.DataFrame.from_dict(mcycl).drop(columns=\n",
    "                                                      ['results',\n",
    "                                                       'all_res',\n",
    "                                                       ]).assign(Vehicle='Motorcycle'))\n",
    "summaries = pd.concat(summary).rename(columns={\n",
    "    'titles': 'Subject Occupant',\n",
    "    'counts': 'Total'}).reindex(columns=['Vehicle',\n",
    "                                         'Subject Occupant',\n",
    "                                         'Female Fatalities',\n",
    "                                         'Male Fatalities',\n",
    "                                         'Total'])\n",
    "summaries.to_csv(csv_out / \"summary.csv\")"
   ]
  },
  {
   "cell_type": "code",
   "execution_count": 24,
   "metadata": {
    "papermill": {
     "duration": 0.194254,
     "end_time": "2020-03-31T01:30:39.970769",
     "exception": false,
     "start_time": "2020-03-31T01:30:39.776515",
     "status": "completed"
    },
    "tags": []
   },
   "outputs": [],
   "source": [
    "del(data)"
   ]
  },
  {
   "cell_type": "code",
   "execution_count": 25,
   "metadata": {
    "papermill": {
     "duration": 0.171267,
     "end_time": "2020-03-31T01:30:40.160255",
     "exception": false,
     "start_time": "2020-03-31T01:30:39.988988",
     "status": "completed"
    },
    "tags": []
   },
   "outputs": [],
   "source": [
    "%reset -f"
   ]
  }
 ],
 "metadata": {
  "celltoolbar": "Tags",
  "kernelspec": {
   "display_name": "fars",
   "language": "python",
   "name": "fars"
  },
  "language_info": {
   "codemirror_mode": {
    "name": "ipython",
    "version": 3
   },
   "file_extension": ".py",
   "mimetype": "text/x-python",
   "name": "python",
   "nbconvert_exporter": "python",
   "pygments_lexer": "ipython3",
   "version": "3.7.7"
  },
  "papermill": {
   "duration": 52.674063,
   "end_time": "2020-03-31T01:30:40.188167",
   "environment_variables": {},
   "exception": null,
   "input_path": "0.0 Final Template.ipynb",
   "output_path": "final/2.5_Ignore_AirBag_2015-2018.ipynb",
   "parameters": {
    "base_filter": "(SEX_C != 'Unknown') and (SEX_S != 'Unknown') and (AGE_C < 99) and (AGE_S < 99)",
    "end_year": 2018,
    "final_runs": true,
    "image_outputs": "2.5 Ignore Airbag 2015-2018",
    "merged": "/Users/mitchell/Documents/000_Biomechanics/Projects/fars-analysis/data/tmp/merged.pkl",
    "start_year": 2015,
    "vehicle_types": [
     "PASSENGER_CAR"
    ]
   },
   "start_time": "2020-03-31T01:29:47.514104",
   "version": "2.0.0"
  }
 },
 "nbformat": 4,
 "nbformat_minor": 4
}