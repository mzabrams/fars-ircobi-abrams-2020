{
 "cells": [
  {
   "cell_type": "code",
   "execution_count": 1,
   "metadata": {},
   "outputs": [],
   "source": [
    "reload = False"
   ]
  },
  {
   "cell_type": "code",
   "execution_count": 2,
   "metadata": {},
   "outputs": [],
   "source": [
    "import papermill as pm\n",
    "import os\n",
    "import sys\n",
    "from pathlib import Path\n",
    "module_path = os.path.abspath(os.path.join('../..'))\n",
    "if module_path not in sys.path:\n",
    "    sys.path.append(module_path)\n",
    "    \n",
    "import pandas as pd\n",
    "import matplotlib.pyplot as plt\n",
    "import numpy as np\n",
    "%matplotlib inline\n",
    "from src.data.data_loader_pooch import *\n",
    "\n",
    "from tqdm.notebook import tqdm"
   ]
  },
  {
   "cell_type": "code",
   "execution_count": 3,
   "metadata": {},
   "outputs": [],
   "source": [
    "tmp_file_path = Path(module_path) / \"data\" / \"tmp\"\n",
    "tmp_file_path.mkdir(parents=True, exist_ok=True)\n",
    "\n",
    "if reload:\n",
    "    target_folder = 'full'\n",
    "    load_from = 'full'\n",
    "    use_dask = False\n",
    "\n",
    "    vehicles, accidents, people = load_pipeline(1975, 2018, \n",
    "                                            first_run=False, \n",
    "                                            target_folder=target_folder,\n",
    "                                            load_from=load_from, \n",
    "                                            use_dask=use_dask)\n",
    "    subjects = people[people['PERSON_TYPE'] == 'Driver']\n",
    "    controls = people[people['PERSON_TYPE'] == 'Passenger']\n",
    "\n",
    "    data = subjects.merge(controls, how = 'inner', on=['VEH_NO', 'ST_CASE', 'YEAR'], suffixes=['_S', '_C']).merge(\n",
    "                         vehicles, how = 'inner', on=['VEH_NO', 'ST_CASE', 'YEAR']).merge(\n",
    "                         accidents, how = 'inner', on=['ST_CASE', 'YEAR'])\n",
    "    data.to_pickle(tmp_file_path / \"merged.pkl\")\n",
    "    "
   ]
  },
  {
   "cell_type": "code",
   "execution_count": 21,
   "metadata": {
    "code_folding": [
     7
    ],
    "scrolled": false
   },
   "outputs": [
    {
     "data": {
      "application/vnd.jupyter.widget-view+json": {
       "model_id": "2acac7d1dd134325a207d6c0d27ec333",
       "version_major": 2,
       "version_minor": 0
      },
      "text/plain": [
       "HBox(children=(FloatProgress(value=0.0, description='Executing', max=34.0, style=ProgressStyle(description_wid…"
      ]
     },
     "metadata": {},
     "output_type": "display_data"
    },
    {
     "name": "stdout",
     "output_type": "stream",
     "text": [
      "\n"
     ]
    }
   ],
   "source": [
    "base_filt = \"(SEX_C != 'Unknown') and (SEX_S != 'Unknown') and \"\\\n",
    "            \"(AGE_C < 99) and (AGE_S < 99) and \"\\\n",
    "            \"(AIR_BAG_DEPLOYMENT_S != 'Deployed') and \"\\\n",
    "            \"(AIR_BAG_DEPLOYMENT_C != 'Deployed')\"\n",
    "res = pm.execute_notebook(\n",
    "       '0.0 Final Template.ipynb',\n",
    "       'final/1.1_Evans_1975-1998.ipynb',\n",
    "       parameters=dict(start_year=1975,\n",
    "                       end_year=1998,\n",
    "                       final_runs = True,\n",
    "                       image_outputs='1.1 Evans_75-98',\n",
    "                       base_filter=base_filt,\n",
    "                       merged = str(tmp_file_path / \"merged.pkl\"),\n",
    "                       )\n",
    ")"
   ]
  },
  {
   "cell_type": "code",
   "execution_count": 22,
   "metadata": {
    "code_folding": []
   },
   "outputs": [
    {
     "data": {
      "application/vnd.jupyter.widget-view+json": {
       "model_id": "9b02c37e7dbf4708a3eb7c8c7d270329",
       "version_major": 2,
       "version_minor": 0
      },
      "text/plain": [
       "HBox(children=(FloatProgress(value=0.0, description='Executing', max=34.0, style=ProgressStyle(description_wid…"
      ]
     },
     "metadata": {},
     "output_type": "display_data"
    },
    {
     "name": "stdout",
     "output_type": "stream",
     "text": [
      "\n"
     ]
    }
   ],
   "source": [
    "res = pm.execute_notebook(\n",
    "       '0.0 Final Template.ipynb',\n",
    "       'final/1.2_1999-2018.ipynb',\n",
    "       parameters=dict(start_year=1999,\n",
    "                       end_year=2018,\n",
    "                       final_runs = True,\n",
    "                       image_outputs='1.1 No airbag deployment 1999-2018',\n",
    "                       base_filter=base_filt,\n",
    "                       merged = str(tmp_file_path / \"merged.pkl\"),\n",
    "                       )\n",
    ")"
   ]
  },
  {
   "cell_type": "code",
   "execution_count": 23,
   "metadata": {
    "code_folding": [
     3
    ]
   },
   "outputs": [
    {
     "data": {
      "application/vnd.jupyter.widget-view+json": {
       "model_id": "ece96700876041b2960d310d753585f1",
       "version_major": 2,
       "version_minor": 0
      },
      "text/plain": [
       "HBox(children=(FloatProgress(value=0.0, description='Executing', max=34.0, style=ProgressStyle(description_wid…"
      ]
     },
     "metadata": {},
     "output_type": "display_data"
    },
    {
     "name": "stdout",
     "output_type": "stream",
     "text": [
      "\n"
     ]
    }
   ],
   "source": [
    "res = pm.execute_notebook(\n",
    "       '0.0 Final Template.ipynb',\n",
    "       'final/1.3_1975-2018.ipynb',\n",
    "       parameters=dict(start_year=1975,\n",
    "                       end_year=2018,\n",
    "                       final_runs = True,\n",
    "                       image_outputs='1.3 No airbag deployment 1975-2018',\n",
    "                       base_filter=base_filt,\n",
    "                       merged = str(tmp_file_path / \"merged.pkl\"),\n",
    "                       )\n",
    ")"
   ]
  },
  {
   "cell_type": "code",
   "execution_count": 24,
   "metadata": {
    "code_folding": [
     3
    ]
   },
   "outputs": [
    {
     "data": {
      "application/vnd.jupyter.widget-view+json": {
       "model_id": "74f122dae5f341f09ed5e554a50e4f18",
       "version_major": 2,
       "version_minor": 0
      },
      "text/plain": [
       "HBox(children=(FloatProgress(value=0.0, description='Executing', max=34.0, style=ProgressStyle(description_wid…"
      ]
     },
     "metadata": {},
     "output_type": "display_data"
    },
    {
     "name": "stdout",
     "output_type": "stream",
     "text": [
      "\n"
     ]
    }
   ],
   "source": [
    "res = pm.execute_notebook(\n",
    "       '0.0 Final Template.ipynb',\n",
    "       'final/1.4_2010-2018.ipynb',\n",
    "       parameters=dict(start_year=2010,\n",
    "                       end_year=2018,\n",
    "                       final_runs = True,\n",
    "                       image_outputs='1.4 No airbag deployment 2010-2018',\n",
    "                       base_filter=base_filt,\n",
    "                       merged = str(tmp_file_path / \"merged.pkl\"),\n",
    "                       )\n",
    ")"
   ]
  },
  {
   "cell_type": "code",
   "execution_count": 25,
   "metadata": {
    "code_folding": [
     3
    ]
   },
   "outputs": [
    {
     "data": {
      "application/vnd.jupyter.widget-view+json": {
       "model_id": "06c513fe35eb495584db7ea871dd5e0b",
       "version_major": 2,
       "version_minor": 0
      },
      "text/plain": [
       "HBox(children=(FloatProgress(value=0.0, description='Executing', max=34.0, style=ProgressStyle(description_wid…"
      ]
     },
     "metadata": {},
     "output_type": "display_data"
    },
    {
     "name": "stdout",
     "output_type": "stream",
     "text": [
      "\n"
     ]
    }
   ],
   "source": [
    "res = pm.execute_notebook(\n",
    "       '0.0 Final Template.ipynb',\n",
    "       'final/1.5_2015-2018.ipynb',\n",
    "       parameters=dict(start_year=2015,\n",
    "                       end_year=2018,\n",
    "                       final_runs = True,\n",
    "                       image_outputs='1.5 No airbag deployment 2015-2018',\n",
    "                       base_filter=base_filt,\n",
    "                       merged = str(tmp_file_path / \"merged.pkl\"),\n",
    "                       )\n",
    ")"
   ]
  },
  {
   "cell_type": "markdown",
   "metadata": {},
   "source": [
    "## Ignoring Airbags"
   ]
  },
  {
   "cell_type": "code",
   "execution_count": 26,
   "metadata": {},
   "outputs": [
    {
     "data": {
      "application/vnd.jupyter.widget-view+json": {
       "model_id": "2c108739a54d420280e56dc9a7d22762",
       "version_major": 2,
       "version_minor": 0
      },
      "text/plain": [
       "HBox(children=(FloatProgress(value=0.0, description='Executing', max=34.0, style=ProgressStyle(description_wid…"
      ]
     },
     "metadata": {},
     "output_type": "display_data"
    },
    {
     "name": "stdout",
     "output_type": "stream",
     "text": [
      "\n"
     ]
    },
    {
     "data": {
      "application/vnd.jupyter.widget-view+json": {
       "model_id": "65b600de98f940ebba8c9196e16b30f2",
       "version_major": 2,
       "version_minor": 0
      },
      "text/plain": [
       "HBox(children=(FloatProgress(value=0.0, description='Executing', max=34.0, style=ProgressStyle(description_wid…"
      ]
     },
     "metadata": {},
     "output_type": "display_data"
    },
    {
     "name": "stdout",
     "output_type": "stream",
     "text": [
      "\n"
     ]
    },
    {
     "data": {
      "application/vnd.jupyter.widget-view+json": {
       "model_id": "574c14f893ee4aa8afe9aba19595c0de",
       "version_major": 2,
       "version_minor": 0
      },
      "text/plain": [
       "HBox(children=(FloatProgress(value=0.0, description='Executing', max=34.0, style=ProgressStyle(description_wid…"
      ]
     },
     "metadata": {},
     "output_type": "display_data"
    },
    {
     "name": "stdout",
     "output_type": "stream",
     "text": [
      "\n"
     ]
    },
    {
     "data": {
      "application/vnd.jupyter.widget-view+json": {
       "model_id": "d96d1bbe91aa40648badc1e2ebbdcb81",
       "version_major": 2,
       "version_minor": 0
      },
      "text/plain": [
       "HBox(children=(FloatProgress(value=0.0, description='Executing', max=34.0, style=ProgressStyle(description_wid…"
      ]
     },
     "metadata": {},
     "output_type": "display_data"
    },
    {
     "name": "stdout",
     "output_type": "stream",
     "text": [
      "\n"
     ]
    },
    {
     "data": {
      "application/vnd.jupyter.widget-view+json": {
       "model_id": "43f4e26633d84f7fa6ceb0a76e891a18",
       "version_major": 2,
       "version_minor": 0
      },
      "text/plain": [
       "HBox(children=(FloatProgress(value=0.0, description='Executing', max=34.0, style=ProgressStyle(description_wid…"
      ]
     },
     "metadata": {},
     "output_type": "display_data"
    },
    {
     "name": "stdout",
     "output_type": "stream",
     "text": [
      "\n"
     ]
    }
   ],
   "source": [
    "base_filt = \"(SEX_C != 'Unknown') and (SEX_S != 'Unknown') and \"\\\n",
    "            \"(AGE_C < 99) and (AGE_S < 99)\"\n",
    "\n",
    "vehicle_type = ['PASSENGER_CAR']\n",
    "\n",
    "res = pm.execute_notebook(\n",
    "       '0.0 Final Template.ipynb',\n",
    "       'final/2.1_Ignore_AirBag_Evans_1975-1998.ipynb',\n",
    "       parameters=dict(start_year=1975,\n",
    "                       end_year=1998,\n",
    "                       vehicle_types=vehicle_type,\n",
    "                       base_filter=base_filt,\n",
    "                       merged = str(tmp_file_path / \"merged.pkl\"),\n",
    "                       final_runs = True,\n",
    "                       image_outputs='2.1 Ignore Airbag Evans_75-98')\n",
    ")\n",
    "\n",
    "res = pm.execute_notebook(\n",
    "       '0.0 Final Template.ipynb',\n",
    "       'final/2.2_Ignore_AirBag_1999-2018.ipynb',\n",
    "       parameters=dict(start_year=1999,\n",
    "                       end_year=2018,\n",
    "                       vehicle_types=vehicle_type,\n",
    "                       base_filter=base_filt,\n",
    "                       merged = str(tmp_file_path / \"merged.pkl\"),\n",
    "                       final_runs = True,\n",
    "                       image_outputs='2.2 Ignore Airbag 1999-2018')\n",
    ")\n",
    "res = pm.execute_notebook(\n",
    "       '0.0 Final Template.ipynb',\n",
    "       'final/2.3_Ignore_AirBag_1975-2018.ipynb',\n",
    "       parameters=dict(start_year=1975,\n",
    "                       end_year=2018,\n",
    "                       vehicle_type=vehicle_type,\n",
    "                       base_filter=base_filt,\n",
    "                       merged = str(tmp_file_path / \"merged.pkl\"),\n",
    "                       final_runs = True,\n",
    "                       image_outputs='2.3 Ignore Airbag 1975-2018')\n",
    ")\n",
    "res = pm.execute_notebook(\n",
    "       '0.0 Final Template.ipynb',\n",
    "       'final/2.4_Ignore_AirBag_2010-2018.ipynb',\n",
    "       parameters=dict(start_year=2010,\n",
    "                       end_year=2018,\n",
    "                       vehicle_types=vehicle_type,\n",
    "                       base_filter=base_filt,\n",
    "                       merged = str(tmp_file_path / \"merged.pkl\"),\n",
    "                       final_runs = True,\n",
    "                       image_outputs='2.4 Ignore Airbag 2010-2018')\n",
    ")\n",
    "res = pm.execute_notebook(\n",
    "       '0.0 Final Template.ipynb',\n",
    "       'final/2.5_Ignore_AirBag_2015-2018.ipynb',\n",
    "       parameters=dict(start_year=2015,\n",
    "                       end_year=2018,\n",
    "                       vehicle_types=vehicle_type,\n",
    "                       base_filter=base_filt,\n",
    "                       merged = str(tmp_file_path / \"merged.pkl\"),\n",
    "                       final_runs = True,\n",
    "                       image_outputs='2.5 Ignore Airbag 2015-2018')\n",
    ")"
   ]
  },
  {
   "cell_type": "markdown",
   "metadata": {},
   "source": [
    "## Airbag Deploys"
   ]
  },
  {
   "cell_type": "code",
   "execution_count": 30,
   "metadata": {
    "code_folding": [
     10,
     22,
     55
    ]
   },
   "outputs": [
    {
     "data": {
      "application/vnd.jupyter.widget-view+json": {
       "model_id": "",
       "version_major": 2,
       "version_minor": 0
      },
      "text/plain": [
       "HBox(children=(FloatProgress(value=0.0, description='Executing', max=37.0, style=ProgressStyle(description_wid…"
      ]
     },
     "metadata": {},
     "output_type": "display_data"
    },
    {
     "name": "stdout",
     "output_type": "stream",
     "text": [
      "\n"
     ]
    },
    {
     "data": {
      "application/vnd.jupyter.widget-view+json": {
       "model_id": "",
       "version_major": 2,
       "version_minor": 0
      },
      "text/plain": [
       "HBox(children=(FloatProgress(value=0.0, description='Executing', max=37.0, style=ProgressStyle(description_wid…"
      ]
     },
     "metadata": {},
     "output_type": "display_data"
    },
    {
     "name": "stdout",
     "output_type": "stream",
     "text": [
      "\n"
     ]
    },
    {
     "data": {
      "application/vnd.jupyter.widget-view+json": {
       "model_id": "f06a9231909648d792c89bc0d49aea4f",
       "version_major": 2,
       "version_minor": 0
      },
      "text/plain": [
       "HBox(children=(FloatProgress(value=0.0, description='Executing', max=37.0, style=ProgressStyle(description_wid…"
      ]
     },
     "metadata": {},
     "output_type": "display_data"
    },
    {
     "name": "stdout",
     "output_type": "stream",
     "text": [
      "\n"
     ]
    },
    {
     "data": {
      "application/vnd.jupyter.widget-view+json": {
       "model_id": "88cc65bf6e8e43d5a8f21f52a860df80",
       "version_major": 2,
       "version_minor": 0
      },
      "text/plain": [
       "HBox(children=(FloatProgress(value=0.0, description='Executing', max=37.0, style=ProgressStyle(description_wid…"
      ]
     },
     "metadata": {},
     "output_type": "display_data"
    },
    {
     "name": "stdout",
     "output_type": "stream",
     "text": [
      "\n"
     ]
    },
    {
     "data": {
      "application/vnd.jupyter.widget-view+json": {
       "model_id": "7183417699c8463f8f9cedd4c4d54f11",
       "version_major": 2,
       "version_minor": 0
      },
      "text/plain": [
       "HBox(children=(FloatProgress(value=0.0, description='Executing', max=37.0, style=ProgressStyle(description_wid…"
      ]
     },
     "metadata": {},
     "output_type": "display_data"
    },
    {
     "name": "stdout",
     "output_type": "stream",
     "text": [
      "\n"
     ]
    }
   ],
   "source": [
    "base_filt = \"(SEX_C != 'Unknown') and (SEX_S != 'Unknown') and \"\\\n",
    "            \"(AGE_C < 99) and (AGE_S < 99) and \"\\\n",
    "            \"(AIR_BAG_DEPLOYMENT_S == 'Deployed') and \"\\\n",
    "            \"(AIR_BAG_DEPLOYMENT_C == 'Deployed')\"\n",
    "\n",
    "vehicle_type = ['PASSENGER_CAR', 'LIGHT_TRUCK_OR_VAN']\n",
    "\n",
    "res = pm.execute_notebook(\n",
    "       '0.0 Final Template.ipynb',\n",
    "       'final/3.1_Deploy_AirBag_Evans_1975-1998.ipynb',\n",
    "       parameters=dict(start_year=1975,\n",
    "                       end_year=1998,\n",
    "                       vehicle_types=vehicle_type,\n",
    "                       base_filter=base_filt,\n",
    "                       merged = str(tmp_file_path / \"merged.pkl\"),\n",
    "                       final_runs = True,\n",
    "                       image_outputs='3.1 Deploy Airbag Evans_75-98')\n",
    ")\n",
    "\n",
    "res = pm.execute_notebook(\n",
    "       '0.0 Final Template.ipynb',\n",
    "       'final/3.2_Deploy_AirBag_1999-2018.ipynb',\n",
    "       parameters=dict(start_year=1999,\n",
    "                       end_year=2018,\n",
    "                       vehicle_types=vehicle_type,\n",
    "                       base_filter=base_filt,\n",
    "                       merged = str(tmp_file_path / \"merged.pkl\"),\n",
    "                       final_runs = True,\n",
    "                       image_outputs='3.2 Deploy Airbag 1999-2018')\n",
    ")\n",
    "res = pm.execute_notebook(\n",
    "       '0.0 Final Template.ipynb',\n",
    "       'final/3.3_Deploy_AirBag_1975-2018.ipynb',\n",
    "       parameters=dict(start_year=1975,\n",
    "                       end_year=2018,\n",
    "                       vehicle_types=vehicle_type,\n",
    "                       base_filter=base_filt,\n",
    "                       merged = str(tmp_file_path / \"merged.pkl\"),\n",
    "                       final_runs = True,\n",
    "                       image_outputs='3.3 Deploy Airbag 1975-2018')\n",
    ")\n",
    "res = pm.execute_notebook(\n",
    "       '0.0 Final Template.ipynb',\n",
    "       'final/3.4_Deploy_AirBag_2010-2018.ipynb',\n",
    "       parameters=dict(start_year=2010,\n",
    "                       end_year=2018,\n",
    "                       vehicle_types=vehicle_type,\n",
    "                       base_filter=base_filt,\n",
    "                       merged = str(tmp_file_path / \"merged.pkl\"),\n",
    "                       final_runs = True,\n",
    "                       image_outputs='3.4 Deploy Airbag 2010-2018')\n",
    ")\n",
    "res = pm.execute_notebook(\n",
    "       '0.0 Final Template.ipynb',\n",
    "       'final/3.5_Deploy_AirBag_2015-2018.ipynb',\n",
    "       parameters=dict(start_year=2015,\n",
    "                       end_year=2018,\n",
    "                       vehicle_types=vehicle_type,\n",
    "                       base_filter=base_filt,\n",
    "                       merged = str(tmp_file_path / \"merged.pkl\"),\n",
    "                       final_runs = True,\n",
    "                       image_outputs='3.5 Deploy Airbag 2015-2018')\n",
    ")"
   ]
  },
  {
   "cell_type": "code",
   "execution_count": 21,
   "metadata": {
    "code_folding": [
     62,
     67
    ]
   },
   "outputs": [
    {
     "data": {
      "application/vnd.jupyter.widget-view+json": {
       "model_id": "6923362180684d29a39de3dc885d9e62",
       "version_major": 2,
       "version_minor": 0
      },
      "text/plain": [
       "HBox(children=(FloatProgress(value=0.0, description='Executing', max=37.0, style=ProgressStyle(description_wid…"
      ]
     },
     "metadata": {},
     "output_type": "display_data"
    },
    {
     "name": "stdout",
     "output_type": "stream",
     "text": [
      "\n"
     ]
    },
    {
     "data": {
      "application/vnd.jupyter.widget-view+json": {
       "model_id": "cc511f50bc2a4fb296d049d6512d653b",
       "version_major": 2,
       "version_minor": 0
      },
      "text/plain": [
       "HBox(children=(FloatProgress(value=0.0, description='Executing', max=37.0, style=ProgressStyle(description_wid…"
      ]
     },
     "metadata": {},
     "output_type": "display_data"
    },
    {
     "name": "stdout",
     "output_type": "stream",
     "text": [
      "\n"
     ]
    },
    {
     "data": {
      "application/vnd.jupyter.widget-view+json": {
       "model_id": "33827e8a41ed468282bfe40e67a31f96",
       "version_major": 2,
       "version_minor": 0
      },
      "text/plain": [
       "HBox(children=(FloatProgress(value=0.0, description='Executing', max=37.0, style=ProgressStyle(description_wid…"
      ]
     },
     "metadata": {},
     "output_type": "display_data"
    },
    {
     "name": "stdout",
     "output_type": "stream",
     "text": [
      "\n"
     ]
    },
    {
     "data": {
      "application/vnd.jupyter.widget-view+json": {
       "model_id": "9bf73b671e204db0ae6a22cef1338359",
       "version_major": 2,
       "version_minor": 0
      },
      "text/plain": [
       "HBox(children=(FloatProgress(value=0.0, description='Executing', max=37.0, style=ProgressStyle(description_wid…"
      ]
     },
     "metadata": {},
     "output_type": "display_data"
    },
    {
     "name": "stdout",
     "output_type": "stream",
     "text": [
      "\n"
     ]
    },
    {
     "data": {
      "application/vnd.jupyter.widget-view+json": {
       "model_id": "aba92f01de7143d0ad988ff77f900292",
       "version_major": 2,
       "version_minor": 0
      },
      "text/plain": [
       "HBox(children=(FloatProgress(value=0.0, description='Executing', max=37.0, style=ProgressStyle(description_wid…"
      ]
     },
     "metadata": {},
     "output_type": "display_data"
    },
    {
     "name": "stdout",
     "output_type": "stream",
     "text": [
      "\n"
     ]
    }
   ],
   "source": [
    "base_filt = \"(SEX_C != 'Unknown') and (SEX_S != 'Unknown') and \"\\\n",
    "            \"(AGE_C < 99) and (AGE_S < 99)\"\n",
    "\n",
    "vehicle_type = ['PASSENGER_CAR', 'LIGHT_TRUCK_OR_VAN']\n",
    "\n",
    "\"\"\"{'data': \"SEAT_POS_C == 'Second Seat – Left Side' and \"\n",
    "             \"RESTRAINTS_C == 'Not Used' and RESTRAINTS_S == 'Not Used' and \"\n",
    "             \"(AIR_BAG_DEPLOYMENT_S != 'Deployed') and \"\n",
    "             \"(AIR_BAG_DEPLOYMENT_C != 'Deployed')\",\n",
    "     'subject': {'sex': 'SEX_C', 'age': 'AGE_C',\n",
    "                 'dead': 'DEAD_C', 'id': 'PER_ID_C',\n",
    "                 'bin': [x for x in range(0, 101, 5)]\n",
    "                },\n",
    "     'control': {'sex': 'SEX_S', 'age': 'AGE_S',\n",
    "                 'dead': 'DEAD_S', 'id': 'PER_ID_S',\n",
    "                 'bin': [15, 24, 34, 54, 100]\n",
    "                },\n",
    "     'title': 'Unbelted left rear passengers, airbag not deployed'\n",
    "    }, #Unbelted rear left passengers\n",
    "    {'data': \"SEAT_POS_C == 'Second Seat – Right Side' and \"\n",
    "             \"RESTRAINTS_C == 'Not Used' and RESTRAINTS_S == 'Not Used' and \"\n",
    "             \"(AIR_BAG_DEPLOYMENT_S != 'Deployed') and \"\n",
    "             \"(AIR_BAG_DEPLOYMENT_C != 'Deployed')\",\n",
    "     'subject': {'sex': 'SEX_C', 'age': 'AGE_C',\n",
    "                 'dead': 'DEAD_C', 'id': 'PER_ID_C',\n",
    "                 'bin': [x for x in range(0, 101, 5)]\n",
    "                },\n",
    "     'control': {'sex': 'SEX_S', 'age': 'AGE_S',\n",
    "                 'dead': 'DEAD_S', 'id': 'PER_ID_S',\n",
    "                 'bin': [15, 24, 34, 54, 100]\n",
    "                },\n",
    "     'title': 'Unbelted right rear passengers, airbag not deployed'\n",
    "    }, #Unbelted rear right passengers\n",
    "    {'data': \"SEAT_POS_C == 'Second Seat – Left Side' and \"\n",
    "             \"RESTRAINTS_C == 'Used' and RESTRAINTS_S == 'Used' and \"\n",
    "             \"(AIR_BAG_DEPLOYMENT_S != 'Deployed') and \"\n",
    "             \"(AIR_BAG_DEPLOYMENT_C != 'Deployed')\",\n",
    "     'subject': {'sex': 'SEX_C', 'age': 'AGE_C',\n",
    "                 'dead': 'DEAD_C', 'id': 'PER_ID_C',\n",
    "                 'bin': [x for x in range(0, 101, 5)]\n",
    "                },\n",
    "     'control': {'sex': 'SEX_S', 'age': 'AGE_S',\n",
    "                 'dead': 'DEAD_S', 'id': 'PER_ID_S',\n",
    "                 'bin': [15, 24, 34, 54, 100]\n",
    "                },\n",
    "     'title': 'Belted left rear passengers, airbag not deployed'\n",
    "    }, #Unbelted rear left passengers\n",
    "    {'data': \"SEAT_POS_C == 'Second Seat – Right Side' and \"\n",
    "             \"RESTRAINTS_C == 'Used' and RESTRAINTS_S == 'Used' and \"\n",
    "             \"(AIR_BAG_DEPLOYMENT_S != 'Deployed') and \"\n",
    "             \"(AIR_BAG_DEPLOYMENT_C != 'Deployed')\",\n",
    "     'subject': {'sex': 'SEX_C', 'age': 'AGE_C',\n",
    "                 'dead': 'DEAD_C', 'id': 'PER_ID_C',\n",
    "                 'bin': [x for x in range(0, 101, 5)]\n",
    "                },\n",
    "     'control': {'sex': 'SEX_S', 'age': 'AGE_S',\n",
    "                 'dead': 'DEAD_S', 'id': 'PER_ID_S',\n",
    "                 'bin': [15, 24, 34, 54, 100]\n",
    "                },\n",
    "     'title': 'Belted right rear passengers, airbag not deployed'\n",
    "    }, #Unbelted rear right passengers\"\"\"\n",
    "\n",
    "\"\"\"{'data': \"SEAT_POS_C == 'Second Seat – Left Side' and \"\n",
    "             \"RESTRAINTS_C == 'Not Used' and RESTRAINTS_S == 'Not Used' and \"\n",
    "             \"(AIR_BAG_DEPLOYMENT_S == 'Deployed') and \"\n",
    "             \"(AIR_BAG_DEPLOYMENT_C == 'Deployed')\",\n",
    "     'subject': {'sex': 'SEX_C', 'age': 'AGE_C',\n",
    "                 'dead': 'DEAD_C', 'id': 'PER_ID_C',\n",
    "                 'bin': [x for x in range(0, 101, 5)]\n",
    "                },\n",
    "     'control': {'sex': 'SEX_S', 'age': 'AGE_S',\n",
    "                 'dead': 'DEAD_S', 'id': 'PER_ID_S',\n",
    "                 'bin': [15, 24, 34, 54, 100]\n",
    "                },\n",
    "     'title': 'Unbelted left rear passengers, airbag deployed'\n",
    "    }, #Unbelted rear left passengers\n",
    "    {'data': \"SEAT_POS_C == 'Second Seat – Right Side' and \"\n",
    "             \"RESTRAINTS_C == 'Not Used' and RESTRAINTS_S == 'Not Used' and \"\n",
    "             \"(AIR_BAG_DEPLOYMENT_S == 'Deployed') and \"\n",
    "             \"(AIR_BAG_DEPLOYMENT_C == 'Deployed')\",\n",
    "     'subject': {'sex': 'SEX_C', 'age': 'AGE_C',\n",
    "                 'dead': 'DEAD_C', 'id': 'PER_ID_C',\n",
    "                 'bin': [x for x in range(0, 101, 5)]\n",
    "                },\n",
    "     'control': {'sex': 'SEX_S', 'age': 'AGE_S',\n",
    "                 'dead': 'DEAD_S', 'id': 'PER_ID_S',\n",
    "                 'bin': [15, 24, 34, 54, 100]\n",
    "                },\n",
    "     'title': 'Unbelted right rear passengers, airbag deployed'\n",
    "    }, #Unbelted rear right passengers\n",
    "    {'data': \"SEAT_POS_C == 'Second Seat – Left Side' and \"\n",
    "             \"RESTRAINTS_C == 'Used' and RESTRAINTS_S == 'Used' and \"\n",
    "             \"(AIR_BAG_DEPLOYMENT_S == 'Deployed') and \"\n",
    "             \"(AIR_BAG_DEPLOYMENT_C == 'Deployed')\",\n",
    "     'subject': {'sex': 'SEX_C', 'age': 'AGE_C',\n",
    "                 'dead': 'DEAD_C', 'id': 'PER_ID_C',\n",
    "                 'bin': [x for x in range(0, 101, 5)]\n",
    "                },\n",
    "     'control': {'sex': 'SEX_S', 'age': 'AGE_S',\n",
    "                 'dead': 'DEAD_S', 'id': 'PER_ID_S',\n",
    "                 'bin': [15, 24, 34, 54, 100]\n",
    "                },\n",
    "     'title': 'Belted left rear passengers, airbag deployed'\n",
    "    }, #Unbelted rear left passengers\n",
    "    {'data': \"SEAT_POS_C == 'Second Seat – Right Side' and \"\n",
    "             \"RESTRAINTS_C == 'Used' and RESTRAINTS_S == 'Used' and \"\n",
    "             \"(AIR_BAG_DEPLOYMENT_S == 'Deployed') and \"\n",
    "             \"(AIR_BAG_DEPLOYMENT_C == 'Deployed')\",\n",
    "     'subject': {'sex': 'SEX_C', 'age': 'AGE_C',\n",
    "                 'dead': 'DEAD_C', 'id': 'PER_ID_C',\n",
    "                 'bin': [x for x in range(0, 101, 5)]\n",
    "                },\n",
    "     'control': {'sex': 'SEX_S', 'age': 'AGE_S',\n",
    "                 'dead': 'DEAD_S', 'id': 'PER_ID_S',\n",
    "                 'bin': [15, 24, 34, 54, 100]\n",
    "                },\n",
    "     'title': 'Belted right rear passengers, airbag deployed'\n",
    "    }, #Unbelted rear right passengers\n",
    "    \"\"\"\n",
    "subsets = [\n",
    "    {'data': \"SEAT_POS_C == 'Front Seat – Right Side' and \"\n",
    "             \"RESTRAINTS_C == 'Not Used' and RESTRAINTS_S == 'Not Used' and \"\n",
    "             \"(AIR_BAG_DEPLOYMENT_S == 'Deployed') and \"\n",
    "             \"(AIR_BAG_DEPLOYMENT_C == 'Deployed')\",\n",
    "     'subject': {'sex': 'SEX_S', 'age': 'AGE_S',\n",
    "                 'dead': 'DEAD_S', 'id': 'PER_ID_S',\n",
    "                 'bin': [15] + [x for x in range(22, 101, 5)]\n",
    "                },\n",
    "     'control': {'sex': 'SEX_C', 'age': 'AGE_C',\n",
    "                 'dead': 'DEAD_C', 'id': 'PER_ID_C',\n",
    "                 'bin': [15, 24, 34, 54, 100]\n",
    "                },\n",
    "     'title': 'Unbelted drivers, airbag deployed'\n",
    "    }, #Unbelted drivers\n",
    "    {'data': \"SEAT_POS_C == 'Front Seat – Right Side' and \"\n",
    "             \"RESTRAINTS_C == 'Not Used' and RESTRAINTS_S == 'Not Used' and \"\n",
    "             \"(AIR_BAG_DEPLOYMENT_S == 'Deployed') and \"\n",
    "             \"(AIR_BAG_DEPLOYMENT_C == 'Deployed')\",\n",
    "     'subject': {'sex': 'SEX_C', 'age': 'AGE_C',\n",
    "                 'dead': 'DEAD_C', 'id': 'PER_ID_C',\n",
    "                 'bin': [x for x in range(0, 101, 5)]\n",
    "                },\n",
    "     'control': {'sex': 'SEX_S', 'age': 'AGE_S',\n",
    "                 'dead': 'DEAD_S', 'id': 'PER_ID_S',\n",
    "                 'bin': [15, 24, 34, 54, 100]\n",
    "                },\n",
    "     'title': 'Unbelted right front passengers, airbag deployed'\n",
    "    }, #Unbelted front right passengers\n",
    "    {'data': \"SEAT_POS_C == 'Front Seat – Right Side' and \"\n",
    "             \"RESTRAINTS_C == 'Used' and RESTRAINTS_S == 'Used' and \"\n",
    "             \"(AIR_BAG_DEPLOYMENT_S == 'Deployed') and \"\n",
    "             \"(AIR_BAG_DEPLOYMENT_C == 'Deployed')\",\n",
    "     'subject': {'sex': 'SEX_S', 'age': 'AGE_S',\n",
    "                 'dead': 'DEAD_S', 'id': 'PER_ID_S',\n",
    "                 'bin': [15] + [x for x in range(22, 101, 5)]\n",
    "                },\n",
    "     'control': {'sex': 'SEX_C', 'age': 'AGE_C',\n",
    "                 'dead': 'DEAD_C', 'id': 'PER_ID_C',\n",
    "                 'bin': [15, 24, 34, 54, 100]\n",
    "                },\n",
    "     'title': 'Belted drivers, airbag deployed'\n",
    "    }, #Belted drivers\n",
    "    {'data': \"SEAT_POS_C == 'Front Seat – Right Side' and \"\n",
    "             \"RESTRAINTS_C == 'Used' and RESTRAINTS_S == 'Used' and \"\n",
    "             \"(AIR_BAG_DEPLOYMENT_S == 'Deployed') and \"\n",
    "             \"(AIR_BAG_DEPLOYMENT_C == 'Deployed')\",\n",
    "     'subject': {'sex': 'SEX_C', 'age': 'AGE_C',\n",
    "                 'dead': 'DEAD_C', 'id': 'PER_ID_C',\n",
    "                 'bin': [x for x in range(0, 101, 5)]\n",
    "                },\n",
    "     'control': {'sex': 'SEX_S', 'age': 'AGE_S',\n",
    "                 'dead': 'DEAD_S', 'id': 'PER_ID_S',\n",
    "                 'bin': [15, 24, 34, 54, 100]\n",
    "                },\n",
    "     'title': 'Belted right front passengers, airbag deployed'\n",
    "    }, #Belted front right passengers\n",
    "    \n",
    "    {'data': \"SEAT_POS_C == 'Front Seat – Right Side' and \"\n",
    "             \"RESTRAINTS_C == 'Not Used' and RESTRAINTS_S == 'Not Used' and \"\n",
    "             \"(AIR_BAG_DEPLOYMENT_S != 'Deployed') and \"\n",
    "             \"(AIR_BAG_DEPLOYMENT_C != 'Deployed')\",\n",
    "     'subject': {'sex': 'SEX_S', 'age': 'AGE_S',\n",
    "                 'dead': 'DEAD_S', 'id': 'PER_ID_S',\n",
    "                 'bin': [15] + [x for x in range(22, 101, 5)]\n",
    "                },\n",
    "     'control': {'sex': 'SEX_C', 'age': 'AGE_C',\n",
    "                 'dead': 'DEAD_C', 'id': 'PER_ID_C',\n",
    "                 'bin': [15, 24, 34, 54, 100]\n",
    "                },\n",
    "     'title': 'Unbelted drivers, airbag not deployed'\n",
    "    }, #Unbelted drivers\n",
    "    {'data': \"SEAT_POS_C == 'Front Seat – Right Side' and \"\n",
    "             \"RESTRAINTS_C == 'Not Used' and RESTRAINTS_S == 'Not Used' and \"\n",
    "             \"(AIR_BAG_DEPLOYMENT_S != 'Deployed') and \"\n",
    "             \"(AIR_BAG_DEPLOYMENT_C != 'Deployed')\",\n",
    "     'subject': {'sex': 'SEX_C', 'age': 'AGE_C',\n",
    "                 'dead': 'DEAD_C', 'id': 'PER_ID_C',\n",
    "                 'bin': [x for x in range(0, 101, 5)]\n",
    "                },\n",
    "     'control': {'sex': 'SEX_S', 'age': 'AGE_S',\n",
    "                 'dead': 'DEAD_S', 'id': 'PER_ID_S',\n",
    "                 'bin': [15, 24, 34, 54, 100]\n",
    "                },\n",
    "     'title': 'Unbelted right front passengers, airbag not deployed'\n",
    "    }, #Unbelted front right passengers\n",
    "    {'data': \"SEAT_POS_C == 'Front Seat – Right Side' and \"\n",
    "             \"RESTRAINTS_C == 'Used' and RESTRAINTS_S == 'Used' and \"\n",
    "             \"(AIR_BAG_DEPLOYMENT_S != 'Deployed') and \"\n",
    "             \"(AIR_BAG_DEPLOYMENT_C != 'Deployed')\",\n",
    "     'subject': {'sex': 'SEX_S', 'age': 'AGE_S',\n",
    "                 'dead': 'DEAD_S', 'id': 'PER_ID_S',\n",
    "                 'bin': [15] + [x for x in range(22, 101, 5)]\n",
    "                },\n",
    "     'control': {'sex': 'SEX_C', 'age': 'AGE_C',\n",
    "                 'dead': 'DEAD_C', 'id': 'PER_ID_C',\n",
    "                 'bin': [15, 24, 34, 54, 100]\n",
    "                },\n",
    "     'title': 'Belted drivers, airbag not deployed'\n",
    "    }, #Belted drivers\n",
    "    {'data': \"SEAT_POS_C == 'Front Seat – Right Side' and \"\n",
    "             \"RESTRAINTS_C == 'Used' and RESTRAINTS_S == 'Used' and \"\n",
    "             \"(AIR_BAG_DEPLOYMENT_S != 'Deployed') and \"\n",
    "             \"(AIR_BAG_DEPLOYMENT_C != 'Deployed')\",\n",
    "     'subject': {'sex': 'SEX_C', 'age': 'AGE_C',\n",
    "                 'dead': 'DEAD_C', 'id': 'PER_ID_C',\n",
    "                 'bin': [x for x in range(0, 101, 5)]\n",
    "                },\n",
    "     'control': {'sex': 'SEX_S', 'age': 'AGE_S',\n",
    "                 'dead': 'DEAD_S', 'id': 'PER_ID_S',\n",
    "                 'bin': [15, 24, 34, 54, 100]\n",
    "                },\n",
    "     'title': 'Belted right front passengers, airbag not deployed'\n",
    "    }, #Belted front right passengers\n",
    "   \n",
    "]\n",
    "\n",
    "res = pm.execute_notebook(\n",
    "       '0.0 Final Template.ipynb',\n",
    "       'final/4.4_Matching_AirBag_2010-2018.ipynb',\n",
    "       parameters=dict(start_year=2010,\n",
    "                       end_year=2018,\n",
    "                       vehicle_types=vehicle_type,\n",
    "                       base_filter=base_filt,\n",
    "                       merged = str(tmp_file_path / \"merged.pkl\"),\n",
    "                       final_runs = True,\n",
    "                       subsets=subsets,\n",
    "                       image_outputs='4 4.4 Matching Airbag 2010-2018')\n",
    ")\n",
    "\n",
    "res = pm.execute_notebook(\n",
    "       '0.0 Final Template.ipynb',\n",
    "       'final/4.1_Matching_AirBag_Evans_1975-1998.ipynb',\n",
    "       parameters=dict(start_year=1975,\n",
    "                       end_year=1998,\n",
    "                       vehicle_types=vehicle_type,\n",
    "                       base_filter=base_filt,\n",
    "                       merged = str(tmp_file_path / \"merged.pkl\"),\n",
    "                       final_runs = True,\n",
    "                       subsets=subsets,\n",
    "                       image_outputs='4 4.1 Matching Airbag Evans_75-98')\n",
    ")\n",
    "\n",
    "res = pm.execute_notebook(\n",
    "       '0.0 Final Template.ipynb',\n",
    "       'final/4.2_Matching_AirBag_1999-2018.ipynb',\n",
    "       parameters=dict(start_year=1999,\n",
    "                       end_year=2018,\n",
    "                       vehicle_types=vehicle_type,\n",
    "                       base_filter=base_filt,\n",
    "                       merged = str(tmp_file_path / \"merged.pkl\"),\n",
    "                       final_runs = True,\n",
    "                       subsets=subsets,\n",
    "                       image_outputs='4 4.2 Matching Airbag 1999-2018')\n",
    ")\n",
    "res = pm.execute_notebook(\n",
    "       '0.0 Final Template.ipynb',\n",
    "       'final/4.3_Matching_AirBag_1975-2018.ipynb',\n",
    "       parameters=dict(start_year=1975,\n",
    "                       end_year=2018,\n",
    "                       vehicle_types=vehicle_type,\n",
    "                       base_filter=base_filt,\n",
    "                       merged = str(tmp_file_path / \"merged.pkl\"),\n",
    "                       final_runs = True,\n",
    "                       subsets=subsets,\n",
    "                       image_outputs='4 4.3 Matching Airbag 1975-2018')\n",
    ")\n",
    "\n",
    "res = pm.execute_notebook(\n",
    "       '0.0 Final Template.ipynb',\n",
    "       'final/4.5_Matching_AirBag_2015-2018.ipynb',\n",
    "       parameters=dict(start_year=2015,\n",
    "                       end_year=2018,\n",
    "                       vehicle_types=vehicle_type,\n",
    "                       base_filter=base_filt,\n",
    "                       merged = str(tmp_file_path / \"merged.pkl\"),\n",
    "                       final_runs = True,\n",
    "                       subsets=subsets,\n",
    "                       image_outputs='4 4.5 Matching Airbag 2015-2018')\n",
    ")"
   ]
  },
  {
   "cell_type": "code",
   "execution_count": 7,
   "metadata": {},
   "outputs": [],
   "source": [
    "rural_filter = f\"(SEX_C != 'Unknown') and (SEX_S != 'Unknown') and \"\\\n",
    "                \"(AGE_C < 99) and (AGE_S < 99) and (YEAR >= 1981) and (RURAL_OR_URBAN == 'Rural')\"\n",
    "urban_filter = f\"(SEX_C != 'Unknown') and (SEX_S != 'Unknown') and \"\\\n",
    "                \"(AGE_C < 99) and (AGE_S < 99) and (YEAR >= 1981) and (RURAL_OR_URBAN == 'Urban')\"\n",
    "airbag = \"PASSENGER_CAR and (SEX_C != 'Unknown') and (SEX_S != 'Unknown') and \"\\\n",
    "         \"(AGE_C < 99) and (AGE_S < 99) and (YEAR >= 1981) and (AIR_BAG_DEPLOYMENT_C == AIR_BAG_DEPLOYMENT_S) and \"\\\n",
    "         \"(AIR_BAG_DEPLOYMENT_C == 'Deployed')\"\n",
    "no_airbag = \"PASSENGER_CAR and (SEX_C != 'Unknown') and (SEX_S != 'Unknown') and \"\\\n",
    "         \"(AGE_C < 99) and (AGE_S < 99) and (YEAR >= 1981) and (AIR_BAG_DEPLOYMENT_C == AIR_BAG_DEPLOYMENT_S) and \"\\\n",
    "         \"(AIR_BAG_DEPLOYMENT_C != 'Deployed')\"\n"
   ]
  },
  {
   "cell_type": "markdown",
   "metadata": {},
   "source": [
    "## Rural vs. Urban"
   ]
  },
  {
   "cell_type": "code",
   "execution_count": 8,
   "metadata": {},
   "outputs": [
    {
     "data": {
      "application/vnd.jupyter.widget-view+json": {
       "model_id": "92c441edb7c04654a16c7cf7a7edb31a",
       "version_major": 2,
       "version_minor": 0
      },
      "text/plain": [
       "HBox(children=(FloatProgress(value=0.0, description='Executing', max=37.0, style=ProgressStyle(description_wid…"
      ]
     },
     "metadata": {},
     "output_type": "display_data"
    },
    {
     "name": "stdout",
     "output_type": "stream",
     "text": [
      "\n"
     ]
    },
    {
     "data": {
      "application/vnd.jupyter.widget-view+json": {
       "model_id": "430ff03ad69241a8b8d063e989466a0c",
       "version_major": 2,
       "version_minor": 0
      },
      "text/plain": [
       "HBox(children=(FloatProgress(value=0.0, description='Executing', max=37.0, style=ProgressStyle(description_wid…"
      ]
     },
     "metadata": {},
     "output_type": "display_data"
    },
    {
     "name": "stdout",
     "output_type": "stream",
     "text": [
      "\n"
     ]
    }
   ],
   "source": [
    "res = pm.execute_notebook(\n",
    "       '0.0 Final Template.ipynb',\n",
    "       'final/8.1_Rural.ipynb',\n",
    "        parameters=dict(start_year=2000,\n",
    "                       end_year=2018,\n",
    "                       vehicle_types=['PASSENGER_CAR', 'LIGHT_TRUCK_OR_VAN'],\n",
    "                       base_filter=rural_filter,\n",
    "                       merged = str(tmp_file_path / \"merged.pkl\"),\n",
    "                       final_runs = True,\n",
    "                       image_outputs='8.1_Rural')\n",
    ")\n",
    "res = pm.execute_notebook(\n",
    "       '0.0 Final Template.ipynb',\n",
    "       'final/8.2_Urban.ipynb',\n",
    "        parameters=dict(start_year=2000,\n",
    "                       end_year=2018,\n",
    "                       vehicle_types=['PASSENGER_CAR', 'LIGHT_TRUCK_OR_VAN'],\n",
    "                       base_filter=urban_filter,\n",
    "                       merged = str(tmp_file_path / \"merged.pkl\"),\n",
    "                       final_runs = True,\n",
    "                       image_outputs='8.2_Urban')\n",
    ")"
   ]
  },
  {
   "cell_type": "markdown",
   "metadata": {},
   "source": [
    "## Late model vehicles"
   ]
  },
  {
   "cell_type": "code",
   "execution_count": 28,
   "metadata": {},
   "outputs": [
    {
     "data": {
      "application/vnd.jupyter.widget-view+json": {
       "model_id": "c0443af301cd4c1aa75172f8cb526289",
       "version_major": 2,
       "version_minor": 0
      },
      "text/plain": [
       "HBox(children=(FloatProgress(value=0.0, description='Executing', max=34.0, style=ProgressStyle(description_wid…"
      ]
     },
     "metadata": {},
     "output_type": "display_data"
    },
    {
     "name": "stdout",
     "output_type": "stream",
     "text": [
      "\n"
     ]
    }
   ],
   "source": [
    "late_model = \"PASSENGER_CAR and (SEX_C != 'Unknown') and (SEX_S != 'Unknown') and \"\\\n",
    "             \"(AGE_C < 99) and (AGE_S < 99) and \"\\\n",
    "             \"((MOD_YEAR+10) >= YEAR) and (MOD_YEAR <= (YEAR+2))\"\n",
    "res = pm.execute_notebook('0.0 Final Template.ipynb',\n",
    "                          'final/5.1_Late_Model.ipynb',\n",
    "                          parameters=dict(start_year=1975,\n",
    "                                          end_year=2018,\n",
    "                                          vehicle_types=vehicle_type,\n",
    "                                          base_filter=late_model,\n",
    "                                          merged=str(tmp_file_path /\n",
    "                                                     \"merged.pkl\"),\n",
    "                                          final_runs=True,\n",
    "                                          image_outputs='5.1_Late_Model'))"
   ]
  },
  {
   "cell_type": "code",
   "execution_count": 29,
   "metadata": {},
   "outputs": [
    {
     "data": {
      "application/vnd.jupyter.widget-view+json": {
       "model_id": "0a942c965c844dc4972725280a35259d",
       "version_major": 2,
       "version_minor": 0
      },
      "text/plain": [
       "HBox(children=(FloatProgress(value=0.0, description='Executing', max=34.0, style=ProgressStyle(description_wid…"
      ]
     },
     "metadata": {},
     "output_type": "display_data"
    },
    {
     "name": "stdout",
     "output_type": "stream",
     "text": [
      "\n"
     ]
    }
   ],
   "source": [
    "late_model = \"PASSENGER_CAR and (SEX_C != 'Unknown') and (SEX_S != 'Unknown') and \"\\\n",
    "             \"(AGE_C < 99) and (AGE_S < 99) and \"\\\n",
    "             \"((MOD_YEAR+10) >= YEAR) and (MOD_YEAR <= (YEAR+2))\"\n",
    "res = pm.execute_notebook('0.0 Final Template.ipynb',\n",
    "                          'final/5.2_Late_Model_2010.ipynb',\n",
    "                          parameters=dict(start_year=2010,\n",
    "                                          end_year=2018,\n",
    "                                          vehicle_types=vehicle_type,\n",
    "                                          base_filter=late_model,\n",
    "                                          merged=str(tmp_file_path /\n",
    "                                                     \"merged.pkl\"),\n",
    "                                          final_runs=True,\n",
    "                                          image_outputs='5.2_Late_Model_2010'))"
   ]
  },
  {
   "cell_type": "code",
   "execution_count": 9,
   "metadata": {
    "code_folding": []
   },
   "outputs": [],
   "source": [
    "subsets_driver_only = [\n",
    "    {'data': \"SEAT_POS_C == 'Front Seat – Right Side' and \"\n",
    "             \"RESTRAINTS_C == 'Not Used' and RESTRAINTS_S == 'Not Used'\",\n",
    "     'subject': {'sex': 'SEX_S', 'age': 'AGE_S',\n",
    "                 'dead': 'DEAD_S', 'id': 'PER_ID_S',\n",
    "                 'bin': [15] + [x for x in range(22, 101, 5)]\n",
    "                },\n",
    "     'control': {'sex': 'SEX_C', 'age': 'AGE_C',\n",
    "                 'dead': 'DEAD_C', 'id': 'PER_ID_C',\n",
    "                 'bin': [15, 24, 34, 54, 100]\n",
    "                },\n",
    "     'title': 'Unbelted drivers'\n",
    "    }, #Unbelted drivers\n",
    "    {'data': \"SEAT_POS_C == 'Front Seat – Right Side' and \"\n",
    "             \"RESTRAINTS_C == 'Used' and RESTRAINTS_S == 'Used'\",\n",
    "     'subject': {'sex': 'SEX_S', 'age': 'AGE_S',\n",
    "                 'dead': 'DEAD_S', 'id': 'PER_ID_S',\n",
    "                 'bin': [15] + [x for x in range(22, 101, 5)]\n",
    "                },\n",
    "     'control': {'sex': 'SEX_C', 'age': 'AGE_C',\n",
    "                 'dead': 'DEAD_C', 'id': 'PER_ID_C',\n",
    "                 'bin': [15, 24, 34, 54, 100]\n",
    "                },\n",
    "     'title': 'Belted drivers'\n",
    "    }, #Belted drivers\n",
    "]"
   ]
  },
  {
   "cell_type": "code",
   "execution_count": 11,
   "metadata": {
    "scrolled": true
   },
   "outputs": [
    {
     "data": {
      "application/vnd.jupyter.widget-view+json": {
       "model_id": "97c1256a11584877ae4555c05d9bd448",
       "version_major": 2,
       "version_minor": 0
      },
      "text/plain": [
       "HBox(children=(FloatProgress(value=0.0, description='Executing', max=37.0, style=ProgressStyle(description_wid…"
      ]
     },
     "metadata": {},
     "output_type": "display_data"
    },
    {
     "name": "stdout",
     "output_type": "stream",
     "text": [
      "\n"
     ]
    },
    {
     "data": {
      "application/vnd.jupyter.widget-view+json": {
       "model_id": "9e35397a482a491ba0c598cdfb16804a",
       "version_major": 2,
       "version_minor": 0
      },
      "text/plain": [
       "HBox(children=(FloatProgress(value=0.0, description='Executing', max=37.0, style=ProgressStyle(description_wid…"
      ]
     },
     "metadata": {},
     "output_type": "display_data"
    },
    {
     "name": "stdout",
     "output_type": "stream",
     "text": [
      "\n"
     ]
    }
   ],
   "source": [
    "drinking = \"(SEX_C != 'Unknown') and (SEX_S != 'Unknown') and \"\\\n",
    "         \"(AGE_C < 99) and (AGE_S < 99) and (AIR_BAG_DEPLOYMENT_C == AIR_BAG_DEPLOYMENT_S) and \"\\\n",
    "         \"DRINKING_S == 'Yes (Alcohol Involved)'\"\n",
    "res = pm.execute_notebook(\n",
    "       '0.0 Final Template.ipynb',\n",
    "       'final/8.3_Drinking.ipynb',\n",
    "        parameters=dict(start_year=2000,\n",
    "                       end_year=2018,\n",
    "                       vehicle_types=['PASSENGER_CAR'],\n",
    "                       base_filter=drinking,\n",
    "                       merged = str(tmp_file_path / \"merged.pkl\"),\n",
    "                       final_runs = True,\n",
    "                       driver_only = True,\n",
    "                       subsets=subsets_driver_only,\n",
    "                       image_outputs='8.3_Drinking')\n",
    ")\n",
    "not_drinking = \"(SEX_C != 'Unknown') and (SEX_S != 'Unknown') and \"\\\n",
    "         \"(AGE_C < 99) and (AGE_S < 99) and (AIR_BAG_DEPLOYMENT_C == AIR_BAG_DEPLOYMENT_S) and \"\\\n",
    "         \"DRINKING_S != 'Yes (Alcohol Involved)'\"\n",
    "res = pm.execute_notebook(\n",
    "       '0.0 Final Template.ipynb',\n",
    "       'final/8.4_NoDrinking.ipynb',\n",
    "        parameters=dict(start_year=2000,\n",
    "                       end_year=2018,\n",
    "                       vehicle_types=['PASSENGER_CAR'],\n",
    "                       base_filter=not_drinking,\n",
    "                       merged = str(tmp_file_path / \"merged.pkl\"),\n",
    "                       final_runs = True,\n",
    "                       driver_only = True,\n",
    "                       subsets = subsets_driver_only,\n",
    "                       image_outputs='8.4_NoDrinking')\n",
    ")"
   ]
  },
  {
   "cell_type": "code",
   "execution_count": 12,
   "metadata": {
    "scrolled": true
   },
   "outputs": [
    {
     "data": {
      "application/vnd.jupyter.widget-view+json": {
       "model_id": "a1933650f8a94f68954943bb78dc0654",
       "version_major": 2,
       "version_minor": 0
      },
      "text/plain": [
       "HBox(children=(FloatProgress(value=0.0, description='Executing', max=37.0, style=ProgressStyle(description_wid…"
      ]
     },
     "metadata": {},
     "output_type": "display_data"
    },
    {
     "name": "stdout",
     "output_type": "stream",
     "text": [
      "\n"
     ]
    },
    {
     "data": {
      "application/vnd.jupyter.widget-view+json": {
       "model_id": "8b217b522a644e94bf437022bcf5be1a",
       "version_major": 2,
       "version_minor": 0
      },
      "text/plain": [
       "HBox(children=(FloatProgress(value=0.0, description='Executing', max=37.0, style=ProgressStyle(description_wid…"
      ]
     },
     "metadata": {},
     "output_type": "display_data"
    },
    {
     "name": "stdout",
     "output_type": "stream",
     "text": [
      "\n"
     ]
    }
   ],
   "source": [
    "drugs = \"(SEX_C != 'Unknown') and (SEX_S != 'Unknown') and \"\\\n",
    "         \"(AGE_C < 99) and (AGE_S < 99) and (AIR_BAG_DEPLOYMENT_C == AIR_BAG_DEPLOYMENT_S) and \"\\\n",
    "         \"DRUGS_S == 'Yes (drugs involved)'\"\n",
    "res = pm.execute_notebook(\n",
    "       '0.0 Final Template.ipynb',\n",
    "       'final/8.5_Drugs.ipynb',\n",
    "        parameters=dict(start_year=2000,\n",
    "                       end_year=2018,\n",
    "                       vehicle_types=['PASSENGER_CAR'],\n",
    "                       base_filter=drugs,\n",
    "                       merged = str(tmp_file_path / \"merged.pkl\"),\n",
    "                       final_runs = True,\n",
    "                       driver_only = True,\n",
    "                       subsets=subsets_driver_only,\n",
    "                       image_outputs='8.5_Drugs')\n",
    ")\n",
    "no_drugs = \"(SEX_C != 'Unknown') and (SEX_S != 'Unknown') and \"\\\n",
    "         \"(AGE_C < 99) and (AGE_S < 99) and (AIR_BAG_DEPLOYMENT_C == AIR_BAG_DEPLOYMENT_S) and \"\\\n",
    "         \"DRUGS_S != 'Yes (drugs involved)'\"\n",
    "res = pm.execute_notebook(\n",
    "       '0.0 Final Template.ipynb',\n",
    "       'final/8.6_NoDrugs.ipynb',\n",
    "        parameters=dict(start_year=2000,\n",
    "                       end_year=2018,\n",
    "                       vehicle_types=['PASSENGER_CAR'],\n",
    "                       base_filter=no_drugs,\n",
    "                       merged = str(tmp_file_path / \"merged.pkl\"),\n",
    "                       final_runs = True,\n",
    "                       driver_only = True,\n",
    "                       subsets = subsets_driver_only,\n",
    "                       image_outputs='8.6_NoDrugs')\n",
    ")"
   ]
  },
  {
   "cell_type": "code",
   "execution_count": 98,
   "metadata": {},
   "outputs": [
    {
     "data": {
      "application/vnd.jupyter.widget-view+json": {
       "model_id": "585665941ca346fd9f36d407aecf2a6c",
       "version_major": 2,
       "version_minor": 0
      },
      "text/plain": [
       "HBox(children=(FloatProgress(value=0.0, description='Executing', max=21.0, style=ProgressStyle(description_wid…"
      ]
     },
     "metadata": {},
     "output_type": "display_data"
    },
    {
     "name": "stdout",
     "output_type": "stream",
     "text": [
      "\n"
     ]
    }
   ],
   "source": [
    "one_car = \"PASSENGER_CAR and (SEX_C != 'Unknown') and (SEX_S != 'Unknown') and \"\\\n",
    "             \"(AGE_C < 99) and (AGE_S < 99) and (AIR_BAG_DEPLOYMENT_C == AIR_BAG_DEPLOYMENT_S) and \"\\\n",
    "             \"VE_FORMS == 1\"\n",
    "res = pm.execute_notebook(\n",
    "       '8.0_Comprehensive_Compilation.ipynb',\n",
    "       '8.8_Single_Car_Crash.ipynb',\n",
    "       parameters=dict(image_outputs='8.8_Single_Car_Crash',\n",
    "                       base_filter=one_car,\n",
    "                       merged = str(tmp_file_path / \"merged.pkl\"),\n",
    "                       )\n",
    ")"
   ]
  },
  {
   "cell_type": "code",
   "execution_count": 99,
   "metadata": {},
   "outputs": [
    {
     "data": {
      "application/vnd.jupyter.widget-view+json": {
       "model_id": "3a54412ab0604ca99b9140202c3ea529",
       "version_major": 2,
       "version_minor": 0
      },
      "text/plain": [
       "HBox(children=(FloatProgress(value=0.0, description='Executing', max=21.0, style=ProgressStyle(description_wid…"
      ]
     },
     "metadata": {},
     "output_type": "display_data"
    },
    {
     "name": "stdout",
     "output_type": "stream",
     "text": [
      "\n"
     ]
    }
   ],
   "source": [
    "two_car = \"PASSENGER_CAR and (SEX_C != 'Unknown') and (SEX_S != 'Unknown') and \"\\\n",
    "             \"(AGE_C < 99) and (AGE_S < 99) and (AIR_BAG_DEPLOYMENT_C == AIR_BAG_DEPLOYMENT_S) and \"\\\n",
    "             \"VE_FORMS == 2\"\n",
    "res = pm.execute_notebook(\n",
    "       '8.0_Comprehensive_Compilation.ipynb',\n",
    "       '8.9_Two_Car_Crash.ipynb',\n",
    "       parameters=dict(image_outputs='8.9_Two_Car_Crash',\n",
    "                       base_filter=two_car,\n",
    "                       merged = str(tmp_file_path / \"merged.pkl\"),\n",
    "                       )\n",
    ")"
   ]
  },
  {
   "cell_type": "code",
   "execution_count": 100,
   "metadata": {},
   "outputs": [
    {
     "data": {
      "application/vnd.jupyter.widget-view+json": {
       "model_id": "62f9a499bd154dcd89ef428ca350d1e7",
       "version_major": 2,
       "version_minor": 0
      },
      "text/plain": [
       "HBox(children=(FloatProgress(value=0.0, description='Executing', max=21.0, style=ProgressStyle(description_wid…"
      ]
     },
     "metadata": {},
     "output_type": "display_data"
    },
    {
     "name": "stdout",
     "output_type": "stream",
     "text": [
      "\n"
     ]
    }
   ],
   "source": [
    "three_plus_crash = \"PASSENGER_CAR and (SEX_C != 'Unknown') and (SEX_S != 'Unknown') and \"\\\n",
    "             \"(AGE_C < 99) and (AGE_S < 99) and (AIR_BAG_DEPLOYMENT_C == AIR_BAG_DEPLOYMENT_S) and \"\\\n",
    "             \"VE_FORMS >= 3\"\n",
    "res = pm.execute_notebook(\n",
    "       '8.0_Comprehensive_Compilation.ipynb',\n",
    "       '8.10_Three_Plus_Crash.ipynb',\n",
    "       parameters=dict(image_outputs='8.10_Three_Plus_Crash',\n",
    "                       base_filter=three_plus_crash,\n",
    "                       merged = str(tmp_file_path / \"merged.pkl\"),\n",
    "                       )\n",
    ")"
   ]
  },
  {
   "cell_type": "code",
   "execution_count": 156,
   "metadata": {},
   "outputs": [
    {
     "data": {
      "application/vnd.jupyter.widget-view+json": {
       "model_id": "84bc47ab685247d09ba7d200dafa4c0e",
       "version_major": 2,
       "version_minor": 0
      },
      "text/plain": [
       "HBox(children=(FloatProgress(value=0.0, description='Executing', max=21.0, style=ProgressStyle(description_wid…"
      ]
     },
     "metadata": {},
     "output_type": "display_data"
    },
    {
     "name": "stdout",
     "output_type": "stream",
     "text": [
      "\n"
     ]
    }
   ],
   "source": [
    "one_pass = \"PASSENGER_CAR and (SEX_C != 'Unknown') and (SEX_S != 'Unknown') and \"\\\n",
    "             \"(AGE_C < 99) and (AGE_S < 99) and (AIR_BAG_DEPLOYMENT_C == AIR_BAG_DEPLOYMENT_S) and \"\\\n",
    "             \"NUMOCCS == 2\"\n",
    "res = pm.execute_notebook(\n",
    "       '8.0_Comprehensive_Compilation.ipynb',\n",
    "       '8.11_One_Passenger.ipynb',\n",
    "       parameters=dict(image_outputs='8.11_One_Passenger',\n",
    "                       base_filter=one_pass,\n",
    "                       merged = str(tmp_file_path / \"merged.pkl\"),\n",
    "                       )\n",
    ")"
   ]
  },
  {
   "cell_type": "code",
   "execution_count": 157,
   "metadata": {},
   "outputs": [
    {
     "data": {
      "application/vnd.jupyter.widget-view+json": {
       "model_id": "f64178594a2542daa588f7fc81b1c1a3",
       "version_major": 2,
       "version_minor": 0
      },
      "text/plain": [
       "HBox(children=(FloatProgress(value=0.0, description='Executing', max=21.0, style=ProgressStyle(description_wid…"
      ]
     },
     "metadata": {},
     "output_type": "display_data"
    },
    {
     "name": "stdout",
     "output_type": "stream",
     "text": [
      "\n"
     ]
    }
   ],
   "source": [
    "two_pass = \"PASSENGER_CAR and (SEX_C != 'Unknown') and (SEX_S != 'Unknown') and \"\\\n",
    "             \"(AGE_C < 99) and (AGE_S < 99) and (AIR_BAG_DEPLOYMENT_C == AIR_BAG_DEPLOYMENT_S) and \"\\\n",
    "             \"NUMOCCS == 3\"\n",
    "res = pm.execute_notebook(\n",
    "       '8.0_Comprehensive_Compilation.ipynb',\n",
    "       '8.12_Two_Passenger.ipynb',\n",
    "       parameters=dict(image_outputs='8.12_Two_Passenger',\n",
    "                       base_filter=two_pass,\n",
    "                       merged = str(tmp_file_path / \"merged.pkl\"),\n",
    "                       )\n",
    ")"
   ]
  },
  {
   "cell_type": "code",
   "execution_count": 158,
   "metadata": {},
   "outputs": [
    {
     "data": {
      "application/vnd.jupyter.widget-view+json": {
       "model_id": "e281a271488148f8af31e1a6115f685c",
       "version_major": 2,
       "version_minor": 0
      },
      "text/plain": [
       "HBox(children=(FloatProgress(value=0.0, description='Executing', max=21.0, style=ProgressStyle(description_wid…"
      ]
     },
     "metadata": {},
     "output_type": "display_data"
    },
    {
     "name": "stdout",
     "output_type": "stream",
     "text": [
      "\n"
     ]
    }
   ],
   "source": [
    "three_plus_pass = \"PASSENGER_CAR and (SEX_C != 'Unknown') and (SEX_S != 'Unknown') and \"\\\n",
    "             \"(AGE_C < 99) and (AGE_S < 99) and (AIR_BAG_DEPLOYMENT_C == AIR_BAG_DEPLOYMENT_S) and \"\\\n",
    "             \"96 > NUMOCCS >= 4\"\n",
    "res = pm.execute_notebook(\n",
    "       '8.0_Comprehensive_Compilation.ipynb',\n",
    "       '8.13_Three_More_Passenger.ipynb',\n",
    "       parameters=dict(image_outputs='8.13_Three_More_Passenger',\n",
    "                       base_filter=three_plus_pass,\n",
    "                       merged = str(tmp_file_path / \"merged.pkl\"),\n",
    "                       )\n",
    ")"
   ]
  },
  {
   "cell_type": "code",
   "execution_count": 19,
   "metadata": {
    "scrolled": true
   },
   "outputs": [
    {
     "data": {
      "application/vnd.jupyter.widget-view+json": {
       "model_id": "11b8f810c69247708a81ebea42025b75",
       "version_major": 2,
       "version_minor": 0
      },
      "text/plain": [
       "HBox(children=(FloatProgress(value=0.0, max=46.0), HTML(value='')))"
      ]
     },
     "metadata": {},
     "output_type": "display_data"
    },
    {
     "ename": "PapermillExecutionError",
     "evalue": "\n---------------------------------------------------------------------------\nException encountered at \"In [11]\":\n---------------------------------------------------------------------------\nKeyError                                  Traceback (most recent call last)\n~/opt/anaconda3/envs/fars/lib/python3.7/site-packages/pandas/core/indexes/base.py in get_loc(self, key, method, tolerance)\n   2645             try:\n-> 2646                 return self._engine.get_loc(key)\n   2647             except KeyError:\n\npandas/_libs/index.pyx in pandas._libs.index.IndexEngine.get_loc()\n\npandas/_libs/index.pyx in pandas._libs.index.IndexEngine.get_loc()\n\npandas/_libs/hashtable_class_helper.pxi in pandas._libs.hashtable.PyObjectHashTable.get_item()\n\npandas/_libs/hashtable_class_helper.pxi in pandas._libs.hashtable.PyObjectHashTable.get_item()\n\nKeyError: 'R'\n\nDuring handling of the above exception, another exception occurred:\n\nKeyError                                  Traceback (most recent call last)\n<ipython-input-11-47010566f022> in <module>\n      1 if not driver_only:\n----> 2     fig = plot_doublepair(vehicle_results)\n      3     fig.savefig(fig_out / \"passenger_car_subsets.png\")\n      4 else:\n      5     fig = plot_driver_only(vehicle_results)\n\n<ipython-input-7-913efab495f3> in plot_doublepair(vehicle_results)\n     13         results[i].plot(x='Age', y='R', yerr='DeltaR', capsize=5, fmt='ko',\n     14                       ylim = (.5, 2), title=titles[i],\n---> 15                        ax = ax, legend=False)\n     16         ax.text(55, 1.85, f\"{counts[i]: ,} Fatalities\", fontsize=12)\n     17 \n\n~/opt/anaconda3/envs/fars/lib/python3.7/site-packages/pandas/plotting/_core.py in __call__(self, *args, **kwargs)\n    831 \n    832                 # don't overwrite\n--> 833                 data = data[y].copy()\n    834 \n    835                 if isinstance(data, ABCSeries):\n\n~/opt/anaconda3/envs/fars/lib/python3.7/site-packages/pandas/core/frame.py in __getitem__(self, key)\n   2798             if self.columns.nlevels > 1:\n   2799                 return self._getitem_multilevel(key)\n-> 2800             indexer = self.columns.get_loc(key)\n   2801             if is_integer(indexer):\n   2802                 indexer = [indexer]\n\n~/opt/anaconda3/envs/fars/lib/python3.7/site-packages/pandas/core/indexes/base.py in get_loc(self, key, method, tolerance)\n   2646                 return self._engine.get_loc(key)\n   2647             except KeyError:\n-> 2648                 return self._engine.get_loc(self._maybe_cast_indexer(key))\n   2649         indexer = self.get_indexer([key], method=method, tolerance=tolerance)\n   2650         if indexer.ndim > 1 or indexer.size > 1:\n\npandas/_libs/index.pyx in pandas._libs.index.IndexEngine.get_loc()\n\npandas/_libs/index.pyx in pandas._libs.index.IndexEngine.get_loc()\n\npandas/_libs/hashtable_class_helper.pxi in pandas._libs.hashtable.PyObjectHashTable.get_item()\n\npandas/_libs/hashtable_class_helper.pxi in pandas._libs.hashtable.PyObjectHashTable.get_item()\n\nKeyError: 'R'\n",
     "output_type": "error",
     "traceback": [
      "\u001b[0;31m---------------------------------------------------------------------------\u001b[0m",
      "\u001b[0;31mPapermillExecutionError\u001b[0m                   Traceback (most recent call last)",
      "\u001b[0;32m<ipython-input-19-d14b8d024a05>\u001b[0m in \u001b[0;36m<module>\u001b[0;34m\u001b[0m\n\u001b[1;32m     19\u001b[0m                        \u001b[0mimage_outputs\u001b[0m\u001b[0;34m=\u001b[0m\u001b[0;34mf\"9.{i} No AirBag {modyr} Model\"\u001b[0m\u001b[0;34m,\u001b[0m\u001b[0;34m\u001b[0m\u001b[0;34m\u001b[0m\u001b[0m\n\u001b[1;32m     20\u001b[0m                        merged = str(tmp_file_path / \"merged.pkl\")),\n\u001b[0;32m---> 21\u001b[0;31m        progress_bar = False)\n\u001b[0m\u001b[1;32m     22\u001b[0m \u001b[0;34m\u001b[0m\u001b[0m\n",
      "\u001b[0;32m~/opt/anaconda3/envs/fars/lib/python3.7/site-packages/papermill/execute.py\u001b[0m in \u001b[0;36mexecute_notebook\u001b[0;34m(input_path, output_path, parameters, engine_name, request_save_on_cell_execute, prepare_only, kernel_name, progress_bar, log_output, stdout_file, stderr_file, start_timeout, report_mode, cwd, **engine_kwargs)\u001b[0m\n\u001b[1;32m    106\u001b[0m \u001b[0;34m\u001b[0m\u001b[0m\n\u001b[1;32m    107\u001b[0m             \u001b[0;31m# Check for errors first (it saves on error before raising)\u001b[0m\u001b[0;34m\u001b[0m\u001b[0;34m\u001b[0m\u001b[0;34m\u001b[0m\u001b[0m\n\u001b[0;32m--> 108\u001b[0;31m             \u001b[0mraise_for_execution_errors\u001b[0m\u001b[0;34m(\u001b[0m\u001b[0mnb\u001b[0m\u001b[0;34m,\u001b[0m \u001b[0moutput_path\u001b[0m\u001b[0;34m)\u001b[0m\u001b[0;34m\u001b[0m\u001b[0;34m\u001b[0m\u001b[0m\n\u001b[0m\u001b[1;32m    109\u001b[0m \u001b[0;34m\u001b[0m\u001b[0m\n\u001b[1;32m    110\u001b[0m         \u001b[0;31m# Write final output in case the engine didn't write it on cell completion.\u001b[0m\u001b[0;34m\u001b[0m\u001b[0;34m\u001b[0m\u001b[0;34m\u001b[0m\u001b[0m\n",
      "\u001b[0;32m~/opt/anaconda3/envs/fars/lib/python3.7/site-packages/papermill/execute.py\u001b[0m in \u001b[0;36mraise_for_execution_errors\u001b[0;34m(nb, output_path)\u001b[0m\n\u001b[1;32m    192\u001b[0m         \u001b[0mnb\u001b[0m\u001b[0;34m.\u001b[0m\u001b[0mcells\u001b[0m \u001b[0;34m=\u001b[0m \u001b[0;34m[\u001b[0m\u001b[0merror_msg_cell\u001b[0m\u001b[0;34m]\u001b[0m \u001b[0;34m+\u001b[0m \u001b[0mnb\u001b[0m\u001b[0;34m.\u001b[0m\u001b[0mcells\u001b[0m\u001b[0;34m\u001b[0m\u001b[0;34m\u001b[0m\u001b[0m\n\u001b[1;32m    193\u001b[0m         \u001b[0mwrite_ipynb\u001b[0m\u001b[0;34m(\u001b[0m\u001b[0mnb\u001b[0m\u001b[0;34m,\u001b[0m \u001b[0moutput_path\u001b[0m\u001b[0;34m)\u001b[0m\u001b[0;34m\u001b[0m\u001b[0;34m\u001b[0m\u001b[0m\n\u001b[0;32m--> 194\u001b[0;31m         \u001b[0;32mraise\u001b[0m \u001b[0merror\u001b[0m\u001b[0;34m\u001b[0m\u001b[0;34m\u001b[0m\u001b[0m\n\u001b[0m",
      "\u001b[0;31mPapermillExecutionError\u001b[0m: \n---------------------------------------------------------------------------\nException encountered at \"In [11]\":\n---------------------------------------------------------------------------\nKeyError                                  Traceback (most recent call last)\n~/opt/anaconda3/envs/fars/lib/python3.7/site-packages/pandas/core/indexes/base.py in get_loc(self, key, method, tolerance)\n   2645             try:\n-> 2646                 return self._engine.get_loc(key)\n   2647             except KeyError:\n\npandas/_libs/index.pyx in pandas._libs.index.IndexEngine.get_loc()\n\npandas/_libs/index.pyx in pandas._libs.index.IndexEngine.get_loc()\n\npandas/_libs/hashtable_class_helper.pxi in pandas._libs.hashtable.PyObjectHashTable.get_item()\n\npandas/_libs/hashtable_class_helper.pxi in pandas._libs.hashtable.PyObjectHashTable.get_item()\n\nKeyError: 'R'\n\nDuring handling of the above exception, another exception occurred:\n\nKeyError                                  Traceback (most recent call last)\n<ipython-input-11-47010566f022> in <module>\n      1 if not driver_only:\n----> 2     fig = plot_doublepair(vehicle_results)\n      3     fig.savefig(fig_out / \"passenger_car_subsets.png\")\n      4 else:\n      5     fig = plot_driver_only(vehicle_results)\n\n<ipython-input-7-913efab495f3> in plot_doublepair(vehicle_results)\n     13         results[i].plot(x='Age', y='R', yerr='DeltaR', capsize=5, fmt='ko',\n     14                       ylim = (.5, 2), title=titles[i],\n---> 15                        ax = ax, legend=False)\n     16         ax.text(55, 1.85, f\"{counts[i]: ,} Fatalities\", fontsize=12)\n     17 \n\n~/opt/anaconda3/envs/fars/lib/python3.7/site-packages/pandas/plotting/_core.py in __call__(self, *args, **kwargs)\n    831 \n    832                 # don't overwrite\n--> 833                 data = data[y].copy()\n    834 \n    835                 if isinstance(data, ABCSeries):\n\n~/opt/anaconda3/envs/fars/lib/python3.7/site-packages/pandas/core/frame.py in __getitem__(self, key)\n   2798             if self.columns.nlevels > 1:\n   2799                 return self._getitem_multilevel(key)\n-> 2800             indexer = self.columns.get_loc(key)\n   2801             if is_integer(indexer):\n   2802                 indexer = [indexer]\n\n~/opt/anaconda3/envs/fars/lib/python3.7/site-packages/pandas/core/indexes/base.py in get_loc(self, key, method, tolerance)\n   2646                 return self._engine.get_loc(key)\n   2647             except KeyError:\n-> 2648                 return self._engine.get_loc(self._maybe_cast_indexer(key))\n   2649         indexer = self.get_indexer([key], method=method, tolerance=tolerance)\n   2650         if indexer.ndim > 1 or indexer.size > 1:\n\npandas/_libs/index.pyx in pandas._libs.index.IndexEngine.get_loc()\n\npandas/_libs/index.pyx in pandas._libs.index.IndexEngine.get_loc()\n\npandas/_libs/hashtable_class_helper.pxi in pandas._libs.hashtable.PyObjectHashTable.get_item()\n\npandas/_libs/hashtable_class_helper.pxi in pandas._libs.hashtable.PyObjectHashTable.get_item()\n\nKeyError: 'R'\n"
     ]
    }
   ],
   "source": [
    "i = 0\n",
    "\n",
    "vehicle_type='PASSENGER_CAR'\n",
    "\n",
    "for modyr in tqdm(range(1975, 2021)):\n",
    "    i = i+1\n",
    "    modyrflt = f\"{vehicle_type} and (SEX_C != 'Unknown') and (SEX_S != 'Unknown') and \"\\\n",
    "                                    \"(AGE_C < 99) and (AGE_S < 99) and \"\\\n",
    "                                    \"(AIR_BAG_DEPLOYMENT_C != 'Deployed') and \"\\\n",
    "                                    \"(AIR_BAG_DEPLOYMENT_S != 'Deployed') and \"\\\n",
    "                                    f\"(MOD_YEAR == {modyr})\"\n",
    "    res = pm.execute_notebook(\n",
    "       '8.0_Comprehensive_Compilation.ipynb',\n",
    "       f\"9.{i}_No_AirBag_ModYear{modyr}.ipynb\",\n",
    "       parameters=dict(start_year=1975,\n",
    "                       end_year=2018,\n",
    "                       vehicle_type=vehicle_type,\n",
    "                       base_filter=modyrflt,\n",
    "                       image_outputs=f\"9.{i} No AirBag {modyr} Model\",\n",
    "                       merged = str(tmp_file_path / \"merged.pkl\")),\n",
    "       progress_bar = False)\n",
    "\n"
   ]
  },
  {
   "cell_type": "code",
   "execution_count": 4,
   "metadata": {},
   "outputs": [
    {
     "data": {
      "application/vnd.jupyter.widget-view+json": {
       "model_id": "1448246f874d4c1ebbb03e3871f49046",
       "version_major": 2,
       "version_minor": 0
      },
      "text/plain": [
       "HBox(children=(FloatProgress(value=0.0, max=7.0), HTML(value='')))"
      ]
     },
     "metadata": {},
     "output_type": "display_data"
    },
    {
     "ename": "KeyboardInterrupt",
     "evalue": "",
     "output_type": "error",
     "traceback": [
      "\u001b[0;31m---------------------------------------------------------------------------\u001b[0m",
      "\u001b[0;31mKeyboardInterrupt\u001b[0m                         Traceback (most recent call last)",
      "\u001b[0;32m<ipython-input-4-9f92e2ff09aa>\u001b[0m in \u001b[0;36m<module>\u001b[0;34m\u001b[0m\n\u001b[1;32m     17\u001b[0m                        \u001b[0mimage_outputs\u001b[0m\u001b[0;34m=\u001b[0m\u001b[0;34mf\"10.{i} Ignore AirBag {modyr} Model\"\u001b[0m\u001b[0;34m,\u001b[0m\u001b[0;34m\u001b[0m\u001b[0;34m\u001b[0m\u001b[0m\n\u001b[1;32m     18\u001b[0m                        merged = str(tmp_file_path / \"merged.pkl\")),\n\u001b[0;32m---> 19\u001b[0;31m        progress_bar = False)\n\u001b[0m\u001b[1;32m     20\u001b[0m \u001b[0;34m\u001b[0m\u001b[0m\n",
      "\u001b[0;32m~/opt/anaconda3/envs/fars/lib/python3.7/site-packages/papermill/execute.py\u001b[0m in \u001b[0;36mexecute_notebook\u001b[0;34m(input_path, output_path, parameters, engine_name, request_save_on_cell_execute, prepare_only, kernel_name, progress_bar, log_output, stdout_file, stderr_file, start_timeout, report_mode, cwd, **engine_kwargs)\u001b[0m\n\u001b[1;32m    102\u001b[0m                     \u001b[0mstdout_file\u001b[0m\u001b[0;34m=\u001b[0m\u001b[0mstdout_file\u001b[0m\u001b[0;34m,\u001b[0m\u001b[0;34m\u001b[0m\u001b[0;34m\u001b[0m\u001b[0m\n\u001b[1;32m    103\u001b[0m                     \u001b[0mstderr_file\u001b[0m\u001b[0;34m=\u001b[0m\u001b[0mstderr_file\u001b[0m\u001b[0;34m,\u001b[0m\u001b[0;34m\u001b[0m\u001b[0;34m\u001b[0m\u001b[0m\n\u001b[0;32m--> 104\u001b[0;31m                     \u001b[0;34m**\u001b[0m\u001b[0mengine_kwargs\u001b[0m\u001b[0;34m\u001b[0m\u001b[0;34m\u001b[0m\u001b[0m\n\u001b[0m\u001b[1;32m    105\u001b[0m                 )\n\u001b[1;32m    106\u001b[0m \u001b[0;34m\u001b[0m\u001b[0m\n",
      "\u001b[0;32m~/opt/anaconda3/envs/fars/lib/python3.7/site-packages/papermill/engines.py\u001b[0m in \u001b[0;36mexecute_notebook_with_engine\u001b[0;34m(self, engine_name, nb, kernel_name, **kwargs)\u001b[0m\n\u001b[1;32m     47\u001b[0m     \u001b[0;32mdef\u001b[0m \u001b[0mexecute_notebook_with_engine\u001b[0m\u001b[0;34m(\u001b[0m\u001b[0mself\u001b[0m\u001b[0;34m,\u001b[0m \u001b[0mengine_name\u001b[0m\u001b[0;34m,\u001b[0m \u001b[0mnb\u001b[0m\u001b[0;34m,\u001b[0m \u001b[0mkernel_name\u001b[0m\u001b[0;34m,\u001b[0m \u001b[0;34m**\u001b[0m\u001b[0mkwargs\u001b[0m\u001b[0;34m)\u001b[0m\u001b[0;34m:\u001b[0m\u001b[0;34m\u001b[0m\u001b[0;34m\u001b[0m\u001b[0m\n\u001b[1;32m     48\u001b[0m         \u001b[0;34m\"\"\"Fetch a named engine and execute the nb object against it.\"\"\"\u001b[0m\u001b[0;34m\u001b[0m\u001b[0;34m\u001b[0m\u001b[0m\n\u001b[0;32m---> 49\u001b[0;31m         \u001b[0;32mreturn\u001b[0m \u001b[0mself\u001b[0m\u001b[0;34m.\u001b[0m\u001b[0mget_engine\u001b[0m\u001b[0;34m(\u001b[0m\u001b[0mengine_name\u001b[0m\u001b[0;34m)\u001b[0m\u001b[0;34m.\u001b[0m\u001b[0mexecute_notebook\u001b[0m\u001b[0;34m(\u001b[0m\u001b[0mnb\u001b[0m\u001b[0;34m,\u001b[0m \u001b[0mkernel_name\u001b[0m\u001b[0;34m,\u001b[0m \u001b[0;34m**\u001b[0m\u001b[0mkwargs\u001b[0m\u001b[0;34m)\u001b[0m\u001b[0;34m\u001b[0m\u001b[0;34m\u001b[0m\u001b[0m\n\u001b[0m\u001b[1;32m     50\u001b[0m \u001b[0;34m\u001b[0m\u001b[0m\n\u001b[1;32m     51\u001b[0m \u001b[0;34m\u001b[0m\u001b[0m\n",
      "\u001b[0;32m~/opt/anaconda3/envs/fars/lib/python3.7/site-packages/papermill/engines.py\u001b[0m in \u001b[0;36mexecute_notebook\u001b[0;34m(cls, nb, kernel_name, output_path, progress_bar, log_output, autosave_cell_every, **kwargs)\u001b[0m\n\u001b[1;32m    341\u001b[0m         \u001b[0mnb_man\u001b[0m\u001b[0;34m.\u001b[0m\u001b[0mnotebook_start\u001b[0m\u001b[0;34m(\u001b[0m\u001b[0;34m)\u001b[0m\u001b[0;34m\u001b[0m\u001b[0;34m\u001b[0m\u001b[0m\n\u001b[1;32m    342\u001b[0m         \u001b[0;32mtry\u001b[0m\u001b[0;34m:\u001b[0m\u001b[0;34m\u001b[0m\u001b[0;34m\u001b[0m\u001b[0m\n\u001b[0;32m--> 343\u001b[0;31m             \u001b[0mcls\u001b[0m\u001b[0;34m.\u001b[0m\u001b[0mexecute_managed_notebook\u001b[0m\u001b[0;34m(\u001b[0m\u001b[0mnb_man\u001b[0m\u001b[0;34m,\u001b[0m \u001b[0mkernel_name\u001b[0m\u001b[0;34m,\u001b[0m \u001b[0mlog_output\u001b[0m\u001b[0;34m=\u001b[0m\u001b[0mlog_output\u001b[0m\u001b[0;34m,\u001b[0m \u001b[0;34m**\u001b[0m\u001b[0mkwargs\u001b[0m\u001b[0;34m)\u001b[0m\u001b[0;34m\u001b[0m\u001b[0;34m\u001b[0m\u001b[0m\n\u001b[0m\u001b[1;32m    344\u001b[0m         \u001b[0;32mfinally\u001b[0m\u001b[0;34m:\u001b[0m\u001b[0;34m\u001b[0m\u001b[0;34m\u001b[0m\u001b[0m\n\u001b[1;32m    345\u001b[0m             \u001b[0mnb_man\u001b[0m\u001b[0;34m.\u001b[0m\u001b[0mcleanup_pbar\u001b[0m\u001b[0;34m(\u001b[0m\u001b[0;34m)\u001b[0m\u001b[0;34m\u001b[0m\u001b[0;34m\u001b[0m\u001b[0m\n",
      "\u001b[0;32m~/opt/anaconda3/envs/fars/lib/python3.7/site-packages/papermill/engines.py\u001b[0m in \u001b[0;36mexecute_managed_notebook\u001b[0;34m(cls, nb_man, kernel_name, log_output, stdout_file, stderr_file, start_timeout, execution_timeout, **kwargs)\u001b[0m\n\u001b[1;32m    400\u001b[0m             \u001b[0mstderr_file\u001b[0m\u001b[0;34m=\u001b[0m\u001b[0mstderr_file\u001b[0m\u001b[0;34m,\u001b[0m\u001b[0;34m\u001b[0m\u001b[0;34m\u001b[0m\u001b[0m\n\u001b[1;32m    401\u001b[0m         )\n\u001b[0;32m--> 402\u001b[0;31m         \u001b[0;32mreturn\u001b[0m \u001b[0mPapermillNotebookClient\u001b[0m\u001b[0;34m(\u001b[0m\u001b[0mnb_man\u001b[0m\u001b[0;34m,\u001b[0m \u001b[0;34m**\u001b[0m\u001b[0mfinal_kwargs\u001b[0m\u001b[0;34m)\u001b[0m\u001b[0;34m.\u001b[0m\u001b[0mexecute\u001b[0m\u001b[0;34m(\u001b[0m\u001b[0;34m)\u001b[0m\u001b[0;34m\u001b[0m\u001b[0;34m\u001b[0m\u001b[0m\n\u001b[0m\u001b[1;32m    403\u001b[0m \u001b[0;34m\u001b[0m\u001b[0m\n\u001b[1;32m    404\u001b[0m \u001b[0;34m\u001b[0m\u001b[0m\n",
      "\u001b[0;32m~/opt/anaconda3/envs/fars/lib/python3.7/site-packages/papermill/clientwrap.py\u001b[0m in \u001b[0;36mexecute\u001b[0;34m(self, **kwargs)\u001b[0m\n\u001b[1;32m     36\u001b[0m         \u001b[0;32mwith\u001b[0m \u001b[0mself\u001b[0m\u001b[0;34m.\u001b[0m\u001b[0msetup_kernel\u001b[0m\u001b[0;34m(\u001b[0m\u001b[0;34m**\u001b[0m\u001b[0mkwargs\u001b[0m\u001b[0;34m)\u001b[0m\u001b[0;34m:\u001b[0m\u001b[0;34m\u001b[0m\u001b[0;34m\u001b[0m\u001b[0m\n\u001b[1;32m     37\u001b[0m             \u001b[0mself\u001b[0m\u001b[0;34m.\u001b[0m\u001b[0mlog\u001b[0m\u001b[0;34m.\u001b[0m\u001b[0minfo\u001b[0m\u001b[0;34m(\u001b[0m\u001b[0;34m\"Executing notebook with kernel: %s\"\u001b[0m \u001b[0;34m%\u001b[0m \u001b[0mself\u001b[0m\u001b[0;34m.\u001b[0m\u001b[0mkernel_name\u001b[0m\u001b[0;34m)\u001b[0m\u001b[0;34m\u001b[0m\u001b[0;34m\u001b[0m\u001b[0m\n\u001b[0;32m---> 38\u001b[0;31m             \u001b[0mself\u001b[0m\u001b[0;34m.\u001b[0m\u001b[0mpapermill_execute_cells\u001b[0m\u001b[0;34m(\u001b[0m\u001b[0;34m)\u001b[0m\u001b[0;34m\u001b[0m\u001b[0;34m\u001b[0m\u001b[0m\n\u001b[0m\u001b[1;32m     39\u001b[0m             \u001b[0minfo_msg\u001b[0m \u001b[0;34m=\u001b[0m \u001b[0mself\u001b[0m\u001b[0;34m.\u001b[0m\u001b[0m_wait_for_reply\u001b[0m\u001b[0;34m(\u001b[0m\u001b[0mself\u001b[0m\u001b[0;34m.\u001b[0m\u001b[0mkc\u001b[0m\u001b[0;34m.\u001b[0m\u001b[0mkernel_info\u001b[0m\u001b[0;34m(\u001b[0m\u001b[0;34m)\u001b[0m\u001b[0;34m)\u001b[0m\u001b[0;34m\u001b[0m\u001b[0;34m\u001b[0m\u001b[0m\n\u001b[1;32m     40\u001b[0m             \u001b[0mself\u001b[0m\u001b[0;34m.\u001b[0m\u001b[0mnb\u001b[0m\u001b[0;34m.\u001b[0m\u001b[0mmetadata\u001b[0m\u001b[0;34m[\u001b[0m\u001b[0;34m'language_info'\u001b[0m\u001b[0;34m]\u001b[0m \u001b[0;34m=\u001b[0m \u001b[0minfo_msg\u001b[0m\u001b[0;34m[\u001b[0m\u001b[0;34m'content'\u001b[0m\u001b[0;34m]\u001b[0m\u001b[0;34m[\u001b[0m\u001b[0;34m'language_info'\u001b[0m\u001b[0;34m]\u001b[0m\u001b[0;34m\u001b[0m\u001b[0;34m\u001b[0m\u001b[0m\n",
      "\u001b[0;32m~/opt/anaconda3/envs/fars/lib/python3.7/site-packages/papermill/clientwrap.py\u001b[0m in \u001b[0;36mpapermill_execute_cells\u001b[0;34m(self)\u001b[0m\n\u001b[1;32m     63\u001b[0m             \u001b[0;32mtry\u001b[0m\u001b[0;34m:\u001b[0m\u001b[0;34m\u001b[0m\u001b[0;34m\u001b[0m\u001b[0m\n\u001b[1;32m     64\u001b[0m                 \u001b[0mself\u001b[0m\u001b[0;34m.\u001b[0m\u001b[0mnb_man\u001b[0m\u001b[0;34m.\u001b[0m\u001b[0mcell_start\u001b[0m\u001b[0;34m(\u001b[0m\u001b[0mcell\u001b[0m\u001b[0;34m,\u001b[0m \u001b[0mindex\u001b[0m\u001b[0;34m)\u001b[0m\u001b[0;34m\u001b[0m\u001b[0;34m\u001b[0m\u001b[0m\n\u001b[0;32m---> 65\u001b[0;31m                 \u001b[0mself\u001b[0m\u001b[0;34m.\u001b[0m\u001b[0mexecute_cell\u001b[0m\u001b[0;34m(\u001b[0m\u001b[0mcell\u001b[0m\u001b[0;34m,\u001b[0m \u001b[0mindex\u001b[0m\u001b[0;34m)\u001b[0m\u001b[0;34m\u001b[0m\u001b[0;34m\u001b[0m\u001b[0m\n\u001b[0m\u001b[1;32m     66\u001b[0m             \u001b[0;32mexcept\u001b[0m \u001b[0mCellExecutionError\u001b[0m \u001b[0;32mas\u001b[0m \u001b[0mex\u001b[0m\u001b[0;34m:\u001b[0m\u001b[0;34m\u001b[0m\u001b[0;34m\u001b[0m\u001b[0m\n\u001b[1;32m     67\u001b[0m                 \u001b[0mself\u001b[0m\u001b[0;34m.\u001b[0m\u001b[0mnb_man\u001b[0m\u001b[0;34m.\u001b[0m\u001b[0mcell_exception\u001b[0m\u001b[0;34m(\u001b[0m\u001b[0mself\u001b[0m\u001b[0;34m.\u001b[0m\u001b[0mnb\u001b[0m\u001b[0;34m.\u001b[0m\u001b[0mcells\u001b[0m\u001b[0;34m[\u001b[0m\u001b[0mindex\u001b[0m\u001b[0;34m]\u001b[0m\u001b[0;34m,\u001b[0m \u001b[0mcell_index\u001b[0m\u001b[0;34m=\u001b[0m\u001b[0mindex\u001b[0m\u001b[0;34m,\u001b[0m \u001b[0mexception\u001b[0m\u001b[0;34m=\u001b[0m\u001b[0mex\u001b[0m\u001b[0;34m)\u001b[0m\u001b[0;34m\u001b[0m\u001b[0;34m\u001b[0m\u001b[0m\n",
      "\u001b[0;32m~/opt/anaconda3/envs/fars/lib/python3.7/site-packages/nbclient/client.py\u001b[0m in \u001b[0;36mexecute_cell\u001b[0;34m(self, cell, cell_index, execution_count, store_history)\u001b[0m\n\u001b[1;32m    572\u001b[0m                         \u001b[0;31m# polling for output.\u001b[0m\u001b[0;34m\u001b[0m\u001b[0;34m\u001b[0m\u001b[0;34m\u001b[0m\u001b[0m\n\u001b[1;32m    573\u001b[0m                         \u001b[0mtimeout\u001b[0m \u001b[0;34m=\u001b[0m \u001b[0mself\u001b[0m\u001b[0;34m.\u001b[0m\u001b[0m_timeout_with_deadline\u001b[0m\u001b[0;34m(\u001b[0m\u001b[0mtimeout\u001b[0m\u001b[0;34m,\u001b[0m \u001b[0mdeadline\u001b[0m\u001b[0;34m)\u001b[0m\u001b[0;34m\u001b[0m\u001b[0;34m\u001b[0m\u001b[0m\n\u001b[0;32m--> 574\u001b[0;31m                     \u001b[0mmsg\u001b[0m \u001b[0;34m=\u001b[0m \u001b[0mself\u001b[0m\u001b[0;34m.\u001b[0m\u001b[0mkc\u001b[0m\u001b[0;34m.\u001b[0m\u001b[0miopub_channel\u001b[0m\u001b[0;34m.\u001b[0m\u001b[0mget_msg\u001b[0m\u001b[0;34m(\u001b[0m\u001b[0mtimeout\u001b[0m\u001b[0;34m=\u001b[0m\u001b[0mtimeout\u001b[0m\u001b[0;34m)\u001b[0m\u001b[0;34m\u001b[0m\u001b[0;34m\u001b[0m\u001b[0m\n\u001b[0m\u001b[1;32m    575\u001b[0m                 \u001b[0;32mexcept\u001b[0m \u001b[0mEmpty\u001b[0m\u001b[0;34m:\u001b[0m\u001b[0;34m\u001b[0m\u001b[0;34m\u001b[0m\u001b[0m\n\u001b[1;32m    576\u001b[0m                     \u001b[0;32mif\u001b[0m \u001b[0mpolling_exec_reply\u001b[0m\u001b[0;34m:\u001b[0m\u001b[0;34m\u001b[0m\u001b[0;34m\u001b[0m\u001b[0m\n",
      "\u001b[0;32m~/opt/anaconda3/envs/fars/lib/python3.7/site-packages/jupyter_client/blocking/channels.py\u001b[0m in \u001b[0;36mget_msg\u001b[0;34m(self, block, timeout)\u001b[0m\n\u001b[1;32m     48\u001b[0m             \u001b[0;32mif\u001b[0m \u001b[0mtimeout\u001b[0m \u001b[0;32mis\u001b[0m \u001b[0;32mnot\u001b[0m \u001b[0;32mNone\u001b[0m\u001b[0;34m:\u001b[0m\u001b[0;34m\u001b[0m\u001b[0;34m\u001b[0m\u001b[0m\n\u001b[1;32m     49\u001b[0m                 \u001b[0mtimeout\u001b[0m \u001b[0;34m*=\u001b[0m \u001b[0;36m1000\u001b[0m  \u001b[0;31m# seconds to ms\u001b[0m\u001b[0;34m\u001b[0m\u001b[0;34m\u001b[0m\u001b[0m\n\u001b[0;32m---> 50\u001b[0;31m             \u001b[0mready\u001b[0m \u001b[0;34m=\u001b[0m \u001b[0mself\u001b[0m\u001b[0;34m.\u001b[0m\u001b[0msocket\u001b[0m\u001b[0;34m.\u001b[0m\u001b[0mpoll\u001b[0m\u001b[0;34m(\u001b[0m\u001b[0mtimeout\u001b[0m\u001b[0;34m)\u001b[0m\u001b[0;34m\u001b[0m\u001b[0;34m\u001b[0m\u001b[0m\n\u001b[0m\u001b[1;32m     51\u001b[0m         \u001b[0;32melse\u001b[0m\u001b[0;34m:\u001b[0m\u001b[0;34m\u001b[0m\u001b[0;34m\u001b[0m\u001b[0m\n\u001b[1;32m     52\u001b[0m             \u001b[0mready\u001b[0m \u001b[0;34m=\u001b[0m \u001b[0mself\u001b[0m\u001b[0;34m.\u001b[0m\u001b[0msocket\u001b[0m\u001b[0;34m.\u001b[0m\u001b[0mpoll\u001b[0m\u001b[0;34m(\u001b[0m\u001b[0mtimeout\u001b[0m\u001b[0;34m=\u001b[0m\u001b[0;36m0\u001b[0m\u001b[0;34m)\u001b[0m\u001b[0;34m\u001b[0m\u001b[0;34m\u001b[0m\u001b[0m\n",
      "\u001b[0;32m~/opt/anaconda3/envs/fars/lib/python3.7/site-packages/zmq/sugar/socket.py\u001b[0m in \u001b[0;36mpoll\u001b[0;34m(self, timeout, flags)\u001b[0m\n\u001b[1;32m    700\u001b[0m         \u001b[0mp\u001b[0m \u001b[0;34m=\u001b[0m \u001b[0mself\u001b[0m\u001b[0;34m.\u001b[0m\u001b[0m_poller_class\u001b[0m\u001b[0;34m(\u001b[0m\u001b[0;34m)\u001b[0m\u001b[0;34m\u001b[0m\u001b[0;34m\u001b[0m\u001b[0m\n\u001b[1;32m    701\u001b[0m         \u001b[0mp\u001b[0m\u001b[0;34m.\u001b[0m\u001b[0mregister\u001b[0m\u001b[0;34m(\u001b[0m\u001b[0mself\u001b[0m\u001b[0;34m,\u001b[0m \u001b[0mflags\u001b[0m\u001b[0;34m)\u001b[0m\u001b[0;34m\u001b[0m\u001b[0;34m\u001b[0m\u001b[0m\n\u001b[0;32m--> 702\u001b[0;31m         \u001b[0mevts\u001b[0m \u001b[0;34m=\u001b[0m \u001b[0mdict\u001b[0m\u001b[0;34m(\u001b[0m\u001b[0mp\u001b[0m\u001b[0;34m.\u001b[0m\u001b[0mpoll\u001b[0m\u001b[0;34m(\u001b[0m\u001b[0mtimeout\u001b[0m\u001b[0;34m)\u001b[0m\u001b[0;34m)\u001b[0m\u001b[0;34m\u001b[0m\u001b[0;34m\u001b[0m\u001b[0m\n\u001b[0m\u001b[1;32m    703\u001b[0m         \u001b[0;31m# return 0 if no events, otherwise return event bitfield\u001b[0m\u001b[0;34m\u001b[0m\u001b[0;34m\u001b[0m\u001b[0;34m\u001b[0m\u001b[0m\n\u001b[1;32m    704\u001b[0m         \u001b[0;32mreturn\u001b[0m \u001b[0mevts\u001b[0m\u001b[0;34m.\u001b[0m\u001b[0mget\u001b[0m\u001b[0;34m(\u001b[0m\u001b[0mself\u001b[0m\u001b[0;34m,\u001b[0m \u001b[0;36m0\u001b[0m\u001b[0;34m)\u001b[0m\u001b[0;34m\u001b[0m\u001b[0;34m\u001b[0m\u001b[0m\n",
      "\u001b[0;32m~/opt/anaconda3/envs/fars/lib/python3.7/site-packages/zmq/sugar/poll.py\u001b[0m in \u001b[0;36mpoll\u001b[0;34m(self, timeout)\u001b[0m\n\u001b[1;32m     97\u001b[0m         \u001b[0;32melif\u001b[0m \u001b[0misinstance\u001b[0m\u001b[0;34m(\u001b[0m\u001b[0mtimeout\u001b[0m\u001b[0;34m,\u001b[0m \u001b[0mfloat\u001b[0m\u001b[0;34m)\u001b[0m\u001b[0;34m:\u001b[0m\u001b[0;34m\u001b[0m\u001b[0;34m\u001b[0m\u001b[0m\n\u001b[1;32m     98\u001b[0m             \u001b[0mtimeout\u001b[0m \u001b[0;34m=\u001b[0m \u001b[0mint\u001b[0m\u001b[0;34m(\u001b[0m\u001b[0mtimeout\u001b[0m\u001b[0;34m)\u001b[0m\u001b[0;34m\u001b[0m\u001b[0;34m\u001b[0m\u001b[0m\n\u001b[0;32m---> 99\u001b[0;31m         \u001b[0;32mreturn\u001b[0m \u001b[0mzmq_poll\u001b[0m\u001b[0;34m(\u001b[0m\u001b[0mself\u001b[0m\u001b[0;34m.\u001b[0m\u001b[0msockets\u001b[0m\u001b[0;34m,\u001b[0m \u001b[0mtimeout\u001b[0m\u001b[0;34m=\u001b[0m\u001b[0mtimeout\u001b[0m\u001b[0;34m)\u001b[0m\u001b[0;34m\u001b[0m\u001b[0;34m\u001b[0m\u001b[0m\n\u001b[0m\u001b[1;32m    100\u001b[0m \u001b[0;34m\u001b[0m\u001b[0m\n\u001b[1;32m    101\u001b[0m \u001b[0;34m\u001b[0m\u001b[0m\n",
      "\u001b[0;32mzmq/backend/cython/_poll.pyx\u001b[0m in \u001b[0;36mzmq.backend.cython._poll.zmq_poll\u001b[0;34m()\u001b[0m\n",
      "\u001b[0;32m~/opt/anaconda3/envs/fars/lib/python3.7/site-packages/zmq/backend/cython/checkrc.pxd\u001b[0m in \u001b[0;36mzmq.backend.cython.checkrc._check_rc\u001b[0;34m()\u001b[0m\n",
      "\u001b[0;31mKeyboardInterrupt\u001b[0m: "
     ]
    }
   ],
   "source": [
    "i = 39\n",
    "\n",
    "vehicle_type='PASSENGER_CAR'\n",
    "\n",
    "for modyr in tqdm(range(2014, 2021)):\n",
    "    i = i+1\n",
    "    modyrflt = f\"{vehicle_type} and (SEX_C != 'Unknown') and (SEX_S != 'Unknown') and \"\\\n",
    "                                    \"(AGE_C < 99) and (AGE_S < 99) and \"\\\n",
    "                                    f\"(MOD_YEAR == {modyr})\"\n",
    "    res = pm.execute_notebook(\n",
    "       '8.0_Comprehensive_Compilation.ipynb',\n",
    "       f\"10.{i}_Ignore_AirBag_ModYear{modyr}.ipynb\",\n",
    "       parameters=dict(start_year=1975,\n",
    "                       end_year=2018,\n",
    "                       vehicle_type=vehicle_type,\n",
    "                       base_filter=modyrflt,\n",
    "                       image_outputs=f\"10.{i} Ignore AirBag {modyr} Model\",\n",
    "                       merged = str(tmp_file_path / \"merged.pkl\")),\n",
    "       progress_bar = False)\n",
    "\n"
   ]
  },
  {
   "cell_type": "code",
   "execution_count": 10,
   "metadata": {},
   "outputs": [],
   "source": [
    "base_results_path = Path(module_path) / \"reports\" / \"tables\"\n",
    "rural = pd.read_csv(base_results_path / \"8.1_Rural\" / \"csv\" / \"PASSENGER_CAR\" / \"full_weighted.csv\")\n",
    "urban = pd.read_csv(base_results_path / \"8.2_Urban\" / \"csv\" / \"PASSENGER_CAR\" / \"full_weighted.csv\")\n",
    "drinking = pd.read_csv(base_results_path / \"8.3_Drinking\" / \"csv\" / \"PASSENGER_CAR\" / \"full_weighted.csv\")\n",
    "no_drinking = pd.read_csv(base_results_path / \"8.4_No_Drinking\" / \"csv\" / \"PASSENGER_CAR\" / \"full_weighted.csv\")\n",
    "drugs = pd.read_csv(base_results_path / \"8.5_Drugs\" / \"csv\" / \"PASSENGER_CAR\" / \"full_weighted.csv\")\n",
    "no_drugs = pd.read_csv(base_results_path / \"8.6_No_Drugs\" / \"csv\" / \"PASSENGER_CAR\" / \"full_weighted.csv\")\n",
    "belted_dr = pd.read_csv(base_results_path / \"1.3 1975-2018\" / \"csv\" / \"PASSENGER_CAR\" / \"Belted drivers\" / \"weighted_results.csv\")\n",
    "unbelted_dr = pd.read_csv(base_results_path / \"1.3 1975-2018\" / \"csv\" / \"PASSENGER_CAR\" / \"Unbelted drivers\" / \"weighted_results.csv\")\n",
    "airbag_2000_plus_mod = pd.read_csv(base_results_path / \"3.1 Same AirBag 2000+ Model\" / \"csv\" / \"PASSENGER_CAR\" / \"full_weighted.csv\")\n",
    "no_airbag_2000_plus_mod = pd.read_csv(base_results_path / \"3.2 No AirBag 2000+ Model\" / \"csv\" / \"PASSENGER_CAR\" / \"full_weighted.csv\")\n",
    "airbag_2005_plus_mod = pd.read_csv(base_results_path / \"3.3 Same AirBag 2005+ Model\" / \"csv\" / \"PASSENGER_CAR\" / \"full_weighted.csv\")\n",
    "no_airbag_2005_plus_mod = pd.read_csv(base_results_path / \"3.4 No AirBag 2005+ Model\" / \"csv\" / \"PASSENGER_CAR\" / \"full_weighted.csv\")\n",
    "late_model = pd.read_csv(base_results_path / \"8.7_Late_Model\" / \"csv\" / \"PASSENGER_CAR\" / \"full_weighted.csv\")\n",
    "one_car = pd.read_csv(base_results_path / \"8.8_Single_Car_Crash\" / \"csv\" / \"PASSENGER_CAR\" / \"full_weighted.csv\")\n",
    "two_car = pd.read_csv(base_results_path / \"8.9_Two_Car_Crash\" / \"csv\" / \"PASSENGER_CAR\" / \"full_weighted.csv\")\n",
    "three_car = pd.read_csv(base_results_path / \"8.10_Three_Plus_Crash\" / \"csv\" / \"PASSENGER_CAR\" / \"full_weighted.csv\")\n",
    "one_pass = pd.read_csv(base_results_path / \"8.11_One_Passenger\" / \"csv\" / \"PASSENGER_CAR\" / \"full_weighted.csv\")\n",
    "two_pass = pd.read_csv(base_results_path / \"8.12_Two_Passenger\" / \"csv\" / \"PASSENGER_CAR\" / \"full_weighted.csv\")\n",
    "three_pass = pd.read_csv(base_results_path / \"8.13_Three_More_Passenger\" / \"csv\" / \"PASSENGER_CAR\" / \"full_weighted.csv\")"
   ]
  },
  {
   "cell_type": "code",
   "execution_count": 11,
   "metadata": {},
   "outputs": [
    {
     "data": {
      "application/vnd.jupyter.widget-view+json": {
       "model_id": "fa33d2c969064fccafd8e43fb5bc40c6",
       "version_major": 2,
       "version_minor": 0
      },
      "text/plain": [
       "HBox(children=(FloatProgress(value=0.0, max=39.0), HTML(value='')))"
      ]
     },
     "metadata": {},
     "output_type": "display_data"
    },
    {
     "name": "stdout",
     "output_type": "stream",
     "text": [
      "\n"
     ]
    },
    {
     "data": {
      "application/vnd.jupyter.widget-view+json": {
       "model_id": "acb5f255ec674bb8b63ea045d845d986",
       "version_major": 2,
       "version_minor": 0
      },
      "text/plain": [
       "HBox(children=(FloatProgress(value=0.0, max=31.0), HTML(value='')))"
      ]
     },
     "metadata": {},
     "output_type": "display_data"
    },
    {
     "name": "stdout",
     "output_type": "stream",
     "text": [
      "\n"
     ]
    }
   ],
   "source": [
    "results_to_plot = [\n",
    "    rural, urban,\n",
    "    drinking, no_drinking,\n",
    "    drugs, no_drugs,\n",
    "    belted_dr, unbelted_dr,\n",
    "    airbag_2000_plus_mod, \n",
    "    no_airbag_2000_plus_mod,\n",
    "    airbag_2005_plus_mod, \n",
    "    no_airbag_2005_plus_mod,\n",
    "    late_model,\n",
    "    one_car, two_car, three_car,\n",
    "    one_pass, two_pass, three_pass,\n",
    "]\n",
    "i = 0\n",
    "for modyr in tqdm(range(1975, 2014)):\n",
    "    i = i+1\n",
    "    #results_to_plot.append(\n",
    "    #    pd.read_csv(base_results_path / f\"9.{i} No AirBag {modyr} Model\" / \"csv\" / \"PASSENGER_CAR\" / \"full_weighted.csv\"))\n",
    "    results_to_plot.append(\n",
    "        pd.read_csv(base_results_path / f\"10.{i} Ignore AirBag {modyr} Model\" / \"csv\" / \"PASSENGER_CAR\" / \"full_weighted.csv\"))\n",
    "i=0\n",
    "for modyr in tqdm(range(1975, 2006)):\n",
    "    i = i+1\n",
    "    results_to_plot.append(\n",
    "        pd.read_csv(base_results_path / f\"9.{i} No AirBag {modyr} Model\" / \"csv\" / \"PASSENGER_CAR\" / \"full_weighted.csv\"))"
   ]
  },
  {
   "cell_type": "code",
   "execution_count": 18,
   "metadata": {},
   "outputs": [
    {
     "data": {
      "image/png": "[encoded data removed]",
      "text/plain": [
       "<Figure size 432x288 with 1 Axes>"
      ]
     },
     "metadata": {
      "needs_background": "light"
     },
     "output_type": "display_data"
    }
   ],
   "source": [
    "fig, ax = plt.subplots()\n",
    "ax.axhline(1, color='black', lw=1, ls='--')\n",
    "mean_deltas = [1 - df[~df.isin([np.inf]).any(1)]['DeltaR'].mean() for df in results_to_plot]\n",
    "#print(mean_deltas)\n",
    "mean_delta = np.mean(mean_deltas)\n",
    "for i, df in enumerate(results_to_plot):\n",
    "    df = df[~df.isin([np.inf]).any(1)]\n",
    "    df.plot(x='Age', y='R', linestyle='',\n",
    "            linewidth=1,\n",
    "            #yerr='DeltaR', capsize=3,\n",
    "            marker='.', \n",
    "            color = 'black',\n",
    "            alpha = .1,\n",
    "            #alpha = .2*(mean_deltas[i]/max(mean_deltas)),\n",
    "            ylim = (.5, 2),\n",
    "            ax = ax, legend=False)\n",
    "plt.ylabel(\"R = Relative fatality risk for females vs. males\")\n",
    "fig_out = Path(module_path) / \"reports\" / \"figures\" / \"supplemental\"\n",
    "fig_out.mkdir(parents=True, exist_ok=True)\n",
    "plt.savefig(fig_out / \"composite.png\", dpi=360)\n",
    "plt.show()\n"
   ]
  },
  {
   "cell_type": "code",
   "execution_count": null,
   "metadata": {},
   "outputs": [],
   "source": []
  }
 ],
 "metadata": {
  "kernelspec": {
   "display_name": "fars",
   "language": "python",
   "name": "fars"
  },
  "language_info": {
   "codemirror_mode": {
    "name": "ipython",
    "version": 3
   },
   "file_extension": ".py",
   "mimetype": "text/x-python",
   "name": "python",
   "nbconvert_exporter": "python",
   "pygments_lexer": "ipython3",
   "version": "3.7.7"
  }
 },
 "nbformat": 4,
 "nbformat_minor": 4
}
