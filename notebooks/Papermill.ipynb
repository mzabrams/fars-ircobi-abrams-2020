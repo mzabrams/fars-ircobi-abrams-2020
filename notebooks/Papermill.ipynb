{
 "cells": [
  {
   "cell_type": "code",
   "execution_count": 1,
   "metadata": {},
   "outputs": [],
   "source": [
    "import papermill as pm"
   ]
  },
  {
   "cell_type": "code",
   "execution_count": 7,
   "metadata": {},
   "outputs": [
    {
     "data": {
      "application/vnd.jupyter.widget-view+json": {
       "model_id": "7d6cc896c3a148bda8428e816b38724f",
       "version_major": 2,
       "version_minor": 0
      },
      "text/plain": [
       "HBox(children=(FloatProgress(value=0.0, description='Executing', max=32.0, style=ProgressStyle(description_wid…"
      ]
     },
     "metadata": {},
     "output_type": "display_data"
    },
    {
     "name": "stdout",
     "output_type": "stream",
     "text": [
      "\n"
     ]
    }
   ],
   "source": [
    "res = pm.execute_notebook(\n",
    "       'Template.ipynb',\n",
    "       '1.1_Evans_1975-1998.ipynb',\n",
    "       parameters=dict(start_year=1975,\n",
    "                       end_year=1998,\n",
    "                       image_outputs='1.1 Evans_75-98')\n",
    ")"
   ]
  },
  {
   "cell_type": "code",
   "execution_count": 8,
   "metadata": {},
   "outputs": [
    {
     "data": {
      "application/vnd.jupyter.widget-view+json": {
       "model_id": "bf5a52702c9c40bca69ee8498ba9056b",
       "version_major": 2,
       "version_minor": 0
      },
      "text/plain": [
       "HBox(children=(FloatProgress(value=0.0, description='Executing', max=32.0, style=ProgressStyle(description_wid…"
      ]
     },
     "metadata": {},
     "output_type": "display_data"
    },
    {
     "name": "stdout",
     "output_type": "stream",
     "text": [
      "\n"
     ]
    }
   ],
   "source": [
    "res = pm.execute_notebook(\n",
    "       'Template.ipynb',\n",
    "       '1.2_1999-2018.ipynb',\n",
    "       parameters=dict(start_year=1999,\n",
    "                       end_year=2018,\n",
    "                       image_outputs='1.2 1999-2018')\n",
    ")"
   ]
  },
  {
   "cell_type": "code",
   "execution_count": 9,
   "metadata": {},
   "outputs": [
    {
     "data": {
      "application/vnd.jupyter.widget-view+json": {
       "model_id": "766f98a4a4524ac988b21e61dd5bf392",
       "version_major": 2,
       "version_minor": 0
      },
      "text/plain": [
       "HBox(children=(FloatProgress(value=0.0, description='Executing', max=32.0, style=ProgressStyle(description_wid…"
      ]
     },
     "metadata": {},
     "output_type": "display_data"
    },
    {
     "name": "stdout",
     "output_type": "stream",
     "text": [
      "\n"
     ]
    }
   ],
   "source": [
    "res = pm.execute_notebook(\n",
    "       'Template.ipynb',\n",
    "       '1.3_1975-2018.ipynb',\n",
    "       parameters=dict(start_year=1975,\n",
    "                       end_year=2018,\n",
    "                       image_outputs='1.3 1975-2018')\n",
    ")"
   ]
  },
  {
   "cell_type": "code",
   "execution_count": 10,
   "metadata": {},
   "outputs": [
    {
     "data": {
      "application/vnd.jupyter.widget-view+json": {
       "model_id": "177095ae21804c7e898b494cd6e23372",
       "version_major": 2,
       "version_minor": 0
      },
      "text/plain": [
       "HBox(children=(FloatProgress(value=0.0, description='Executing', max=32.0, style=ProgressStyle(description_wid…"
      ]
     },
     "metadata": {},
     "output_type": "display_data"
    },
    {
     "name": "stdout",
     "output_type": "stream",
     "text": [
      "\n"
     ]
    }
   ],
   "source": [
    "res = pm.execute_notebook(\n",
    "       'Template.ipynb',\n",
    "       '1.4_2010-2018.ipynb',\n",
    "       parameters=dict(start_year=2010,\n",
    "                       end_year=2018,\n",
    "                       image_outputs='1.4 2010-2018')\n",
    ")"
   ]
  },
  {
   "cell_type": "code",
   "execution_count": 11,
   "metadata": {},
   "outputs": [
    {
     "data": {
      "application/vnd.jupyter.widget-view+json": {
       "model_id": "23526c1c88f54a2e83abb8003915279d",
       "version_major": 2,
       "version_minor": 0
      },
      "text/plain": [
       "HBox(children=(FloatProgress(value=0.0, description='Executing', max=32.0, style=ProgressStyle(description_wid…"
      ]
     },
     "metadata": {},
     "output_type": "display_data"
    },
    {
     "name": "stdout",
     "output_type": "stream",
     "text": [
      "\n"
     ]
    }
   ],
   "source": [
    "res = pm.execute_notebook(\n",
    "       'Template.ipynb',\n",
    "       '1.5_2015-2018.ipynb',\n",
    "       parameters=dict(start_year=2015,\n",
    "                       end_year=2018,\n",
    "                       image_outputs='1.5 2015-2018')\n",
    ")"
   ]
  },
  {
   "cell_type": "code",
   "execution_count": 4,
   "metadata": {},
   "outputs": [
    {
     "data": {
      "application/vnd.jupyter.widget-view+json": {
       "model_id": "2c25dbcfb7c342b596c72095e718193f",
       "version_major": 2,
       "version_minor": 0
      },
      "text/plain": [
       "HBox(children=(FloatProgress(value=0.0, description='Executing', max=22.0, style=ProgressStyle(description_wid…"
      ]
     },
     "metadata": {},
     "output_type": "display_data"
    },
    {
     "name": "stdout",
     "output_type": "stream",
     "text": [
      "\n"
     ]
    },
    {
     "data": {
      "application/vnd.jupyter.widget-view+json": {
       "model_id": "643a58e9cf354ee4bea9628d55c1b38d",
       "version_major": 2,
       "version_minor": 0
      },
      "text/plain": [
       "HBox(children=(FloatProgress(value=0.0, description='Executing', max=22.0, style=ProgressStyle(description_wid…"
      ]
     },
     "metadata": {},
     "output_type": "display_data"
    },
    {
     "name": "stdout",
     "output_type": "stream",
     "text": [
      "\n"
     ]
    },
    {
     "data": {
      "application/vnd.jupyter.widget-view+json": {
       "model_id": "0231f1ab17514b99ab9c442a5d1832db",
       "version_major": 2,
       "version_minor": 0
      },
      "text/plain": [
       "HBox(children=(FloatProgress(value=0.0, description='Executing', max=22.0, style=ProgressStyle(description_wid…"
      ]
     },
     "metadata": {},
     "output_type": "display_data"
    },
    {
     "name": "stdout",
     "output_type": "stream",
     "text": [
      "\n"
     ]
    },
    {
     "data": {
      "application/vnd.jupyter.widget-view+json": {
       "model_id": "25bacbd6dc5e4468948f126882292be9",
       "version_major": 2,
       "version_minor": 0
      },
      "text/plain": [
       "HBox(children=(FloatProgress(value=0.0, description='Executing', max=22.0, style=ProgressStyle(description_wid…"
      ]
     },
     "metadata": {},
     "output_type": "display_data"
    },
    {
     "name": "stdout",
     "output_type": "stream",
     "text": [
      "\n"
     ]
    },
    {
     "data": {
      "application/vnd.jupyter.widget-view+json": {
       "model_id": "c1b57f1327a8406291d9e37c39868e50",
       "version_major": 2,
       "version_minor": 0
      },
      "text/plain": [
       "HBox(children=(FloatProgress(value=0.0, description='Executing', max=22.0, style=ProgressStyle(description_wid…"
      ]
     },
     "metadata": {},
     "output_type": "display_data"
    },
    {
     "name": "stdout",
     "output_type": "stream",
     "text": [
      "\n"
     ]
    }
   ],
   "source": [
    "vehicle_type='PASSENGER_CAR'\n",
    "base_filter = f\"{vehicle_type} and (SEX_C != 'Unknown') and (SEX_S != 'Unknown') and \"\\\n",
    "                \"(AGE_C < 99) and (AGE_S < 99) and \"\\\n",
    "                \"(AIR_BAG_DEPLOYMENT_C == AIR_BAG_DEPLOYMENT_S)\"\n",
    "\n",
    "res = pm.execute_notebook(\n",
    "       'Template-Model_Years.ipynb',\n",
    "       '2.1_AirBag_Evans_1975-1998.ipynb',\n",
    "       parameters=dict(start_year=1975,\n",
    "                       end_year=1998,\n",
    "                       vehicle_type=vehicle_type,\n",
    "                       base_filter=base_filter,\n",
    "                       image_outputs='2.1 Same AirBag Evans_75-98')\n",
    ")\n",
    "res = pm.execute_notebook(\n",
    "       'Template-Model_Years.ipynb',\n",
    "       '2.2_AirBag_1999-2018.ipynb',\n",
    "       parameters=dict(start_year=1999,\n",
    "                       end_year=2018,\n",
    "                       vehicle_type=vehicle_type,\n",
    "                       base_filter=base_filter,\n",
    "                       image_outputs='2.2 Same AirBag 1999-2018')\n",
    ")\n",
    "res = pm.execute_notebook(\n",
    "       'Template-Model_Years.ipynb',\n",
    "       '2.3_AirBag_1975-2018.ipynb',\n",
    "       parameters=dict(start_year=1975,\n",
    "                       end_year=2018,\n",
    "                       vehicle_type=vehicle_type,\n",
    "                       base_filter=base_filter,\n",
    "                       image_outputs='2.3 Same AirBag 1975-2018')\n",
    ")\n",
    "res = pm.execute_notebook(\n",
    "       'Template-Model_Years.ipynb',\n",
    "       '2.4_AirBag_2010-2018.ipynb',\n",
    "       parameters=dict(start_year=2010,\n",
    "                       end_year=2018,\n",
    "                       vehicle_type=vehicle_type,\n",
    "                       base_filter=base_filter,\n",
    "                       image_outputs='2.4 Same AirBag 2010-2018')\n",
    ")\n",
    "res = pm.execute_notebook(\n",
    "       'Template-Model_Years.ipynb',\n",
    "       '2.5_AirBag_2015-2018.ipynb',\n",
    "       parameters=dict(start_year=2015,\n",
    "                       end_year=2018,\n",
    "                       vehicle_type=vehicle_type,\n",
    "                       base_filter=base_filter,\n",
    "                       image_outputs='2.5 Same AirBag 2015-2018')\n",
    ")"
   ]
  },
  {
   "cell_type": "code",
   "execution_count": 5,
   "metadata": {},
   "outputs": [
    {
     "data": {
      "application/vnd.jupyter.widget-view+json": {
       "model_id": "0e81fc6aacc443788c7bb3c1e5e623a0",
       "version_major": 2,
       "version_minor": 0
      },
      "text/plain": [
       "HBox(children=(FloatProgress(value=0.0, description='Executing', max=22.0, style=ProgressStyle(description_wid…"
      ]
     },
     "metadata": {},
     "output_type": "display_data"
    },
    {
     "name": "stdout",
     "output_type": "stream",
     "text": [
      "\n"
     ]
    },
    {
     "data": {
      "application/vnd.jupyter.widget-view+json": {
       "model_id": "a90310da362d4a09b88b219e7b805366",
       "version_major": 2,
       "version_minor": 0
      },
      "text/plain": [
       "HBox(children=(FloatProgress(value=0.0, description='Executing', max=22.0, style=ProgressStyle(description_wid…"
      ]
     },
     "metadata": {},
     "output_type": "display_data"
    },
    {
     "name": "stdout",
     "output_type": "stream",
     "text": [
      "\n"
     ]
    },
    {
     "data": {
      "application/vnd.jupyter.widget-view+json": {
       "model_id": "22ced0a2ce89464f8672199045144a41",
       "version_major": 2,
       "version_minor": 0
      },
      "text/plain": [
       "HBox(children=(FloatProgress(value=0.0, description='Executing', max=22.0, style=ProgressStyle(description_wid…"
      ]
     },
     "metadata": {},
     "output_type": "display_data"
    },
    {
     "name": "stdout",
     "output_type": "stream",
     "text": [
      "\n"
     ]
    },
    {
     "data": {
      "application/vnd.jupyter.widget-view+json": {
       "model_id": "96c72c83a9cb4abb8a4f32d5a88a063a",
       "version_major": 2,
       "version_minor": 0
      },
      "text/plain": [
       "HBox(children=(FloatProgress(value=0.0, description='Executing', max=22.0, style=ProgressStyle(description_wid…"
      ]
     },
     "metadata": {},
     "output_type": "display_data"
    },
    {
     "name": "stdout",
     "output_type": "stream",
     "text": [
      "\n"
     ]
    }
   ],
   "source": [
    "vehicle_type='PASSENGER_CAR'\n",
    "base_filter = f\"{vehicle_type} and (SEX_C != 'Unknown') and (SEX_S != 'Unknown') and \"\\\n",
    "                \"(AGE_C < 99) and (AGE_S < 99) and \"\\\n",
    "                \"(AIR_BAG_DEPLOYMENT_C == AIR_BAG_DEPLOYMENT_S)\"\n",
    "\n",
    "res = pm.execute_notebook(\n",
    "       'Template-Model_Years.ipynb',\n",
    "       '3.1_AirBag_ModYear2000.ipynb',\n",
    "       parameters=dict(start_year=1998,\n",
    "                       end_year=2018,\n",
    "                       vehicle_type=vehicle_type,\n",
    "                       base_filter=f\"{vehicle_type} and (SEX_C != 'Unknown') and (SEX_S != 'Unknown') and \"\\\n",
    "                                    \"(AGE_C < 99) and (AGE_S < 99) and \"\\\n",
    "                                    \"(AIR_BAG_DEPLOYMENT_C == AIR_BAG_DEPLOYMENT_S) and \"\\\n",
    "                                    \"(AIR_BAG_DEPLOYMENT_C == 'Deployed') and \"\\\n",
    "                                    \"(MOD_YEAR >= 2000)\",\n",
    "                       image_outputs='3.1 Same AirBag 2000+ Model')\n",
    ")\n",
    "res = pm.execute_notebook(\n",
    "       'Template-Model_Years.ipynb',\n",
    "       '3.2_No_AirBag_ModYear2000.ipynb',\n",
    "       parameters=dict(start_year=1998,\n",
    "                       end_year=2018,\n",
    "                       vehicle_type=vehicle_type,\n",
    "                       base_filter=f\"{vehicle_type} and (SEX_C != 'Unknown') and (SEX_S != 'Unknown') and \"\\\n",
    "                                    \"(AGE_C < 99) and (AGE_S < 99) and \"\\\n",
    "                                    \"(AIR_BAG_DEPLOYMENT_C == AIR_BAG_DEPLOYMENT_S) and \"\\\n",
    "                                    \"(AIR_BAG_DEPLOYMENT_C != 'Deployed') and \"\\\n",
    "                                    \"(MOD_YEAR >= 2000)\",\n",
    "                       image_outputs='3.2 No AirBag 2000+ Model')\n",
    ")\n",
    "res = pm.execute_notebook(\n",
    "       'Template-Model_Years.ipynb',\n",
    "       '3.3_AirBag_ModYear2005.ipynb',\n",
    "       parameters=dict(start_year=1998,\n",
    "                       end_year=2018,\n",
    "                       vehicle_type=vehicle_type,\n",
    "                       base_filter=f\"{vehicle_type} and (SEX_C != 'Unknown') and (SEX_S != 'Unknown') and \"\\\n",
    "                                    \"(AGE_C < 99) and (AGE_S < 99) and \"\\\n",
    "                                    \"(AIR_BAG_DEPLOYMENT_C == AIR_BAG_DEPLOYMENT_S) and \"\\\n",
    "                                    \"(AIR_BAG_DEPLOYMENT_C == 'Deployed') and \"\\\n",
    "                                    \"(MOD_YEAR >= 2005)\",\n",
    "                       image_outputs='3.3 Same AirBag 2005+ Model')\n",
    ")\n",
    "res = pm.execute_notebook(\n",
    "       'Template-Model_Years.ipynb',\n",
    "       '3.4_No_AirBag_ModYear2005.ipynb',\n",
    "       parameters=dict(start_year=1998,\n",
    "                       end_year=2018,\n",
    "                       vehicle_type=vehicle_type,\n",
    "                       base_filter=f\"{vehicle_type} and (SEX_C != 'Unknown') and (SEX_S != 'Unknown') and \"\\\n",
    "                                    \"(AGE_C < 99) and (AGE_S < 99) and \"\\\n",
    "                                    \"(AIR_BAG_DEPLOYMENT_C == AIR_BAG_DEPLOYMENT_S) and \"\\\n",
    "                                    \"(AIR_BAG_DEPLOYMENT_C != 'Deployed') and \"\\\n",
    "                                    \"(MOD_YEAR >= 2005)\",\n",
    "                       image_outputs='3.4 No AirBag 2005+ Model')\n",
    ")"
   ]
  },
  {
   "cell_type": "code",
   "execution_count": null,
   "metadata": {
    "scrolled": true
   },
   "outputs": [],
   "source": [
    "i = 1\n",
    "vehicle_type='PASSENGER_CAR'\n",
    "for modyr in range(1975, 2021):\n",
    "    res = pm.execute_notebook(\n",
    "       'Template-Model_Years.ipynb',\n",
    "       f\"4.{i}_No_AirBag_ModYear{modyr}.ipynb\",\n",
    "       parameters=dict(start_year=1975,\n",
    "                       end_year=2018,\n",
    "                       vehicle_type=vehicle_type,\n",
    "                       base_filter=f\"{vehicle_type} and (SEX_C != 'Unknown') and (SEX_S != 'Unknown') and \"\\\n",
    "                                    \"(AGE_C < 99) and (AGE_S < 99) and \"\\\n",
    "                                    \"(AIR_BAG_DEPLOYMENT_C == AIR_BAG_DEPLOYMENT_S) and \"\\\n",
    "                                    \"(AIR_BAG_DEPLOYMENT_C != 'Deployed') and \"\\\n",
    "                                    f\"(MOD_YEAR == {modyr})\",\n",
    "                       image_outputs=f\"4.{i} No AirBag {modyr} Model\")\n",
    "    )\n",
    "    i = i+1\n"
   ]
  },
  {
   "cell_type": "code",
   "execution_count": null,
   "metadata": {
    "scrolled": true
   },
   "outputs": [
    {
     "data": {
      "application/vnd.jupyter.widget-view+json": {
       "model_id": "f29988f47ab141f8916938ddfea1a253",
       "version_major": 2,
       "version_minor": 0
      },
      "text/plain": [
       "HBox(children=(FloatProgress(value=0.0, description='Executing', max=19.0, style=ProgressStyle(description_wid…"
      ]
     },
     "metadata": {},
     "output_type": "display_data"
    },
    {
     "name": "stdout",
     "output_type": "stream",
     "text": [
      "\n"
     ]
    },
    {
     "data": {
      "application/vnd.jupyter.widget-view+json": {
       "model_id": "afd9299ad1c84125abce68283cd4f441",
       "version_major": 2,
       "version_minor": 0
      },
      "text/plain": [
       "HBox(children=(FloatProgress(value=0.0, description='Executing', max=19.0, style=ProgressStyle(description_wid…"
      ]
     },
     "metadata": {},
     "output_type": "display_data"
    },
    {
     "name": "stdout",
     "output_type": "stream",
     "text": [
      "\n"
     ]
    },
    {
     "data": {
      "application/vnd.jupyter.widget-view+json": {
       "model_id": "2e053b61e11e4d258e4d625c20a82af1",
       "version_major": 2,
       "version_minor": 0
      },
      "text/plain": [
       "HBox(children=(FloatProgress(value=0.0, description='Executing', max=19.0, style=ProgressStyle(description_wid…"
      ]
     },
     "metadata": {},
     "output_type": "display_data"
    },
    {
     "name": "stdout",
     "output_type": "stream",
     "text": [
      "\n"
     ]
    },
    {
     "data": {
      "application/vnd.jupyter.widget-view+json": {
       "model_id": "6f14682c782c40a7885bc1aa37302c4c",
       "version_major": 2,
       "version_minor": 0
      },
      "text/plain": [
       "HBox(children=(FloatProgress(value=0.0, description='Executing', max=19.0, style=ProgressStyle(description_wid…"
      ]
     },
     "metadata": {},
     "output_type": "display_data"
    },
    {
     "name": "stdout",
     "output_type": "stream",
     "text": [
      "\n"
     ]
    },
    {
     "data": {
      "application/vnd.jupyter.widget-view+json": {
       "model_id": "1ecc6aa59968445db010a3eeb7228ffe",
       "version_major": 2,
       "version_minor": 0
      },
      "text/plain": [
       "HBox(children=(FloatProgress(value=0.0, description='Executing', max=19.0, style=ProgressStyle(description_wid…"
      ]
     },
     "metadata": {},
     "output_type": "display_data"
    },
    {
     "name": "stdout",
     "output_type": "stream",
     "text": [
      "\n"
     ]
    },
    {
     "data": {
      "application/vnd.jupyter.widget-view+json": {
       "model_id": "65584b36d04b46b4a81c1661c0726129",
       "version_major": 2,
       "version_minor": 0
      },
      "text/plain": [
       "HBox(children=(FloatProgress(value=0.0, description='Executing', max=19.0, style=ProgressStyle(description_wid…"
      ]
     },
     "metadata": {},
     "output_type": "display_data"
    },
    {
     "name": "stdout",
     "output_type": "stream",
     "text": [
      "\n"
     ]
    },
    {
     "data": {
      "application/vnd.jupyter.widget-view+json": {
       "model_id": "876eaba2e8b345cf95478941ff30747a",
       "version_major": 2,
       "version_minor": 0
      },
      "text/plain": [
       "HBox(children=(FloatProgress(value=0.0, description='Executing', max=19.0, style=ProgressStyle(description_wid…"
      ]
     },
     "metadata": {},
     "output_type": "display_data"
    },
    {
     "name": "stdout",
     "output_type": "stream",
     "text": [
      "\n"
     ]
    },
    {
     "data": {
      "application/vnd.jupyter.widget-view+json": {
       "model_id": "6a3eddcb763240f3b460f576a3fe6d7c",
       "version_major": 2,
       "version_minor": 0
      },
      "text/plain": [
       "HBox(children=(FloatProgress(value=0.0, description='Executing', max=19.0, style=ProgressStyle(description_wid…"
      ]
     },
     "metadata": {},
     "output_type": "display_data"
    },
    {
     "name": "stdout",
     "output_type": "stream",
     "text": [
      "\n"
     ]
    },
    {
     "data": {
      "application/vnd.jupyter.widget-view+json": {
       "model_id": "756a2abeba2644c6bd9bf971fe783645",
       "version_major": 2,
       "version_minor": 0
      },
      "text/plain": [
       "HBox(children=(FloatProgress(value=0.0, description='Executing', max=19.0, style=ProgressStyle(description_wid…"
      ]
     },
     "metadata": {},
     "output_type": "display_data"
    },
    {
     "name": "stdout",
     "output_type": "stream",
     "text": [
      "\n"
     ]
    },
    {
     "data": {
      "application/vnd.jupyter.widget-view+json": {
       "model_id": "78ac75b9987c4751ba93fbf41ca3014d",
       "version_major": 2,
       "version_minor": 0
      },
      "text/plain": [
       "HBox(children=(FloatProgress(value=0.0, description='Executing', max=19.0, style=ProgressStyle(description_wid…"
      ]
     },
     "metadata": {},
     "output_type": "display_data"
    },
    {
     "name": "stdout",
     "output_type": "stream",
     "text": [
      "\n"
     ]
    },
    {
     "data": {
      "application/vnd.jupyter.widget-view+json": {
       "model_id": "5d6eafee600a46bfa27fcd68c388a229",
       "version_major": 2,
       "version_minor": 0
      },
      "text/plain": [
       "HBox(children=(FloatProgress(value=0.0, description='Executing', max=19.0, style=ProgressStyle(description_wid…"
      ]
     },
     "metadata": {},
     "output_type": "display_data"
    },
    {
     "name": "stdout",
     "output_type": "stream",
     "text": [
      "\n"
     ]
    },
    {
     "data": {
      "application/vnd.jupyter.widget-view+json": {
       "model_id": "811faaf1cef0471ca90cd9f1b62668f7",
       "version_major": 2,
       "version_minor": 0
      },
      "text/plain": [
       "HBox(children=(FloatProgress(value=0.0, description='Executing', max=19.0, style=ProgressStyle(description_wid…"
      ]
     },
     "metadata": {},
     "output_type": "display_data"
    },
    {
     "name": "stdout",
     "output_type": "stream",
     "text": [
      "\n"
     ]
    },
    {
     "data": {
      "application/vnd.jupyter.widget-view+json": {
       "model_id": "81272c0ec3294ed189becf436d7deef8",
       "version_major": 2,
       "version_minor": 0
      },
      "text/plain": [
       "HBox(children=(FloatProgress(value=0.0, description='Executing', max=19.0, style=ProgressStyle(description_wid…"
      ]
     },
     "metadata": {},
     "output_type": "display_data"
    },
    {
     "name": "stdout",
     "output_type": "stream",
     "text": [
      "\n"
     ]
    },
    {
     "data": {
      "application/vnd.jupyter.widget-view+json": {
       "model_id": "c6b41714270b4daba947b40c13266469",
       "version_major": 2,
       "version_minor": 0
      },
      "text/plain": [
       "HBox(children=(FloatProgress(value=0.0, description='Executing', max=19.0, style=ProgressStyle(description_wid…"
      ]
     },
     "metadata": {},
     "output_type": "display_data"
    },
    {
     "name": "stdout",
     "output_type": "stream",
     "text": [
      "\n"
     ]
    },
    {
     "data": {
      "application/vnd.jupyter.widget-view+json": {
       "model_id": "033b29d18a6b4292ad343dc97819bbcd",
       "version_major": 2,
       "version_minor": 0
      },
      "text/plain": [
       "HBox(children=(FloatProgress(value=0.0, description='Executing', max=19.0, style=ProgressStyle(description_wid…"
      ]
     },
     "metadata": {},
     "output_type": "display_data"
    },
    {
     "name": "stdout",
     "output_type": "stream",
     "text": [
      "\n"
     ]
    },
    {
     "data": {
      "application/vnd.jupyter.widget-view+json": {
       "model_id": "f1524bb25e7149b3b50243b76d67832d",
       "version_major": 2,
       "version_minor": 0
      },
      "text/plain": [
       "HBox(children=(FloatProgress(value=0.0, description='Executing', max=19.0, style=ProgressStyle(description_wid…"
      ]
     },
     "metadata": {},
     "output_type": "display_data"
    },
    {
     "name": "stdout",
     "output_type": "stream",
     "text": [
      "\n"
     ]
    },
    {
     "data": {
      "application/vnd.jupyter.widget-view+json": {
       "model_id": "409016576a7c4634ba230188e35b6b2a",
       "version_major": 2,
       "version_minor": 0
      },
      "text/plain": [
       "HBox(children=(FloatProgress(value=0.0, description='Executing', max=19.0, style=ProgressStyle(description_wid…"
      ]
     },
     "metadata": {},
     "output_type": "display_data"
    },
    {
     "name": "stdout",
     "output_type": "stream",
     "text": [
      "\n"
     ]
    },
    {
     "data": {
      "application/vnd.jupyter.widget-view+json": {
       "model_id": "74c066092c6c41a5abb7de6b475d7a4e",
       "version_major": 2,
       "version_minor": 0
      },
      "text/plain": [
       "HBox(children=(FloatProgress(value=0.0, description='Executing', max=19.0, style=ProgressStyle(description_wid…"
      ]
     },
     "metadata": {},
     "output_type": "display_data"
    },
    {
     "name": "stdout",
     "output_type": "stream",
     "text": [
      "\n"
     ]
    },
    {
     "data": {
      "application/vnd.jupyter.widget-view+json": {
       "model_id": "224c6640acb041b883b9583d61196546",
       "version_major": 2,
       "version_minor": 0
      },
      "text/plain": [
       "HBox(children=(FloatProgress(value=0.0, description='Executing', max=19.0, style=ProgressStyle(description_wid…"
      ]
     },
     "metadata": {},
     "output_type": "display_data"
    },
    {
     "name": "stdout",
     "output_type": "stream",
     "text": [
      "\n"
     ]
    },
    {
     "data": {
      "application/vnd.jupyter.widget-view+json": {
       "model_id": "196584526ceb42589c2d0936efcb826f",
       "version_major": 2,
       "version_minor": 0
      },
      "text/plain": [
       "HBox(children=(FloatProgress(value=0.0, description='Executing', max=19.0, style=ProgressStyle(description_wid…"
      ]
     },
     "metadata": {},
     "output_type": "display_data"
    },
    {
     "name": "stdout",
     "output_type": "stream",
     "text": [
      "\n"
     ]
    },
    {
     "data": {
      "application/vnd.jupyter.widget-view+json": {
       "model_id": "886af12a0a6d44ba9493ad6fe5676fa1",
       "version_major": 2,
       "version_minor": 0
      },
      "text/plain": [
       "HBox(children=(FloatProgress(value=0.0, description='Executing', max=19.0, style=ProgressStyle(description_wid…"
      ]
     },
     "metadata": {},
     "output_type": "display_data"
    },
    {
     "name": "stdout",
     "output_type": "stream",
     "text": [
      "\n"
     ]
    },
    {
     "data": {
      "application/vnd.jupyter.widget-view+json": {
       "model_id": "cfd5743d11cd45cabdb1c44f1567b317",
       "version_major": 2,
       "version_minor": 0
      },
      "text/plain": [
       "HBox(children=(FloatProgress(value=0.0, description='Executing', max=19.0, style=ProgressStyle(description_wid…"
      ]
     },
     "metadata": {},
     "output_type": "display_data"
    },
    {
     "name": "stdout",
     "output_type": "stream",
     "text": [
      "\n"
     ]
    },
    {
     "data": {
      "application/vnd.jupyter.widget-view+json": {
       "model_id": "ed27c4b8de294a0b933c19285bb2ebdd",
       "version_major": 2,
       "version_minor": 0
      },
      "text/plain": [
       "HBox(children=(FloatProgress(value=0.0, description='Executing', max=19.0, style=ProgressStyle(description_wid…"
      ]
     },
     "metadata": {},
     "output_type": "display_data"
    },
    {
     "name": "stdout",
     "output_type": "stream",
     "text": [
      "\n"
     ]
    },
    {
     "data": {
      "application/vnd.jupyter.widget-view+json": {
       "model_id": "7e728b5175b1452bbeda402d5cd0e783",
       "version_major": 2,
       "version_minor": 0
      },
      "text/plain": [
       "HBox(children=(FloatProgress(value=0.0, description='Executing', max=19.0, style=ProgressStyle(description_wid…"
      ]
     },
     "metadata": {},
     "output_type": "display_data"
    },
    {
     "name": "stdout",
     "output_type": "stream",
     "text": [
      "\n"
     ]
    },
    {
     "data": {
      "application/vnd.jupyter.widget-view+json": {
       "model_id": "c9e2e824ef044be783f0528276fcb167",
       "version_major": 2,
       "version_minor": 0
      },
      "text/plain": [
       "HBox(children=(FloatProgress(value=0.0, description='Executing', max=19.0, style=ProgressStyle(description_wid…"
      ]
     },
     "metadata": {},
     "output_type": "display_data"
    },
    {
     "name": "stdout",
     "output_type": "stream",
     "text": [
      "\n"
     ]
    },
    {
     "data": {
      "application/vnd.jupyter.widget-view+json": {
       "model_id": "7404de14b5be492dba618289143bc3ad",
       "version_major": 2,
       "version_minor": 0
      },
      "text/plain": [
       "HBox(children=(FloatProgress(value=0.0, description='Executing', max=19.0, style=ProgressStyle(description_wid…"
      ]
     },
     "metadata": {},
     "output_type": "display_data"
    }
   ],
   "source": [
    "i = 0\n",
    "vehicle_type='PASSENGER_CAR'\n",
    "for modyr in range(1980, 2021):\n",
    "    i = i + 1\n",
    "    try:\n",
    "        res = pm.execute_notebook(\n",
    "           'Template-Model_Years.ipynb',\n",
    "           f\"5.{i}_AirBag_ModYear{modyr}.ipynb\",\n",
    "           parameters=dict(start_year=1975,\n",
    "                           end_year=2018,\n",
    "                           vehicle_type=vehicle_type,\n",
    "                           base_filter=f\"{vehicle_type} and (SEX_C != 'Unknown') and (SEX_S != 'Unknown') and \"\\\n",
    "                                        \"(AGE_C < 99) and (AGE_S < 99) and \"\\\n",
    "                                        \"(AIR_BAG_DEPLOYMENT_C == AIR_BAG_DEPLOYMENT_S) and \"\\\n",
    "                                        \"(AIR_BAG_DEPLOYMENT_C == 'Deployed') and \"\\\n",
    "                                        f\"(MOD_YEAR == {modyr})\",\n",
    "                           image_outputs=f\"5.{i} AirBag {modyr} Model\")\n",
    "        )\n",
    "    except:\n",
    "        continue"
   ]
  },
  {
   "cell_type": "code",
   "execution_count": 2,
   "metadata": {},
   "outputs": [
    {
     "data": {
      "application/vnd.jupyter.widget-view+json": {
       "model_id": "22829defadb24cc195ee0c10c37d9bd4",
       "version_major": 2,
       "version_minor": 0
      },
      "text/plain": [
       "HBox(children=(FloatProgress(value=0.0, description='Executing', max=19.0, style=ProgressStyle(description_wid…"
      ]
     },
     "metadata": {},
     "output_type": "display_data"
    },
    {
     "name": "stdout",
     "output_type": "stream",
     "text": [
      "\n"
     ]
    },
    {
     "data": {
      "application/vnd.jupyter.widget-view+json": {
       "model_id": "c1144568fa4b4becab11c81bf3d938e7",
       "version_major": 2,
       "version_minor": 0
      },
      "text/plain": [
       "HBox(children=(FloatProgress(value=0.0, description='Executing', max=19.0, style=ProgressStyle(description_wid…"
      ]
     },
     "metadata": {},
     "output_type": "display_data"
    },
    {
     "name": "stdout",
     "output_type": "stream",
     "text": [
      "\n"
     ]
    },
    {
     "data": {
      "application/vnd.jupyter.widget-view+json": {
       "model_id": "7ea851e137244436abea9669bc87c1f6",
       "version_major": 2,
       "version_minor": 0
      },
      "text/plain": [
       "HBox(children=(FloatProgress(value=0.0, description='Executing', max=19.0, style=ProgressStyle(description_wid…"
      ]
     },
     "metadata": {},
     "output_type": "display_data"
    },
    {
     "name": "stdout",
     "output_type": "stream",
     "text": [
      "\n"
     ]
    },
    {
     "data": {
      "application/vnd.jupyter.widget-view+json": {
       "model_id": "05333f4114c446119429f25b1d6af656",
       "version_major": 2,
       "version_minor": 0
      },
      "text/plain": [
       "HBox(children=(FloatProgress(value=0.0, description='Executing', max=19.0, style=ProgressStyle(description_wid…"
      ]
     },
     "metadata": {},
     "output_type": "display_data"
    },
    {
     "name": "stdout",
     "output_type": "stream",
     "text": [
      "\n"
     ]
    },
    {
     "data": {
      "application/vnd.jupyter.widget-view+json": {
       "model_id": "c724d4cdeba54ccd8368836e3abe7271",
       "version_major": 2,
       "version_minor": 0
      },
      "text/plain": [
       "HBox(children=(FloatProgress(value=0.0, description='Executing', max=19.0, style=ProgressStyle(description_wid…"
      ]
     },
     "metadata": {},
     "output_type": "display_data"
    },
    {
     "name": "stdout",
     "output_type": "stream",
     "text": [
      "\n"
     ]
    },
    {
     "data": {
      "application/vnd.jupyter.widget-view+json": {
       "model_id": "cc6cc6528b6646968d26b6b0e70bf80c",
       "version_major": 2,
       "version_minor": 0
      },
      "text/plain": [
       "HBox(children=(FloatProgress(value=0.0, description='Executing', max=19.0, style=ProgressStyle(description_wid…"
      ]
     },
     "metadata": {},
     "output_type": "display_data"
    },
    {
     "name": "stdout",
     "output_type": "stream",
     "text": [
      "\n"
     ]
    }
   ],
   "source": [
    "vehicle_type='PASSENGER_CAR'\n",
    "res = pm.execute_notebook(\n",
    "       'Template-Model_Years.ipynb',\n",
    "       f\"6.1_AirBag_ModYear1990-1994.ipynb\",\n",
    "       parameters=dict(start_year=1975,\n",
    "                       end_year=2018,\n",
    "                       vehicle_type=vehicle_type,\n",
    "                       base_filter=f\"{vehicle_type} and (SEX_C != 'Unknown') and (SEX_S != 'Unknown') and \"\\\n",
    "                                    \"(AGE_C < 99) and (AGE_S < 99) and \"\\\n",
    "                                    \"(AIR_BAG_DEPLOYMENT_C == AIR_BAG_DEPLOYMENT_S) and \"\\\n",
    "                                    \"(AIR_BAG_DEPLOYMENT_C == 'Deployed') and \"\\\n",
    "                                    f\"(1990 <= MOD_YEAR < 1995)\",\n",
    "                       image_outputs=f\"6.1 AirBag 90-94 Model\")\n",
    "    )\n",
    "res = pm.execute_notebook(\n",
    "       'Template-Model_Years.ipynb',\n",
    "       f\"6.2_AirBag_ModYear1995-1999.ipynb\",\n",
    "       parameters=dict(start_year=1975,\n",
    "                       end_year=2018,\n",
    "                       vehicle_type=vehicle_type,\n",
    "                       base_filter=f\"{vehicle_type} and (SEX_C != 'Unknown') and (SEX_S != 'Unknown') and \"\\\n",
    "                                    \"(AGE_C < 99) and (AGE_S < 99) and \"\\\n",
    "                                    \"(AIR_BAG_DEPLOYMENT_C == AIR_BAG_DEPLOYMENT_S) and \"\\\n",
    "                                    \"(AIR_BAG_DEPLOYMENT_C == 'Deployed') and \"\\\n",
    "                                    f\"(1995 <= MOD_YEAR < 2000)\",\n",
    "                       image_outputs=f\"6.2 AirBag 95-99 Model\")\n",
    "    )\n",
    "res = pm.execute_notebook(\n",
    "       'Template-Model_Years.ipynb',\n",
    "       f\"6.3_AirBag_ModYear2000-2004.ipynb\",\n",
    "       parameters=dict(start_year=1975,\n",
    "                       end_year=2018,\n",
    "                       vehicle_type=vehicle_type,\n",
    "                       base_filter=f\"{vehicle_type} and (SEX_C != 'Unknown') and (SEX_S != 'Unknown') and \"\\\n",
    "                                    \"(AGE_C < 99) and (AGE_S < 99) and \"\\\n",
    "                                    \"(AIR_BAG_DEPLOYMENT_C == AIR_BAG_DEPLOYMENT_S) and \"\\\n",
    "                                    \"(AIR_BAG_DEPLOYMENT_C == 'Deployed') and \"\\\n",
    "                                    f\"(2000 <= MOD_YEAR < 2005)\",\n",
    "                       image_outputs=f\"6.3 AirBag 00-04 Model\")\n",
    "    )\n",
    "res = pm.execute_notebook(\n",
    "       'Template-Model_Years.ipynb',\n",
    "       f\"6.4_AirBag_ModYear2005-2009.ipynb\",\n",
    "       parameters=dict(start_year=1975,\n",
    "                       end_year=2018,\n",
    "                       vehicle_type=vehicle_type,\n",
    "                       base_filter=f\"{vehicle_type} and (SEX_C != 'Unknown') and (SEX_S != 'Unknown') and \"\\\n",
    "                                    \"(AGE_C < 99) and (AGE_S < 99) and \"\\\n",
    "                                    \"(AIR_BAG_DEPLOYMENT_C == AIR_BAG_DEPLOYMENT_S) and \"\\\n",
    "                                    \"(AIR_BAG_DEPLOYMENT_C == 'Deployed') and \"\\\n",
    "                                    f\"(2005 <= MOD_YEAR < 2010)\",\n",
    "                       image_outputs=f\"6.4 AirBag 05-09 Model\")\n",
    "    )\n",
    "res = pm.execute_notebook(\n",
    "       'Template-Model_Years.ipynb',\n",
    "       f\"6.5_AirBag_ModYear2010-2014.ipynb\",\n",
    "       parameters=dict(start_year=1975,\n",
    "                       end_year=2018,\n",
    "                       vehicle_type=vehicle_type,\n",
    "                       base_filter=f\"{vehicle_type} and (SEX_C != 'Unknown') and (SEX_S != 'Unknown') and \"\\\n",
    "                                    \"(AGE_C < 99) and (AGE_S < 99) and \"\\\n",
    "                                    \"(AIR_BAG_DEPLOYMENT_C == AIR_BAG_DEPLOYMENT_S) and \"\\\n",
    "                                    \"(AIR_BAG_DEPLOYMENT_C == 'Deployed') and \"\\\n",
    "                                    f\"(2010 <= MOD_YEAR < 2015)\",\n",
    "                       image_outputs=f\"6.5 AirBag 10-14 Model\")\n",
    "    )\n",
    "res = pm.execute_notebook(\n",
    "       'Template-Model_Years.ipynb',\n",
    "       f\"6.6_AirBag_ModYear2015-.ipynb\",\n",
    "       parameters=dict(start_year=1975,\n",
    "                       end_year=2018,\n",
    "                       vehicle_type=vehicle_type,\n",
    "                       base_filter=f\"{vehicle_type} and (SEX_C != 'Unknown') and (SEX_S != 'Unknown') and \"\\\n",
    "                                    \"(AGE_C < 99) and (AGE_S < 99) and \"\\\n",
    "                                    \"(AIR_BAG_DEPLOYMENT_C == AIR_BAG_DEPLOYMENT_S) and \"\\\n",
    "                                    \"(AIR_BAG_DEPLOYMENT_C == 'Deployed') and \"\\\n",
    "                                    f\"(2015 <= MOD_YEAR)\",\n",
    "                       image_outputs=f\"6.6 AirBag 15+ Model\")\n",
    "    )"
   ]
  },
  {
   "cell_type": "code",
   "execution_count": 13,
   "metadata": {},
   "outputs": [
    {
     "data": {
      "application/vnd.jupyter.widget-view+json": {
       "model_id": "1ee8a22f57e345c0870bccabba3642aa",
       "version_major": 2,
       "version_minor": 0
      },
      "text/plain": [
       "HBox(children=(FloatProgress(value=0.0, description='Executing', max=32.0, style=ProgressStyle(description_wid…"
      ]
     },
     "metadata": {},
     "output_type": "display_data"
    },
    {
     "name": "stdout",
     "output_type": "stream",
     "text": [
      "\n"
     ]
    },
    {
     "data": {
      "application/vnd.jupyter.widget-view+json": {
       "model_id": "d5e1b01bdaed47cc9c7f3367ec89f7cf",
       "version_major": 2,
       "version_minor": 0
      },
      "text/plain": [
       "HBox(children=(FloatProgress(value=0.0, description='Executing', max=32.0, style=ProgressStyle(description_wid…"
      ]
     },
     "metadata": {},
     "output_type": "display_data"
    },
    {
     "name": "stdout",
     "output_type": "stream",
     "text": [
      "\n"
     ]
    },
    {
     "data": {
      "application/vnd.jupyter.widget-view+json": {
       "model_id": "3dd5c437c965456faf9a2483e63edabd",
       "version_major": 2,
       "version_minor": 0
      },
      "text/plain": [
       "HBox(children=(FloatProgress(value=0.0, description='Executing', max=32.0, style=ProgressStyle(description_wid…"
      ]
     },
     "metadata": {},
     "output_type": "display_data"
    },
    {
     "name": "stdout",
     "output_type": "stream",
     "text": [
      "\n"
     ]
    },
    {
     "data": {
      "application/vnd.jupyter.widget-view+json": {
       "model_id": "b61f40d24fba4b55ad33b58b3b390107",
       "version_major": 2,
       "version_minor": 0
      },
      "text/plain": [
       "HBox(children=(FloatProgress(value=0.0, description='Executing', max=32.0, style=ProgressStyle(description_wid…"
      ]
     },
     "metadata": {},
     "output_type": "display_data"
    },
    {
     "name": "stdout",
     "output_type": "stream",
     "text": [
      "\n"
     ]
    },
    {
     "data": {
      "application/vnd.jupyter.widget-view+json": {
       "model_id": "4e46f519d85449299226cd12e5827f66",
       "version_major": 2,
       "version_minor": 0
      },
      "text/plain": [
       "HBox(children=(FloatProgress(value=0.0, description='Executing', max=32.0, style=ProgressStyle(description_wid…"
      ]
     },
     "metadata": {},
     "output_type": "display_data"
    },
    {
     "name": "stdout",
     "output_type": "stream",
     "text": [
      "\n"
     ]
    }
   ],
   "source": [
    "res = pm.execute_notebook(\n",
    "       'Template-noAirBag.ipynb',\n",
    "       '7.1_Evans_1975-1998.ipynb',\n",
    "       parameters=dict(start_year=1975,\n",
    "                       end_year=1998,\n",
    "                       image_outputs='7.1 Evans_75-98')\n",
    ")\n",
    "res = pm.execute_notebook(\n",
    "       'Template-noAirBag.ipynb',\n",
    "       '7.2_1999-2018.ipynb',\n",
    "       parameters=dict(start_year=1999,\n",
    "                       end_year=2018,\n",
    "                       image_outputs='7.2 1999-2018')\n",
    ")\n",
    "res = pm.execute_notebook(\n",
    "       'Template-noAirBag.ipynb',\n",
    "       '7.3_1975-2018.ipynb',\n",
    "       parameters=dict(start_year=1975,\n",
    "                       end_year=2018,\n",
    "                       image_outputs='7.3 1975-2018')\n",
    ")\n",
    "res = pm.execute_notebook(\n",
    "       'Template-noAirBag.ipynb',\n",
    "       '7.4_2010-2018.ipynb',\n",
    "       parameters=dict(start_year=2010,\n",
    "                       end_year=2018,\n",
    "                       image_outputs='7.4 2010-2018')\n",
    ")\n",
    "res = pm.execute_notebook(\n",
    "       'Template-noAirBag.ipynb',\n",
    "       '7.5_2015-2018.ipynb',\n",
    "       parameters=dict(start_year=2015,\n",
    "                       end_year=2018,\n",
    "                       image_outputs='7.5 2015-2018')\n",
    ")"
   ]
  },
  {
   "cell_type": "code",
   "execution_count": null,
   "metadata": {},
   "outputs": [],
   "source": []
  }
 ],
 "metadata": {
  "kernelspec": {
   "display_name": "fars",
   "language": "python",
   "name": "fars"
  },
  "language_info": {
   "codemirror_mode": {
    "name": "ipython",
    "version": 3
   },
   "file_extension": ".py",
   "mimetype": "text/x-python",
   "name": "python",
   "nbconvert_exporter": "python",
   "pygments_lexer": "ipython3",
   "version": "3.7.7"
  }
 },
 "nbformat": 4,
 "nbformat_minor": 4
}
